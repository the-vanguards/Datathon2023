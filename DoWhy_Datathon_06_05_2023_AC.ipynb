{
  "cells": [
    {
      "cell_type": "code",
      "execution_count": null,
      "metadata": {
        "colab": {
          "base_uri": "https://localhost:8080/"
        },
        "id": "0jg6P4xLf5U8",
        "outputId": "d9c29fc4-de7c-490d-900c-f60483dcad40"
      },
      "outputs": [
        {
          "output_type": "stream",
          "name": "stdout",
          "text": [
            "Mounted at /content/drive\n"
          ]
        }
      ],
      "source": [
        "drive.mount('/content/drive')"
      ]
    },
    {
      "cell_type": "markdown",
      "metadata": {
        "id": "AR3JmKeaIomf"
      },
      "source": [
        "#loading package"
      ]
    },
    {
      "cell_type": "code",
      "execution_count": null,
      "metadata": {
        "colab": {
          "base_uri": "https://localhost:8080/",
          "height": 1000
        },
        "id": "7mu0vFidlQEK",
        "outputId": "6163397d-3edb-46cf-b7b3-a4b5a45bced4"
      },
      "outputs": [
        {
          "output_type": "stream",
          "name": "stdout",
          "text": [
            "Looking in indexes: https://pypi.org/simple, https://us-python.pkg.dev/colab-wheels/public/simple/\n",
            "Collecting git+https://github.com/microsoft/dowhy.git\n",
            "  Cloning https://github.com/microsoft/dowhy.git to /tmp/pip-req-build-b6myrbga\n",
            "  Running command git clone --filter=blob:none --quiet https://github.com/microsoft/dowhy.git /tmp/pip-req-build-b6myrbga\n",
            "  Resolved https://github.com/microsoft/dowhy.git to commit cff72a84bf6da6cebf303dbb65b031c839f1d344\n",
            "  Installing build dependencies ... \u001b[?25l\u001b[?25hdone\n",
            "  Getting requirements to build wheel ... \u001b[?25l\u001b[?25hdone\n",
            "  Preparing metadata (pyproject.toml) ... \u001b[?25l\u001b[?25hdone\n",
            "Collecting causal-learn<0.2.0.0,>=0.1.3.0 (from dowhy==0.0.0)\n",
            "  Downloading causal_learn-0.1.3.3-py3-none-any.whl (172 kB)\n",
            "\u001b[2K     \u001b[90m━━━━━━━━━━━━━━━━━━━━━━━━━━━━━━━━━━━━━━━\u001b[0m \u001b[32m172.9/172.9 kB\u001b[0m \u001b[31m4.4 MB/s\u001b[0m eta \u001b[36m0:00:00\u001b[0m\n",
            "\u001b[?25hRequirement already satisfied: cvxpy<2.0.0,>=1.2.2 in /usr/local/lib/python3.10/dist-packages (from dowhy==0.0.0) (1.3.1)\n",
            "Requirement already satisfied: cython<0.30.0,>=0.29.32 in /usr/local/lib/python3.10/dist-packages (from dowhy==0.0.0) (0.29.34)\n",
            "Requirement already satisfied: joblib<2.0.0,>=1.1.0 in /usr/local/lib/python3.10/dist-packages (from dowhy==0.0.0) (1.2.0)\n",
            "Collecting networkx<3.0.0,>=2.8.5 (from dowhy==0.0.0)\n",
            "  Downloading networkx-2.8.8-py3-none-any.whl (2.0 MB)\n",
            "\u001b[2K     \u001b[90m━━━━━━━━━━━━━━━━━━━━━━━━━━━━━━━━━━━━━━━━\u001b[0m \u001b[32m2.0/2.0 MB\u001b[0m \u001b[31m35.7 MB/s\u001b[0m eta \u001b[36m0:00:00\u001b[0m\n",
            "\u001b[?25hCollecting numpy==1.23.1 (from dowhy==0.0.0)\n",
            "  Downloading numpy-1.23.1-cp310-cp310-manylinux_2_17_x86_64.manylinux2014_x86_64.whl (17.0 MB)\n",
            "\u001b[2K     \u001b[90m━━━━━━━━━━━━━━━━━━━━━━━━━━━━━━━━━━━━━━━━\u001b[0m \u001b[32m17.0/17.0 MB\u001b[0m \u001b[31m18.7 MB/s\u001b[0m eta \u001b[36m0:00:00\u001b[0m\n",
            "\u001b[?25hRequirement already satisfied: pandas<2.0.0,>=1.4.3 in /usr/local/lib/python3.10/dist-packages (from dowhy==0.0.0) (1.5.3)\n",
            "Collecting scikit-learn<1.2.0 (from dowhy==0.0.0)\n",
            "  Downloading scikit_learn-1.1.3-cp310-cp310-manylinux_2_17_x86_64.manylinux2014_x86_64.whl (30.5 MB)\n",
            "\u001b[2K     \u001b[90m━━━━━━━━━━━━━━━━━━━━━━━━━━━━━━━━━━━━━━━━\u001b[0m \u001b[32m30.5/30.5 MB\u001b[0m \u001b[31m7.9 MB/s\u001b[0m eta \u001b[36m0:00:00\u001b[0m\n",
            "\u001b[?25hRequirement already satisfied: scipy<2.0.0,>=1.8.1 in /usr/local/lib/python3.10/dist-packages (from dowhy==0.0.0) (1.10.1)\n",
            "Collecting sphinx_design<0.4.0,>=0.3.0 (from dowhy==0.0.0)\n",
            "  Downloading sphinx_design-0.3.0-py3-none-any.whl (2.2 MB)\n",
            "\u001b[2K     \u001b[90m━━━━━━━━━━━━━━━━━━━━━━━━━━━━━━━━━━━━━━━━\u001b[0m \u001b[32m2.2/2.2 MB\u001b[0m \u001b[31m32.3 MB/s\u001b[0m eta \u001b[36m0:00:00\u001b[0m\n",
            "\u001b[?25hRequirement already satisfied: statsmodels<0.14.0,>=0.13.2 in /usr/local/lib/python3.10/dist-packages (from dowhy==0.0.0) (0.13.5)\n",
            "Requirement already satisfied: sympy<2.0.0,>=1.10.1 in /usr/local/lib/python3.10/dist-packages (from dowhy==0.0.0) (1.11.1)\n",
            "Requirement already satisfied: tqdm<5.0.0,>=4.64.0 in /usr/local/lib/python3.10/dist-packages (from dowhy==0.0.0) (4.65.0)\n",
            "Requirement already satisfied: graphviz in /usr/local/lib/python3.10/dist-packages (from causal-learn<0.2.0.0,>=0.1.3.0->dowhy==0.0.0) (0.20.1)\n",
            "Requirement already satisfied: matplotlib in /usr/local/lib/python3.10/dist-packages (from causal-learn<0.2.0.0,>=0.1.3.0->dowhy==0.0.0) (3.7.1)\n",
            "Requirement already satisfied: pydot in /usr/local/lib/python3.10/dist-packages (from causal-learn<0.2.0.0,>=0.1.3.0->dowhy==0.0.0) (1.4.2)\n",
            "Requirement already satisfied: osqp>=0.4.1 in /usr/local/lib/python3.10/dist-packages (from cvxpy<2.0.0,>=1.2.2->dowhy==0.0.0) (0.6.2.post8)\n",
            "Requirement already satisfied: ecos>=2 in /usr/local/lib/python3.10/dist-packages (from cvxpy<2.0.0,>=1.2.2->dowhy==0.0.0) (2.0.12)\n",
            "Requirement already satisfied: scs>=1.1.6 in /usr/local/lib/python3.10/dist-packages (from cvxpy<2.0.0,>=1.2.2->dowhy==0.0.0) (3.2.3)\n",
            "Requirement already satisfied: setuptools>65.5.1 in /usr/local/lib/python3.10/dist-packages (from cvxpy<2.0.0,>=1.2.2->dowhy==0.0.0) (67.7.2)\n",
            "Requirement already satisfied: python-dateutil>=2.8.1 in /usr/local/lib/python3.10/dist-packages (from pandas<2.0.0,>=1.4.3->dowhy==0.0.0) (2.8.2)\n",
            "Requirement already satisfied: pytz>=2020.1 in /usr/local/lib/python3.10/dist-packages (from pandas<2.0.0,>=1.4.3->dowhy==0.0.0) (2022.7.1)\n",
            "Requirement already satisfied: threadpoolctl>=2.0.0 in /usr/local/lib/python3.10/dist-packages (from scikit-learn<1.2.0->dowhy==0.0.0) (3.1.0)\n",
            "Collecting sphinx<6,>=4 (from sphinx_design<0.4.0,>=0.3.0->dowhy==0.0.0)\n",
            "  Downloading sphinx-5.3.0-py3-none-any.whl (3.2 MB)\n",
            "\u001b[2K     \u001b[90m━━━━━━━━━━━━━━━━━━━━━━━━━━━━━━━━━━━━━━━━\u001b[0m \u001b[32m3.2/3.2 MB\u001b[0m \u001b[31m57.4 MB/s\u001b[0m eta \u001b[36m0:00:00\u001b[0m\n",
            "\u001b[?25hRequirement already satisfied: patsy>=0.5.2 in /usr/local/lib/python3.10/dist-packages (from statsmodels<0.14.0,>=0.13.2->dowhy==0.0.0) (0.5.3)\n",
            "Requirement already satisfied: packaging>=21.3 in /usr/local/lib/python3.10/dist-packages (from statsmodels<0.14.0,>=0.13.2->dowhy==0.0.0) (23.1)\n",
            "Requirement already satisfied: mpmath>=0.19 in /usr/local/lib/python3.10/dist-packages (from sympy<2.0.0,>=1.10.1->dowhy==0.0.0) (1.3.0)\n",
            "Requirement already satisfied: qdldl in /usr/local/lib/python3.10/dist-packages (from osqp>=0.4.1->cvxpy<2.0.0,>=1.2.2->dowhy==0.0.0) (0.1.7)\n",
            "Requirement already satisfied: six in /usr/local/lib/python3.10/dist-packages (from patsy>=0.5.2->statsmodels<0.14.0,>=0.13.2->dowhy==0.0.0) (1.16.0)\n",
            "Requirement already satisfied: sphinxcontrib-applehelp in /usr/local/lib/python3.10/dist-packages (from sphinx<6,>=4->sphinx_design<0.4.0,>=0.3.0->dowhy==0.0.0) (1.0.4)\n",
            "Requirement already satisfied: sphinxcontrib-devhelp in /usr/local/lib/python3.10/dist-packages (from sphinx<6,>=4->sphinx_design<0.4.0,>=0.3.0->dowhy==0.0.0) (1.0.2)\n",
            "Requirement already satisfied: sphinxcontrib-jsmath in /usr/local/lib/python3.10/dist-packages (from sphinx<6,>=4->sphinx_design<0.4.0,>=0.3.0->dowhy==0.0.0) (1.0.1)\n",
            "Requirement already satisfied: sphinxcontrib-htmlhelp>=2.0.0 in /usr/local/lib/python3.10/dist-packages (from sphinx<6,>=4->sphinx_design<0.4.0,>=0.3.0->dowhy==0.0.0) (2.0.1)\n",
            "Requirement already satisfied: sphinxcontrib-serializinghtml>=1.1.5 in /usr/local/lib/python3.10/dist-packages (from sphinx<6,>=4->sphinx_design<0.4.0,>=0.3.0->dowhy==0.0.0) (1.1.5)\n",
            "Requirement already satisfied: sphinxcontrib-qthelp in /usr/local/lib/python3.10/dist-packages (from sphinx<6,>=4->sphinx_design<0.4.0,>=0.3.0->dowhy==0.0.0) (1.0.3)\n",
            "Requirement already satisfied: Jinja2>=3.0 in /usr/local/lib/python3.10/dist-packages (from sphinx<6,>=4->sphinx_design<0.4.0,>=0.3.0->dowhy==0.0.0) (3.1.2)\n",
            "Requirement already satisfied: Pygments>=2.12 in /usr/local/lib/python3.10/dist-packages (from sphinx<6,>=4->sphinx_design<0.4.0,>=0.3.0->dowhy==0.0.0) (2.14.0)\n",
            "Requirement already satisfied: docutils<0.20,>=0.14 in /usr/local/lib/python3.10/dist-packages (from sphinx<6,>=4->sphinx_design<0.4.0,>=0.3.0->dowhy==0.0.0) (0.16)\n",
            "Requirement already satisfied: snowballstemmer>=2.0 in /usr/local/lib/python3.10/dist-packages (from sphinx<6,>=4->sphinx_design<0.4.0,>=0.3.0->dowhy==0.0.0) (2.2.0)\n",
            "Requirement already satisfied: babel>=2.9 in /usr/local/lib/python3.10/dist-packages (from sphinx<6,>=4->sphinx_design<0.4.0,>=0.3.0->dowhy==0.0.0) (2.12.1)\n",
            "Requirement already satisfied: alabaster<0.8,>=0.7 in /usr/local/lib/python3.10/dist-packages (from sphinx<6,>=4->sphinx_design<0.4.0,>=0.3.0->dowhy==0.0.0) (0.7.13)\n",
            "Requirement already satisfied: imagesize>=1.3 in /usr/local/lib/python3.10/dist-packages (from sphinx<6,>=4->sphinx_design<0.4.0,>=0.3.0->dowhy==0.0.0) (1.4.1)\n",
            "Requirement already satisfied: requests>=2.5.0 in /usr/local/lib/python3.10/dist-packages (from sphinx<6,>=4->sphinx_design<0.4.0,>=0.3.0->dowhy==0.0.0) (2.27.1)\n",
            "Requirement already satisfied: contourpy>=1.0.1 in /usr/local/lib/python3.10/dist-packages (from matplotlib->causal-learn<0.2.0.0,>=0.1.3.0->dowhy==0.0.0) (1.0.7)\n",
            "Requirement already satisfied: cycler>=0.10 in /usr/local/lib/python3.10/dist-packages (from matplotlib->causal-learn<0.2.0.0,>=0.1.3.0->dowhy==0.0.0) (0.11.0)\n",
            "Requirement already satisfied: fonttools>=4.22.0 in /usr/local/lib/python3.10/dist-packages (from matplotlib->causal-learn<0.2.0.0,>=0.1.3.0->dowhy==0.0.0) (4.39.3)\n",
            "Requirement already satisfied: kiwisolver>=1.0.1 in /usr/local/lib/python3.10/dist-packages (from matplotlib->causal-learn<0.2.0.0,>=0.1.3.0->dowhy==0.0.0) (1.4.4)\n",
            "Requirement already satisfied: pillow>=6.2.0 in /usr/local/lib/python3.10/dist-packages (from matplotlib->causal-learn<0.2.0.0,>=0.1.3.0->dowhy==0.0.0) (8.4.0)\n",
            "Requirement already satisfied: pyparsing>=2.3.1 in /usr/local/lib/python3.10/dist-packages (from matplotlib->causal-learn<0.2.0.0,>=0.1.3.0->dowhy==0.0.0) (3.0.9)\n",
            "Requirement already satisfied: MarkupSafe>=2.0 in /usr/local/lib/python3.10/dist-packages (from Jinja2>=3.0->sphinx<6,>=4->sphinx_design<0.4.0,>=0.3.0->dowhy==0.0.0) (2.1.2)\n",
            "Requirement already satisfied: urllib3<1.27,>=1.21.1 in /usr/local/lib/python3.10/dist-packages (from requests>=2.5.0->sphinx<6,>=4->sphinx_design<0.4.0,>=0.3.0->dowhy==0.0.0) (1.26.15)\n",
            "Requirement already satisfied: certifi>=2017.4.17 in /usr/local/lib/python3.10/dist-packages (from requests>=2.5.0->sphinx<6,>=4->sphinx_design<0.4.0,>=0.3.0->dowhy==0.0.0) (2022.12.7)\n",
            "Requirement already satisfied: charset-normalizer~=2.0.0 in /usr/local/lib/python3.10/dist-packages (from requests>=2.5.0->sphinx<6,>=4->sphinx_design<0.4.0,>=0.3.0->dowhy==0.0.0) (2.0.12)\n",
            "Requirement already satisfied: idna<4,>=2.5 in /usr/local/lib/python3.10/dist-packages (from requests>=2.5.0->sphinx<6,>=4->sphinx_design<0.4.0,>=0.3.0->dowhy==0.0.0) (3.4)\n",
            "Building wheels for collected packages: dowhy\n",
            "  Building wheel for dowhy (pyproject.toml) ... \u001b[?25l\u001b[?25hdone\n",
            "  Created wheel for dowhy: filename=dowhy-0.0.0-py3-none-any.whl size=358845 sha256=0d1fbfb54357bd98ca89499127fb2066d54bc04e99cfda30ea20fabecfb05c59\n",
            "  Stored in directory: /tmp/pip-ephem-wheel-cache-_8viv2ul/wheels/5b/83/7b/0d6316bb6100e50b801e5909cdaa74d83a19ff7147aaaf9785\n",
            "Successfully built dowhy\n",
            "Installing collected packages: numpy, networkx, sphinx, sphinx_design, scikit-learn, causal-learn, dowhy\n",
            "  Attempting uninstall: numpy\n",
            "    Found existing installation: numpy 1.22.4\n",
            "    Uninstalling numpy-1.22.4:\n",
            "      Successfully uninstalled numpy-1.22.4\n",
            "  Attempting uninstall: networkx\n",
            "    Found existing installation: networkx 3.1\n",
            "    Uninstalling networkx-3.1:\n",
            "      Successfully uninstalled networkx-3.1\n",
            "  Attempting uninstall: sphinx\n",
            "    Found existing installation: Sphinx 3.5.4\n",
            "    Uninstalling Sphinx-3.5.4:\n",
            "      Successfully uninstalled Sphinx-3.5.4\n",
            "  Attempting uninstall: scikit-learn\n",
            "    Found existing installation: scikit-learn 1.2.2\n",
            "    Uninstalling scikit-learn-1.2.2:\n",
            "      Successfully uninstalled scikit-learn-1.2.2\n",
            "Successfully installed causal-learn-0.1.3.3 dowhy-0.0.0 networkx-2.8.8 numpy-1.23.1 scikit-learn-1.1.3 sphinx-5.3.0 sphinx_design-0.3.0\n"
          ]
        },
        {
          "output_type": "display_data",
          "data": {
            "application/vnd.colab-display-data+json": {
              "pip_warning": {
                "packages": [
                  "numpy"
                ]
              }
            }
          },
          "metadata": {}
        },
        {
          "output_type": "stream",
          "name": "stdout",
          "text": [
            "Reading package lists... Done\n",
            "Building dependency tree       \n",
            "Reading state information... Done\n",
            "The following additional packages will be installed:\n",
            "  libgail-common libgail18 libgtk2.0-0 libgtk2.0-bin libgtk2.0-common\n",
            "  libgvc6-plugins-gtk libxdot4\n",
            "Suggested packages:\n",
            "  gvfs\n",
            "The following NEW packages will be installed:\n",
            "  libgail-common libgail18 libgraphviz-dev libgtk2.0-0 libgtk2.0-bin\n",
            "  libgtk2.0-common libgvc6-plugins-gtk libxdot4\n",
            "0 upgraded, 8 newly installed, 0 to remove and 34 not upgraded.\n",
            "Need to get 2,148 kB of archives.\n",
            "After this operation, 7,427 kB of additional disk space will be used.\n",
            "Get:1 http://archive.ubuntu.com/ubuntu focal/main amd64 libgtk2.0-common all 2.24.32-4ubuntu4 [126 kB]\n",
            "Get:2 http://archive.ubuntu.com/ubuntu focal/main amd64 libgtk2.0-0 amd64 2.24.32-4ubuntu4 [1,791 kB]\n",
            "Get:3 http://archive.ubuntu.com/ubuntu focal/main amd64 libgail18 amd64 2.24.32-4ubuntu4 [14.7 kB]\n",
            "Get:4 http://archive.ubuntu.com/ubuntu focal/main amd64 libgail-common amd64 2.24.32-4ubuntu4 [116 kB]\n",
            "Get:5 http://archive.ubuntu.com/ubuntu focal/universe amd64 libxdot4 amd64 2.42.2-3build2 [15.4 kB]\n",
            "Get:6 http://archive.ubuntu.com/ubuntu focal/universe amd64 libgvc6-plugins-gtk amd64 2.42.2-3build2 [20.6 kB]\n",
            "Get:7 http://archive.ubuntu.com/ubuntu focal/universe amd64 libgraphviz-dev amd64 2.42.2-3build2 [57.2 kB]\n",
            "Get:8 http://archive.ubuntu.com/ubuntu focal/main amd64 libgtk2.0-bin amd64 2.24.32-4ubuntu4 [7,728 B]\n",
            "Fetched 2,148 kB in 1s (2,112 kB/s)\n",
            "Selecting previously unselected package libgtk2.0-common.\n",
            "(Reading database ... 122542 files and directories currently installed.)\n",
            "Preparing to unpack .../0-libgtk2.0-common_2.24.32-4ubuntu4_all.deb ...\n",
            "Unpacking libgtk2.0-common (2.24.32-4ubuntu4) ...\n",
            "Selecting previously unselected package libgtk2.0-0:amd64.\n",
            "Preparing to unpack .../1-libgtk2.0-0_2.24.32-4ubuntu4_amd64.deb ...\n",
            "Unpacking libgtk2.0-0:amd64 (2.24.32-4ubuntu4) ...\n",
            "Selecting previously unselected package libgail18:amd64.\n",
            "Preparing to unpack .../2-libgail18_2.24.32-4ubuntu4_amd64.deb ...\n",
            "Unpacking libgail18:amd64 (2.24.32-4ubuntu4) ...\n",
            "Selecting previously unselected package libgail-common:amd64.\n",
            "Preparing to unpack .../3-libgail-common_2.24.32-4ubuntu4_amd64.deb ...\n",
            "Unpacking libgail-common:amd64 (2.24.32-4ubuntu4) ...\n",
            "Selecting previously unselected package libxdot4:amd64.\n",
            "Preparing to unpack .../4-libxdot4_2.42.2-3build2_amd64.deb ...\n",
            "Unpacking libxdot4:amd64 (2.42.2-3build2) ...\n",
            "Selecting previously unselected package libgvc6-plugins-gtk.\n",
            "Preparing to unpack .../5-libgvc6-plugins-gtk_2.42.2-3build2_amd64.deb ...\n",
            "Unpacking libgvc6-plugins-gtk (2.42.2-3build2) ...\n",
            "Selecting previously unselected package libgraphviz-dev:amd64.\n",
            "Preparing to unpack .../6-libgraphviz-dev_2.42.2-3build2_amd64.deb ...\n",
            "Unpacking libgraphviz-dev:amd64 (2.42.2-3build2) ...\n",
            "Selecting previously unselected package libgtk2.0-bin.\n",
            "Preparing to unpack .../7-libgtk2.0-bin_2.24.32-4ubuntu4_amd64.deb ...\n",
            "Unpacking libgtk2.0-bin (2.24.32-4ubuntu4) ...\n",
            "Setting up libxdot4:amd64 (2.42.2-3build2) ...\n",
            "Setting up libgtk2.0-common (2.24.32-4ubuntu4) ...\n",
            "Setting up libgtk2.0-0:amd64 (2.24.32-4ubuntu4) ...\n",
            "Setting up libgvc6-plugins-gtk (2.42.2-3build2) ...\n",
            "Setting up libgail18:amd64 (2.24.32-4ubuntu4) ...\n",
            "Setting up libgtk2.0-bin (2.24.32-4ubuntu4) ...\n",
            "Setting up libgail-common:amd64 (2.24.32-4ubuntu4) ...\n",
            "Setting up libgraphviz-dev:amd64 (2.42.2-3build2) ...\n",
            "Processing triggers for man-db (2.9.1-1) ...\n",
            "Processing triggers for libc-bin (2.31-0ubuntu9.9) ...\n",
            "Looking in indexes: https://pypi.org/simple, https://us-python.pkg.dev/colab-wheels/public/simple/\n",
            "Collecting pygraphviz\n",
            "  Downloading pygraphviz-1.11.zip (120 kB)\n",
            "\u001b[2K     \u001b[90m━━━━━━━━━━━━━━━━━━━━━━━━━━━━━━━━━━━━━━━\u001b[0m \u001b[32m120.8/120.8 kB\u001b[0m \u001b[31m3.8 MB/s\u001b[0m eta \u001b[36m0:00:00\u001b[0m\n",
            "\u001b[?25h  Preparing metadata (setup.py) ... \u001b[?25l\u001b[?25hdone\n",
            "Building wheels for collected packages: pygraphviz\n",
            "  Building wheel for pygraphviz (setup.py) ... \u001b[?25l\u001b[?25hdone\n",
            "  Created wheel for pygraphviz: filename=pygraphviz-1.11-cp310-cp310-linux_x86_64.whl size=184243 sha256=c22cc1f6d93d58330f8fd54529aa2d35913ce9dad963f36788602ef31aec4887\n",
            "  Stored in directory: /root/.cache/pip/wheels/5b/ee/36/f47a0d35664fbe1a2b5a433ae33c6ad636b00bb231f68a9aaa\n",
            "Successfully built pygraphviz\n",
            "Installing collected packages: pygraphviz\n",
            "Successfully installed pygraphviz-1.11\n"
          ]
        }
      ],
      "source": [
        "!pip install git+https://github.com/microsoft/dowhy.git\n",
        "!apt install libgraphviz-dev\n",
        "!pip install pygraphviz"
      ]
    },
    {
      "cell_type": "code",
      "execution_count": null,
      "metadata": {
        "colab": {
          "base_uri": "https://localhost:8080/",
          "height": 1000
        },
        "id": "QdXonEmIyw5D",
        "outputId": "8e41163c-ff2e-4a83-d367-bd89513c8acc"
      },
      "outputs": [
        {
          "output_type": "stream",
          "name": "stdout",
          "text": [
            "Looking in indexes: https://pypi.org/simple, https://us-python.pkg.dev/colab-wheels/public/simple/\n",
            "Collecting git+https://github.com/uber/causalml.git\n",
            "  Cloning https://github.com/uber/causalml.git to /tmp/pip-req-build-bxeqgav1\n",
            "  Running command git clone --filter=blob:none --quiet https://github.com/uber/causalml.git /tmp/pip-req-build-bxeqgav1\n",
            "  Resolved https://github.com/uber/causalml.git to commit 3931ccf69dedb7f97c5be3c1b2d3e2fd7bc8b305\n",
            "  Installing build dependencies ... \u001b[?25l\u001b[?25hdone\n",
            "  Getting requirements to build wheel ... \u001b[?25l\u001b[?25hdone\n",
            "  Preparing metadata (pyproject.toml) ... \u001b[?25l\u001b[?25hdone\n",
            "Requirement already satisfied: setuptools>=41.0.0 in /usr/local/lib/python3.10/dist-packages (from causalml==0.13.0) (67.7.2)\n",
            "Collecting forestci==0.6 (from causalml==0.13.0)\n",
            "  Downloading forestci-0.6-py3-none-any.whl (12 kB)\n",
            "Collecting pathos==0.2.9 (from causalml==0.13.0)\n",
            "  Downloading pathos-0.2.9-py3-none-any.whl (76 kB)\n",
            "\u001b[2K     \u001b[90m━━━━━━━━━━━━━━━━━━━━━━━━━━━━━━━━━━━━━━━━\u001b[0m \u001b[32m76.9/76.9 kB\u001b[0m \u001b[31m2.8 MB/s\u001b[0m eta \u001b[36m0:00:00\u001b[0m\n",
            "\u001b[?25hRequirement already satisfied: pip>=10.0 in /usr/local/lib/python3.10/dist-packages (from causalml==0.13.0) (23.1.2)\n",
            "Requirement already satisfied: numpy>=1.18.5 in /usr/local/lib/python3.10/dist-packages (from causalml==0.13.0) (1.23.1)\n",
            "Requirement already satisfied: scipy>=1.4.1 in /usr/local/lib/python3.10/dist-packages (from causalml==0.13.0) (1.10.1)\n",
            "Requirement already satisfied: matplotlib in /usr/local/lib/python3.10/dist-packages (from causalml==0.13.0) (3.7.1)\n",
            "Requirement already satisfied: pandas>=0.24.1 in /usr/local/lib/python3.10/dist-packages (from causalml==0.13.0) (1.5.3)\n",
            "Collecting scikit-learn<=1.0.2 (from causalml==0.13.0)\n",
            "  Using cached scikit_learn-1.0.2-cp310-cp310-manylinux_2_17_x86_64.manylinux2014_x86_64.whl (26.5 MB)\n",
            "Requirement already satisfied: statsmodels>=0.9.0 in /usr/local/lib/python3.10/dist-packages (from causalml==0.13.0) (0.13.5)\n",
            "Requirement already satisfied: seaborn in /usr/local/lib/python3.10/dist-packages (from causalml==0.13.0) (0.12.2)\n",
            "Requirement already satisfied: Cython>=0.28.0 in /usr/local/lib/python3.10/dist-packages (from causalml==0.13.0) (0.29.34)\n",
            "Requirement already satisfied: xgboost in /usr/local/lib/python3.10/dist-packages (from causalml==0.13.0) (1.7.5)\n",
            "Requirement already satisfied: pydotplus in /usr/local/lib/python3.10/dist-packages (from causalml==0.13.0) (2.0.2)\n",
            "Requirement already satisfied: tqdm in /usr/local/lib/python3.10/dist-packages (from causalml==0.13.0) (4.65.0)\n",
            "Collecting shap (from causalml==0.13.0)\n",
            "  Downloading shap-0.41.0-cp310-cp310-manylinux_2_12_x86_64.manylinux2010_x86_64.whl (572 kB)\n",
            "\u001b[2K     \u001b[90m━━━━━━━━━━━━━━━━━━━━━━━━━━━━━━━━━━━━━━\u001b[0m \u001b[32m572.6/572.6 kB\u001b[0m \u001b[31m14.7 MB/s\u001b[0m eta \u001b[36m0:00:00\u001b[0m\n",
            "\u001b[?25hCollecting dill (from causalml==0.13.0)\n",
            "  Downloading dill-0.3.6-py3-none-any.whl (110 kB)\n",
            "\u001b[2K     \u001b[90m━━━━━━━━━━━━━━━━━━━━━━━━━━━━━━━━━━━━━━━\u001b[0m \u001b[32m110.5/110.5 kB\u001b[0m \u001b[31m9.7 MB/s\u001b[0m eta \u001b[36m0:00:00\u001b[0m\n",
            "\u001b[?25hRequirement already satisfied: lightgbm in /usr/local/lib/python3.10/dist-packages (from causalml==0.13.0) (3.3.5)\n",
            "Collecting pygam (from causalml==0.13.0)\n",
            "  Downloading pygam-0.9.0-py3-none-any.whl (522 kB)\n",
            "\u001b[2K     \u001b[90m━━━━━━━━━━━━━━━━━━━━━━━━━━━━━━━━━━━━━━\u001b[0m \u001b[32m522.2/522.2 kB\u001b[0m \u001b[31m36.6 MB/s\u001b[0m eta \u001b[36m0:00:00\u001b[0m\n",
            "\u001b[?25hRequirement already satisfied: packaging in /usr/local/lib/python3.10/dist-packages (from causalml==0.13.0) (23.1)\n",
            "Requirement already satisfied: torch in /usr/local/lib/python3.10/dist-packages (from causalml==0.13.0) (2.0.1+cu118)\n",
            "Collecting pyro-ppl (from causalml==0.13.0)\n",
            "  Downloading pyro_ppl-1.8.5-py3-none-any.whl (732 kB)\n",
            "\u001b[2K     \u001b[90m━━━━━━━━━━━━━━━━━━━━━━━━━━━━━━━━━━━━━━\u001b[0m \u001b[32m732.5/732.5 kB\u001b[0m \u001b[31m44.8 MB/s\u001b[0m eta \u001b[36m0:00:00\u001b[0m\n",
            "\u001b[?25hRequirement already satisfied: graphviz in /usr/local/lib/python3.10/dist-packages (from causalml==0.13.0) (0.20.1)\n",
            "Collecting ppft>=1.7.6.5 (from pathos==0.2.9->causalml==0.13.0)\n",
            "  Downloading ppft-1.7.6.6-py3-none-any.whl (52 kB)\n",
            "\u001b[2K     \u001b[90m━━━━━━━━━━━━━━━━━━━━━━━━━━━━━━━━━━━━━━━━\u001b[0m \u001b[32m52.8/52.8 kB\u001b[0m \u001b[31m5.0 MB/s\u001b[0m eta \u001b[36m0:00:00\u001b[0m\n",
            "\u001b[?25hCollecting pox>=0.3.1 (from pathos==0.2.9->causalml==0.13.0)\n",
            "  Downloading pox-0.3.2-py3-none-any.whl (29 kB)\n",
            "Collecting multiprocess>=0.70.13 (from pathos==0.2.9->causalml==0.13.0)\n",
            "  Downloading multiprocess-0.70.14-py310-none-any.whl (134 kB)\n",
            "\u001b[2K     \u001b[90m━━━━━━━━━━━━━━━━━━━━━━━━━━━━━━━━━━━━━━\u001b[0m \u001b[32m134.3/134.3 kB\u001b[0m \u001b[31m11.4 MB/s\u001b[0m eta \u001b[36m0:00:00\u001b[0m\n",
            "\u001b[?25hRequirement already satisfied: python-dateutil>=2.8.1 in /usr/local/lib/python3.10/dist-packages (from pandas>=0.24.1->causalml==0.13.0) (2.8.2)\n",
            "Requirement already satisfied: pytz>=2020.1 in /usr/local/lib/python3.10/dist-packages (from pandas>=0.24.1->causalml==0.13.0) (2022.7.1)\n",
            "Requirement already satisfied: joblib>=0.11 in /usr/local/lib/python3.10/dist-packages (from scikit-learn<=1.0.2->causalml==0.13.0) (1.2.0)\n",
            "Requirement already satisfied: threadpoolctl>=2.0.0 in /usr/local/lib/python3.10/dist-packages (from scikit-learn<=1.0.2->causalml==0.13.0) (3.1.0)\n",
            "Requirement already satisfied: patsy>=0.5.2 in /usr/local/lib/python3.10/dist-packages (from statsmodels>=0.9.0->causalml==0.13.0) (0.5.3)\n",
            "Requirement already satisfied: wheel in /usr/local/lib/python3.10/dist-packages (from lightgbm->causalml==0.13.0) (0.40.0)\n",
            "Requirement already satisfied: contourpy>=1.0.1 in /usr/local/lib/python3.10/dist-packages (from matplotlib->causalml==0.13.0) (1.0.7)\n",
            "Requirement already satisfied: cycler>=0.10 in /usr/local/lib/python3.10/dist-packages (from matplotlib->causalml==0.13.0) (0.11.0)\n",
            "Requirement already satisfied: fonttools>=4.22.0 in /usr/local/lib/python3.10/dist-packages (from matplotlib->causalml==0.13.0) (4.39.3)\n",
            "Requirement already satisfied: kiwisolver>=1.0.1 in /usr/local/lib/python3.10/dist-packages (from matplotlib->causalml==0.13.0) (1.4.4)\n",
            "Requirement already satisfied: pillow>=6.2.0 in /usr/local/lib/python3.10/dist-packages (from matplotlib->causalml==0.13.0) (8.4.0)\n",
            "Requirement already satisfied: pyparsing>=2.3.1 in /usr/local/lib/python3.10/dist-packages (from matplotlib->causalml==0.13.0) (3.0.9)\n",
            "Collecting numpy>=1.18.5 (from causalml==0.13.0)\n",
            "  Using cached numpy-1.24.3-cp310-cp310-manylinux_2_17_x86_64.manylinux2014_x86_64.whl (17.3 MB)\n",
            "Requirement already satisfied: progressbar2<5.0.0,>=4.2.0 in /usr/local/lib/python3.10/dist-packages (from pygam->causalml==0.13.0) (4.2.0)\n",
            "Requirement already satisfied: opt-einsum>=2.3.2 in /usr/local/lib/python3.10/dist-packages (from pyro-ppl->causalml==0.13.0) (3.3.0)\n",
            "Collecting pyro-api>=0.1.1 (from pyro-ppl->causalml==0.13.0)\n",
            "  Downloading pyro_api-0.1.2-py3-none-any.whl (11 kB)\n",
            "Requirement already satisfied: filelock in /usr/local/lib/python3.10/dist-packages (from torch->causalml==0.13.0) (3.12.0)\n",
            "Requirement already satisfied: typing-extensions in /usr/local/lib/python3.10/dist-packages (from torch->causalml==0.13.0) (4.5.0)\n",
            "Requirement already satisfied: sympy in /usr/local/lib/python3.10/dist-packages (from torch->causalml==0.13.0) (1.11.1)\n",
            "Requirement already satisfied: networkx in /usr/local/lib/python3.10/dist-packages (from torch->causalml==0.13.0) (2.8.8)\n",
            "Requirement already satisfied: jinja2 in /usr/local/lib/python3.10/dist-packages (from torch->causalml==0.13.0) (3.1.2)\n",
            "Requirement already satisfied: triton==2.0.0 in /usr/local/lib/python3.10/dist-packages (from torch->causalml==0.13.0) (2.0.0)\n",
            "Requirement already satisfied: cmake in /usr/local/lib/python3.10/dist-packages (from triton==2.0.0->torch->causalml==0.13.0) (3.25.2)\n",
            "Requirement already satisfied: lit in /usr/local/lib/python3.10/dist-packages (from triton==2.0.0->torch->causalml==0.13.0) (16.0.5)\n",
            "Collecting slicer==0.0.7 (from shap->causalml==0.13.0)\n",
            "  Downloading slicer-0.0.7-py3-none-any.whl (14 kB)\n",
            "Requirement already satisfied: numba in /usr/local/lib/python3.10/dist-packages (from shap->causalml==0.13.0) (0.56.4)\n",
            "Requirement already satisfied: cloudpickle in /usr/local/lib/python3.10/dist-packages (from shap->causalml==0.13.0) (2.2.1)\n",
            "Requirement already satisfied: six in /usr/local/lib/python3.10/dist-packages (from patsy>=0.5.2->statsmodels>=0.9.0->causalml==0.13.0) (1.16.0)\n",
            "Requirement already satisfied: python-utils>=3.0.0 in /usr/local/lib/python3.10/dist-packages (from progressbar2<5.0.0,>=4.2.0->pygam->causalml==0.13.0) (3.5.2)\n",
            "Requirement already satisfied: MarkupSafe>=2.0 in /usr/local/lib/python3.10/dist-packages (from jinja2->torch->causalml==0.13.0) (2.1.2)\n",
            "Requirement already satisfied: llvmlite<0.40,>=0.39.0dev0 in /usr/local/lib/python3.10/dist-packages (from numba->shap->causalml==0.13.0) (0.39.1)\n",
            "INFO: pip is looking at multiple versions of numba to determine which version is compatible with other requirements. This could take a while.\n",
            "Collecting numba (from shap->causalml==0.13.0)\n",
            "  Downloading numba-0.57.0-cp310-cp310-manylinux2014_x86_64.manylinux_2_17_x86_64.whl (3.6 MB)\n",
            "\u001b[2K     \u001b[90m━━━━━━━━━━━━━━━━━━━━━━━━━━━━━━━━━━━━━━━━\u001b[0m \u001b[32m3.6/3.6 MB\u001b[0m \u001b[31m68.1 MB/s\u001b[0m eta \u001b[36m0:00:00\u001b[0m\n",
            "\u001b[?25hCollecting llvmlite<0.41,>=0.40.0dev0 (from numba->shap->causalml==0.13.0)\n",
            "  Downloading llvmlite-0.40.0-cp310-cp310-manylinux_2_17_x86_64.manylinux2014_x86_64.whl (42.1 MB)\n",
            "\u001b[2K     \u001b[90m━━━━━━━━━━━━━━━━━━━━━━━━━━━━━━━━━━━━━━━━\u001b[0m \u001b[32m42.1/42.1 MB\u001b[0m \u001b[31m13.7 MB/s\u001b[0m eta \u001b[36m0:00:00\u001b[0m\n",
            "\u001b[?25hRequirement already satisfied: mpmath>=0.19 in /usr/local/lib/python3.10/dist-packages (from sympy->torch->causalml==0.13.0) (1.3.0)\n",
            "Building wheels for collected packages: causalml\n",
            "  Building wheel for causalml (pyproject.toml) ... \u001b[?25l\u001b[?25hdone\n",
            "  Created wheel for causalml: filename=causalml-0.13.0-cp310-cp310-linux_x86_64.whl size=1895347 sha256=47d9a0356160e53ee6a76a79edb76216c3ea4eaf8ff29ea8309f1eb13b2f18a0\n",
            "  Stored in directory: /tmp/pip-ephem-wheel-cache-lanze9wl/wheels/fc/dd/e5/336a2acf9b1a5696a4763024c6726dfcf35c361f40cf497631\n",
            "Successfully built causalml\n",
            "Installing collected packages: pyro-api, slicer, ppft, pox, numpy, llvmlite, dill, numba, multiprocess, scikit-learn, pygam, pathos, shap, forestci, pyro-ppl, causalml\n",
            "  Attempting uninstall: numpy\n",
            "    Found existing installation: numpy 1.23.1\n",
            "    Uninstalling numpy-1.23.1:\n",
            "      Successfully uninstalled numpy-1.23.1\n",
            "  Attempting uninstall: llvmlite\n",
            "    Found existing installation: llvmlite 0.39.1\n",
            "    Uninstalling llvmlite-0.39.1:\n",
            "      Successfully uninstalled llvmlite-0.39.1\n",
            "  Attempting uninstall: numba\n",
            "    Found existing installation: numba 0.56.4\n",
            "    Uninstalling numba-0.56.4:\n",
            "      Successfully uninstalled numba-0.56.4\n",
            "  Attempting uninstall: scikit-learn\n",
            "    Found existing installation: scikit-learn 1.1.3\n",
            "    Uninstalling scikit-learn-1.1.3:\n",
            "      Successfully uninstalled scikit-learn-1.1.3\n",
            "\u001b[31mERROR: pip's dependency resolver does not currently take into account all the packages that are installed. This behaviour is the source of the following dependency conflicts.\n",
            "dowhy 0.0.0 requires numpy==1.23.1, but you have numpy 1.24.3 which is incompatible.\n",
            "tensorflow 2.12.0 requires numpy<1.24,>=1.22, but you have numpy 1.24.3 which is incompatible.\u001b[0m\u001b[31m\n",
            "\u001b[0mSuccessfully installed causalml-0.13.0 dill-0.3.6 forestci-0.6 llvmlite-0.40.0 multiprocess-0.70.14 numba-0.57.0 numpy-1.24.3 pathos-0.2.9 pox-0.3.2 ppft-1.7.6.6 pygam-0.9.0 pyro-api-0.1.2 pyro-ppl-1.8.5 scikit-learn-1.0.2 shap-0.41.0 slicer-0.0.7\n"
          ]
        },
        {
          "output_type": "display_data",
          "data": {
            "application/vnd.colab-display-data+json": {
              "pip_warning": {
                "packages": [
                  "numpy"
                ]
              }
            }
          },
          "metadata": {}
        }
      ],
      "source": [
        "!pip install git+https://github.com/uber/causalml.git"
      ]
    },
    {
      "cell_type": "code",
      "execution_count": null,
      "metadata": {
        "colab": {
          "base_uri": "https://localhost:8080/"
        },
        "id": "p-TtYi-gGRvX",
        "outputId": "b0979d8e-b725-4e7e-fde1-91200bb85e5a"
      },
      "outputs": [
        {
          "output_type": "stream",
          "name": "stdout",
          "text": [
            "Looking in indexes: https://pypi.org/simple, https://us-python.pkg.dev/colab-wheels/public/simple/\n",
            "Collecting econml\n",
            "  Downloading econml-0.14.1-cp310-cp310-manylinux_2_17_x86_64.manylinux2014_x86_64.whl (3.5 MB)\n",
            "\u001b[2K     \u001b[90m━━━━━━━━━━━━━━━━━━━━━━━━━━━━━━━━━━━━━━━━\u001b[0m \u001b[32m3.5/3.5 MB\u001b[0m \u001b[31m28.8 MB/s\u001b[0m eta \u001b[36m0:00:00\u001b[0m\n",
            "\u001b[?25hRequirement already satisfied: numpy in /usr/local/lib/python3.10/dist-packages (from econml) (1.24.3)\n",
            "Requirement already satisfied: scipy>1.4.0 in /usr/local/lib/python3.10/dist-packages (from econml) (1.10.1)\n",
            "Requirement already satisfied: scikit-learn<1.3,>0.22.0 in /usr/local/lib/python3.10/dist-packages (from econml) (1.0.2)\n",
            "Collecting sparse (from econml)\n",
            "  Downloading sparse-0.14.0-py2.py3-none-any.whl (80 kB)\n",
            "\u001b[2K     \u001b[90m━━━━━━━━━━━━━━━━━━━━━━━━━━━━━━━━━━━━━━━━\u001b[0m \u001b[32m81.0/81.0 kB\u001b[0m \u001b[31m7.4 MB/s\u001b[0m eta \u001b[36m0:00:00\u001b[0m\n",
            "\u001b[?25hRequirement already satisfied: joblib>=0.13.0 in /usr/local/lib/python3.10/dist-packages (from econml) (1.2.0)\n",
            "Requirement already satisfied: statsmodels>=0.10 in /usr/local/lib/python3.10/dist-packages (from econml) (0.13.5)\n",
            "Requirement already satisfied: pandas in /usr/local/lib/python3.10/dist-packages (from econml) (1.5.3)\n",
            "Requirement already satisfied: shap<0.42.0,>=0.38.1 in /usr/local/lib/python3.10/dist-packages (from econml) (0.41.0)\n",
            "Requirement already satisfied: lightgbm in /usr/local/lib/python3.10/dist-packages (from econml) (3.3.5)\n",
            "Requirement already satisfied: threadpoolctl>=2.0.0 in /usr/local/lib/python3.10/dist-packages (from scikit-learn<1.3,>0.22.0->econml) (3.1.0)\n",
            "Requirement already satisfied: tqdm>4.25.0 in /usr/local/lib/python3.10/dist-packages (from shap<0.42.0,>=0.38.1->econml) (4.65.0)\n",
            "Requirement already satisfied: packaging>20.9 in /usr/local/lib/python3.10/dist-packages (from shap<0.42.0,>=0.38.1->econml) (23.1)\n",
            "Requirement already satisfied: slicer==0.0.7 in /usr/local/lib/python3.10/dist-packages (from shap<0.42.0,>=0.38.1->econml) (0.0.7)\n",
            "Requirement already satisfied: numba in /usr/local/lib/python3.10/dist-packages (from shap<0.42.0,>=0.38.1->econml) (0.57.0)\n",
            "Requirement already satisfied: cloudpickle in /usr/local/lib/python3.10/dist-packages (from shap<0.42.0,>=0.38.1->econml) (2.2.1)\n",
            "Requirement already satisfied: patsy>=0.5.2 in /usr/local/lib/python3.10/dist-packages (from statsmodels>=0.10->econml) (0.5.3)\n",
            "Requirement already satisfied: python-dateutil>=2.8.1 in /usr/local/lib/python3.10/dist-packages (from pandas->econml) (2.8.2)\n",
            "Requirement already satisfied: pytz>=2020.1 in /usr/local/lib/python3.10/dist-packages (from pandas->econml) (2022.7.1)\n",
            "Requirement already satisfied: wheel in /usr/local/lib/python3.10/dist-packages (from lightgbm->econml) (0.40.0)\n",
            "Requirement already satisfied: llvmlite<0.41,>=0.40.0dev0 in /usr/local/lib/python3.10/dist-packages (from numba->shap<0.42.0,>=0.38.1->econml) (0.40.0)\n",
            "Requirement already satisfied: six in /usr/local/lib/python3.10/dist-packages (from patsy>=0.5.2->statsmodels>=0.10->econml) (1.16.0)\n",
            "Installing collected packages: sparse, econml\n",
            "Successfully installed econml-0.14.1 sparse-0.14.0\n"
          ]
        }
      ],
      "source": [
        "!pip install econml"
      ]
    },
    {
      "cell_type": "code",
      "execution_count": null,
      "metadata": {
        "id": "or8c4ZSbGeFi"
      },
      "outputs": [],
      "source": [
        "\n",
        "#!pip install xgboost\n",
        "#!pip install lightgbm\n",
        "#!pip install shap"
      ]
    },
    {
      "cell_type": "code",
      "execution_count": null,
      "metadata": {
        "colab": {
          "base_uri": "https://localhost:8080/",
          "height": 326
        },
        "id": "rnwScGhruAkx",
        "outputId": "c9ae7686-615a-4ddb-9406-3e4d6c660e99"
      },
      "outputs": [
        {
          "output_type": "stream",
          "name": "stdout",
          "text": [
            "Found existing installation: numpy 1.24.3\n",
            "Uninstalling numpy-1.24.3:\n",
            "  Successfully uninstalled numpy-1.24.3\n",
            "Looking in indexes: https://pypi.org/simple, https://us-python.pkg.dev/colab-wheels/public/simple/\n",
            "Collecting numpy\n",
            "  Using cached numpy-1.24.3-cp310-cp310-manylinux_2_17_x86_64.manylinux2014_x86_64.whl (17.3 MB)\n",
            "Installing collected packages: numpy\n",
            "\u001b[31mERROR: pip's dependency resolver does not currently take into account all the packages that are installed. This behaviour is the source of the following dependency conflicts.\n",
            "dowhy 0.0.0 requires numpy==1.23.1, but you have numpy 1.24.3 which is incompatible.\n",
            "tensorflow 2.12.0 requires numpy<1.24,>=1.22, but you have numpy 1.24.3 which is incompatible.\u001b[0m\u001b[31m\n",
            "\u001b[0mSuccessfully installed numpy-1.24.3\n"
          ]
        },
        {
          "output_type": "display_data",
          "data": {
            "application/vnd.colab-display-data+json": {
              "pip_warning": {
                "packages": [
                  "numpy"
                ]
              }
            }
          },
          "metadata": {}
        }
      ],
      "source": [
        "!pip uninstall numpy --y\n",
        "!pip install numpy"
      ]
    },
    {
      "cell_type": "markdown",
      "metadata": {
        "id": "t7GIkwOdePq_"
      },
      "source": [
        "#Data Pre-Proceessing"
      ]
    },
    {
      "cell_type": "code",
      "execution_count": null,
      "metadata": {
        "id": "K-p3HD6Wl_d4"
      },
      "outputs": [],
      "source": [
        "import pandas as pd\n",
        "import numpy as np\n",
        "import matplotlib.pyplot as plt\n",
        "from sklearn.ensemble import RandomForestRegressor, GradientBoostingRegressor\n",
        "from sklearn.tree import DecisionTreeRegressor\n",
        "from xgboost import XGBRegressor\n",
        "from lightgbm import LGBMRegressor\n",
        "\n",
        "\n",
        "\n",
        "from sklearn.linear_model import LinearRegression\n",
        "\n",
        "import matplotlib.pyplot as plt\n",
        "\n",
        "import time\n",
        "from sklearn.inspection import permutation_importance\n",
        "from sklearn.model_selection import train_test_split\n",
        "\n",
        "import os\n",
        "import warnings\n",
        "warnings.filterwarnings('ignore')\n",
        "\n",
        "os.environ['KMP_DUPLICATE_LIB_OK'] = 'True'  # for lightgbm to work\n",
        "\n",
        "%reload_ext autoreload\n",
        "%autoreload 2\n",
        "%matplotlib inline"
      ]
    },
    {
      "cell_type": "code",
      "execution_count": null,
      "metadata": {
        "id": "WoqcF6ssHOwA"
      },
      "outputs": [],
      "source": [
        "##plt.style.use('fivethirtyeight')"
      ]
    },
    {
      "cell_type": "code",
      "execution_count": null,
      "metadata": {
        "id": "MARflwnpmJJR"
      },
      "outputs": [],
      "source": [
        "base = pd.read_csv(\"/content/drive/MyDrive/datathon23/outputs/curr_final_v5.csv\")"
      ]
    },
    {
      "cell_type": "code",
      "execution_count": null,
      "metadata": {
        "id": "CVRRk53XtnRO"
      },
      "outputs": [],
      "source": [
        "adm_reason = pd.read_csv('/content/drive/MyDrive/datathon23/outputs/admission_reason_v2.csv')\n",
        "apache = pd.read_csv('/content/drive/MyDrive/datathon23/outputs/apache_ii_24h.csv')\n",
        "pressors = pd.read_csv('/content/drive/MyDrive/datathon23/outputs/vasopressors_inotropes.csv')"
      ]
    },
    {
      "cell_type": "markdown",
      "metadata": {
        "id": "_dtg9DzCujaZ"
      },
      "source": [
        "## Admission reason\n",
        "https://github.com/AmsterdamUMC/AmsterdamUMCdb/blob/master/concepts/diagnosis/reason_for_admission.ipynb"
      ]
    },
    {
      "cell_type": "code",
      "execution_count": null,
      "metadata": {
        "colab": {
          "base_uri": "https://localhost:8080/"
        },
        "id": "WvF1lU0W3hOk",
        "outputId": "315c4efb-274d-4a74-b46c-134968f5d1cc"
      },
      "outputs": [
        {
          "output_type": "execute_result",
          "data": {
            "text/plain": [
              "['patientid',\n",
              " 'admissionid',\n",
              " 'admissioncount',\n",
              " 'location',\n",
              " 'urgency',\n",
              " 'origin',\n",
              " 'admittedat',\n",
              " 'admissionyeargroup',\n",
              " 'dischargedat',\n",
              " 'lengthofstay',\n",
              " 'destination',\n",
              " 'gender',\n",
              " 'agegroup',\n",
              " 'dateofdeath',\n",
              " 'weightgroup',\n",
              " 'weightsource',\n",
              " 'heightgroup',\n",
              " 'heightsource',\n",
              " 'specialty',\n",
              " 'diagnosis_type',\n",
              " 'diagnosis',\n",
              " 'diagnosis_id',\n",
              " 'diagnosis_subgroup',\n",
              " 'diagnosis_subgroup_id',\n",
              " 'diagnosis_group',\n",
              " 'diagnosis_group_id',\n",
              " 'surgical',\n",
              " 'sepsis_at_admission',\n",
              " 'sepsis_antibiotics_bool',\n",
              " 'sepsis_antibiotics_given',\n",
              " 'other_antibiotics_bool',\n",
              " 'other_antibiotics_given',\n",
              " 'sepsis_cultures_bool',\n",
              " 'sepsis_cultures_drawn',\n",
              " 'is_surgical',\n",
              " 'is_medical',\n",
              " 'is_cardiothoracic_surgery',\n",
              " 'is_respiratory_failure',\n",
              " 'is_neurosurgery',\n",
              " 'is_gastrointestinal_surgery',\n",
              " 'is_cardiac_arrest',\n",
              " 'is_vascular_surgery',\n",
              " 'is_trauma',\n",
              " 'is_neuro',\n",
              " 'is_cardio',\n",
              " 'is_sepsis',\n",
              " 'sofa_respiration_score',\n",
              " 'sofa_coagulation_score',\n",
              " 'sofa_liver_score',\n",
              " 'sofa_cardiovascular_score',\n",
              " 'sofa_cns_score',\n",
              " 'sofa_renal_score',\n",
              " 'sofa_total_score',\n",
              " 'is_infection',\n",
              " 'is_shock',\n",
              " 'lactate',\n",
              " 'is_invasive_ventilation',\n",
              " 'mechanical_ventilation_bool',\n",
              " 'mechanical_ventilation_modes',\n",
              " 'invasive_bool',\n",
              " 'non_invasive_bool',\n",
              " 'endotracheal_tube',\n",
              " 'tracheostomy',\n",
              " 'death2']"
            ]
          },
          "metadata": {},
          "execution_count": 5
        }
      ],
      "source": [
        "list(adm_reason)"
      ]
    },
    {
      "cell_type": "code",
      "execution_count": null,
      "metadata": {
        "colab": {
          "base_uri": "https://localhost:8080/",
          "height": 661
        },
        "id": "1bOxIB9FClYN",
        "outputId": "33c94611-c851-4f40-a41f-14a7afe11294"
      },
      "outputs": [
        {
          "output_type": "execute_result",
          "data": {
            "text/plain": [
              "       patientid  admissionid  admissioncount location  urgency  \\\n",
              "11            11           11               1       IC        1   \n",
              "15            14           15               1       IC        1   \n",
              "22            21           22               1       IC        1   \n",
              "25            24           25               1       MC        0   \n",
              "26            25           26               1       IC        0   \n",
              "...          ...          ...             ...      ...      ...   \n",
              "23099      20320        23546               1       IC        1   \n",
              "23100      20321        23547               1       IC        1   \n",
              "23103      20324        23550               1       IC        1   \n",
              "23104      20325        23551               1       IC        1   \n",
              "23105      20326        23552               1       MC        1   \n",
              "\n",
              "                                       origin  admittedat admissionyeargroup  \\\n",
              "11                                        NaN           0          2003-2009   \n",
              "15     Eerste Hulp afdeling zelfde ziekenhuis           0          2010-2016   \n",
              "22                   CCU/IC zelfde ziekenhuis           0          2010-2016   \n",
              "25                                        NaN           0          2003-2009   \n",
              "26                                        NaN           0          2003-2009   \n",
              "...                                       ...         ...                ...   \n",
              "23099  Eerste Hulp afdeling zelfde ziekenhuis           0          2010-2016   \n",
              "23100                                     NaN           0          2003-2009   \n",
              "23103  Eerste Hulp afdeling zelfde ziekenhuis           0          2010-2016   \n",
              "23104                                     NaN           0          2003-2009   \n",
              "23105      Verpleegafdeling zelfde ziekenhuis           0          2010-2016   \n",
              "\n",
              "       dischargedat  lengthofstay  ... is_shock lactate  \\\n",
              "11        148620000            42  ...     True     6.1   \n",
              "15        893220000           248  ...     True     NaN   \n",
              "22         76140000            21  ...     True     NaN   \n",
              "25        247020000            69  ...     True     3.4   \n",
              "26         87240000            24  ...    False     NaN   \n",
              "...             ...           ...  ...      ...     ...   \n",
              "23099     351900000            98  ...    False     NaN   \n",
              "23100     267780000            75  ...     True     NaN   \n",
              "23103      69720000            20  ...    False     NaN   \n",
              "23104     165660000            46  ...    False     NaN   \n",
              "23105      73320000            20  ...    False     NaN   \n",
              "\n",
              "      is_invasive_ventilation  mechanical_ventilation_bool  \\\n",
              "11                       True                         True   \n",
              "15                       True                         True   \n",
              "22                       True                         True   \n",
              "25                      False                          NaN   \n",
              "26                       True                         True   \n",
              "...                       ...                          ...   \n",
              "23099                    True                         True   \n",
              "23100                    True                         True   \n",
              "23103                   False                          NaN   \n",
              "23104                    True                         True   \n",
              "23105                   False                          NaN   \n",
              "\n",
              "                            mechanical_ventilation_modes invasive_bool  \\\n",
              "11                                              PC ; VC           True   \n",
              "15     PC ; PS/CPAP; PC (No trig); SIMV(VC)+PS; VC ; ...          True   \n",
              "22                                          PS/CPAP; PC           True   \n",
              "25                                                   NaN           NaN   \n",
              "26                     PC ; VC ; PS/CPAP; PS/CPAP (trig)          True   \n",
              "...                                                  ...           ...   \n",
              "23099         PC ; PS/CPAP; PC (No trig); PS/CPAP (trig)          True   \n",
              "23100                                           PC ; VC           True   \n",
              "23103                                                NaN           NaN   \n",
              "23104                                       PS/CPAP; PC           True   \n",
              "23105                                                NaN           NaN   \n",
              "\n",
              "      non_invasive_bool endotracheal_tube tracheostomy   death2  \n",
              "11                  NaN              True          NaN     37.0  \n",
              "15                  NaN              True          NaN    226.0  \n",
              "22                  NaN              True          NaN   9394.0  \n",
              "25                  NaN               NaN          NaN     52.0  \n",
              "26                  NaN              True          NaN  20245.0  \n",
              "...                 ...               ...          ...      ...  \n",
              "23099               NaN              True          NaN    202.0  \n",
              "23100               NaN              True          NaN     56.0  \n",
              "23103               NaN               NaN          NaN    -10.0  \n",
              "23104               NaN              True          NaN     32.0  \n",
              "23105               NaN               NaN          NaN    272.0  \n",
              "\n",
              "[7690 rows x 64 columns]"
            ],
            "text/html": [
              "\n",
              "  <div id=\"df-9a61898e-af50-42a3-bc13-8f64d982020b\">\n",
              "    <div class=\"colab-df-container\">\n",
              "      <div>\n",
              "<style scoped>\n",
              "    .dataframe tbody tr th:only-of-type {\n",
              "        vertical-align: middle;\n",
              "    }\n",
              "\n",
              "    .dataframe tbody tr th {\n",
              "        vertical-align: top;\n",
              "    }\n",
              "\n",
              "    .dataframe thead th {\n",
              "        text-align: right;\n",
              "    }\n",
              "</style>\n",
              "<table border=\"1\" class=\"dataframe\">\n",
              "  <thead>\n",
              "    <tr style=\"text-align: right;\">\n",
              "      <th></th>\n",
              "      <th>patientid</th>\n",
              "      <th>admissionid</th>\n",
              "      <th>admissioncount</th>\n",
              "      <th>location</th>\n",
              "      <th>urgency</th>\n",
              "      <th>origin</th>\n",
              "      <th>admittedat</th>\n",
              "      <th>admissionyeargroup</th>\n",
              "      <th>dischargedat</th>\n",
              "      <th>lengthofstay</th>\n",
              "      <th>...</th>\n",
              "      <th>is_shock</th>\n",
              "      <th>lactate</th>\n",
              "      <th>is_invasive_ventilation</th>\n",
              "      <th>mechanical_ventilation_bool</th>\n",
              "      <th>mechanical_ventilation_modes</th>\n",
              "      <th>invasive_bool</th>\n",
              "      <th>non_invasive_bool</th>\n",
              "      <th>endotracheal_tube</th>\n",
              "      <th>tracheostomy</th>\n",
              "      <th>death2</th>\n",
              "    </tr>\n",
              "  </thead>\n",
              "  <tbody>\n",
              "    <tr>\n",
              "      <th>11</th>\n",
              "      <td>11</td>\n",
              "      <td>11</td>\n",
              "      <td>1</td>\n",
              "      <td>IC</td>\n",
              "      <td>1</td>\n",
              "      <td>NaN</td>\n",
              "      <td>0</td>\n",
              "      <td>2003-2009</td>\n",
              "      <td>148620000</td>\n",
              "      <td>42</td>\n",
              "      <td>...</td>\n",
              "      <td>True</td>\n",
              "      <td>6.1</td>\n",
              "      <td>True</td>\n",
              "      <td>True</td>\n",
              "      <td>PC ; VC</td>\n",
              "      <td>True</td>\n",
              "      <td>NaN</td>\n",
              "      <td>True</td>\n",
              "      <td>NaN</td>\n",
              "      <td>37.0</td>\n",
              "    </tr>\n",
              "    <tr>\n",
              "      <th>15</th>\n",
              "      <td>14</td>\n",
              "      <td>15</td>\n",
              "      <td>1</td>\n",
              "      <td>IC</td>\n",
              "      <td>1</td>\n",
              "      <td>Eerste Hulp afdeling zelfde ziekenhuis</td>\n",
              "      <td>0</td>\n",
              "      <td>2010-2016</td>\n",
              "      <td>893220000</td>\n",
              "      <td>248</td>\n",
              "      <td>...</td>\n",
              "      <td>True</td>\n",
              "      <td>NaN</td>\n",
              "      <td>True</td>\n",
              "      <td>True</td>\n",
              "      <td>PC ; PS/CPAP; PC (No trig); SIMV(VC)+PS; VC ; ...</td>\n",
              "      <td>True</td>\n",
              "      <td>NaN</td>\n",
              "      <td>True</td>\n",
              "      <td>NaN</td>\n",
              "      <td>226.0</td>\n",
              "    </tr>\n",
              "    <tr>\n",
              "      <th>22</th>\n",
              "      <td>21</td>\n",
              "      <td>22</td>\n",
              "      <td>1</td>\n",
              "      <td>IC</td>\n",
              "      <td>1</td>\n",
              "      <td>CCU/IC zelfde ziekenhuis</td>\n",
              "      <td>0</td>\n",
              "      <td>2010-2016</td>\n",
              "      <td>76140000</td>\n",
              "      <td>21</td>\n",
              "      <td>...</td>\n",
              "      <td>True</td>\n",
              "      <td>NaN</td>\n",
              "      <td>True</td>\n",
              "      <td>True</td>\n",
              "      <td>PS/CPAP; PC</td>\n",
              "      <td>True</td>\n",
              "      <td>NaN</td>\n",
              "      <td>True</td>\n",
              "      <td>NaN</td>\n",
              "      <td>9394.0</td>\n",
              "    </tr>\n",
              "    <tr>\n",
              "      <th>25</th>\n",
              "      <td>24</td>\n",
              "      <td>25</td>\n",
              "      <td>1</td>\n",
              "      <td>MC</td>\n",
              "      <td>0</td>\n",
              "      <td>NaN</td>\n",
              "      <td>0</td>\n",
              "      <td>2003-2009</td>\n",
              "      <td>247020000</td>\n",
              "      <td>69</td>\n",
              "      <td>...</td>\n",
              "      <td>True</td>\n",
              "      <td>3.4</td>\n",
              "      <td>False</td>\n",
              "      <td>NaN</td>\n",
              "      <td>NaN</td>\n",
              "      <td>NaN</td>\n",
              "      <td>NaN</td>\n",
              "      <td>NaN</td>\n",
              "      <td>NaN</td>\n",
              "      <td>52.0</td>\n",
              "    </tr>\n",
              "    <tr>\n",
              "      <th>26</th>\n",
              "      <td>25</td>\n",
              "      <td>26</td>\n",
              "      <td>1</td>\n",
              "      <td>IC</td>\n",
              "      <td>0</td>\n",
              "      <td>NaN</td>\n",
              "      <td>0</td>\n",
              "      <td>2003-2009</td>\n",
              "      <td>87240000</td>\n",
              "      <td>24</td>\n",
              "      <td>...</td>\n",
              "      <td>False</td>\n",
              "      <td>NaN</td>\n",
              "      <td>True</td>\n",
              "      <td>True</td>\n",
              "      <td>PC ; VC ; PS/CPAP; PS/CPAP (trig)</td>\n",
              "      <td>True</td>\n",
              "      <td>NaN</td>\n",
              "      <td>True</td>\n",
              "      <td>NaN</td>\n",
              "      <td>20245.0</td>\n",
              "    </tr>\n",
              "    <tr>\n",
              "      <th>...</th>\n",
              "      <td>...</td>\n",
              "      <td>...</td>\n",
              "      <td>...</td>\n",
              "      <td>...</td>\n",
              "      <td>...</td>\n",
              "      <td>...</td>\n",
              "      <td>...</td>\n",
              "      <td>...</td>\n",
              "      <td>...</td>\n",
              "      <td>...</td>\n",
              "      <td>...</td>\n",
              "      <td>...</td>\n",
              "      <td>...</td>\n",
              "      <td>...</td>\n",
              "      <td>...</td>\n",
              "      <td>...</td>\n",
              "      <td>...</td>\n",
              "      <td>...</td>\n",
              "      <td>...</td>\n",
              "      <td>...</td>\n",
              "      <td>...</td>\n",
              "    </tr>\n",
              "    <tr>\n",
              "      <th>23099</th>\n",
              "      <td>20320</td>\n",
              "      <td>23546</td>\n",
              "      <td>1</td>\n",
              "      <td>IC</td>\n",
              "      <td>1</td>\n",
              "      <td>Eerste Hulp afdeling zelfde ziekenhuis</td>\n",
              "      <td>0</td>\n",
              "      <td>2010-2016</td>\n",
              "      <td>351900000</td>\n",
              "      <td>98</td>\n",
              "      <td>...</td>\n",
              "      <td>False</td>\n",
              "      <td>NaN</td>\n",
              "      <td>True</td>\n",
              "      <td>True</td>\n",
              "      <td>PC ; PS/CPAP; PC (No trig); PS/CPAP (trig)</td>\n",
              "      <td>True</td>\n",
              "      <td>NaN</td>\n",
              "      <td>True</td>\n",
              "      <td>NaN</td>\n",
              "      <td>202.0</td>\n",
              "    </tr>\n",
              "    <tr>\n",
              "      <th>23100</th>\n",
              "      <td>20321</td>\n",
              "      <td>23547</td>\n",
              "      <td>1</td>\n",
              "      <td>IC</td>\n",
              "      <td>1</td>\n",
              "      <td>NaN</td>\n",
              "      <td>0</td>\n",
              "      <td>2003-2009</td>\n",
              "      <td>267780000</td>\n",
              "      <td>75</td>\n",
              "      <td>...</td>\n",
              "      <td>True</td>\n",
              "      <td>NaN</td>\n",
              "      <td>True</td>\n",
              "      <td>True</td>\n",
              "      <td>PC ; VC</td>\n",
              "      <td>True</td>\n",
              "      <td>NaN</td>\n",
              "      <td>True</td>\n",
              "      <td>NaN</td>\n",
              "      <td>56.0</td>\n",
              "    </tr>\n",
              "    <tr>\n",
              "      <th>23103</th>\n",
              "      <td>20324</td>\n",
              "      <td>23550</td>\n",
              "      <td>1</td>\n",
              "      <td>IC</td>\n",
              "      <td>1</td>\n",
              "      <td>Eerste Hulp afdeling zelfde ziekenhuis</td>\n",
              "      <td>0</td>\n",
              "      <td>2010-2016</td>\n",
              "      <td>69720000</td>\n",
              "      <td>20</td>\n",
              "      <td>...</td>\n",
              "      <td>False</td>\n",
              "      <td>NaN</td>\n",
              "      <td>False</td>\n",
              "      <td>NaN</td>\n",
              "      <td>NaN</td>\n",
              "      <td>NaN</td>\n",
              "      <td>NaN</td>\n",
              "      <td>NaN</td>\n",
              "      <td>NaN</td>\n",
              "      <td>-10.0</td>\n",
              "    </tr>\n",
              "    <tr>\n",
              "      <th>23104</th>\n",
              "      <td>20325</td>\n",
              "      <td>23551</td>\n",
              "      <td>1</td>\n",
              "      <td>IC</td>\n",
              "      <td>1</td>\n",
              "      <td>NaN</td>\n",
              "      <td>0</td>\n",
              "      <td>2003-2009</td>\n",
              "      <td>165660000</td>\n",
              "      <td>46</td>\n",
              "      <td>...</td>\n",
              "      <td>False</td>\n",
              "      <td>NaN</td>\n",
              "      <td>True</td>\n",
              "      <td>True</td>\n",
              "      <td>PS/CPAP; PC</td>\n",
              "      <td>True</td>\n",
              "      <td>NaN</td>\n",
              "      <td>True</td>\n",
              "      <td>NaN</td>\n",
              "      <td>32.0</td>\n",
              "    </tr>\n",
              "    <tr>\n",
              "      <th>23105</th>\n",
              "      <td>20326</td>\n",
              "      <td>23552</td>\n",
              "      <td>1</td>\n",
              "      <td>MC</td>\n",
              "      <td>1</td>\n",
              "      <td>Verpleegafdeling zelfde ziekenhuis</td>\n",
              "      <td>0</td>\n",
              "      <td>2010-2016</td>\n",
              "      <td>73320000</td>\n",
              "      <td>20</td>\n",
              "      <td>...</td>\n",
              "      <td>False</td>\n",
              "      <td>NaN</td>\n",
              "      <td>False</td>\n",
              "      <td>NaN</td>\n",
              "      <td>NaN</td>\n",
              "      <td>NaN</td>\n",
              "      <td>NaN</td>\n",
              "      <td>NaN</td>\n",
              "      <td>NaN</td>\n",
              "      <td>272.0</td>\n",
              "    </tr>\n",
              "  </tbody>\n",
              "</table>\n",
              "<p>7690 rows × 64 columns</p>\n",
              "</div>\n",
              "      <button class=\"colab-df-convert\" onclick=\"convertToInteractive('df-9a61898e-af50-42a3-bc13-8f64d982020b')\"\n",
              "              title=\"Convert this dataframe to an interactive table.\"\n",
              "              style=\"display:none;\">\n",
              "        \n",
              "  <svg xmlns=\"http://www.w3.org/2000/svg\" height=\"24px\"viewBox=\"0 0 24 24\"\n",
              "       width=\"24px\">\n",
              "    <path d=\"M0 0h24v24H0V0z\" fill=\"none\"/>\n",
              "    <path d=\"M18.56 5.44l.94 2.06.94-2.06 2.06-.94-2.06-.94-.94-2.06-.94 2.06-2.06.94zm-11 1L8.5 8.5l.94-2.06 2.06-.94-2.06-.94L8.5 2.5l-.94 2.06-2.06.94zm10 10l.94 2.06.94-2.06 2.06-.94-2.06-.94-.94-2.06-.94 2.06-2.06.94z\"/><path d=\"M17.41 7.96l-1.37-1.37c-.4-.4-.92-.59-1.43-.59-.52 0-1.04.2-1.43.59L10.3 9.45l-7.72 7.72c-.78.78-.78 2.05 0 2.83L4 21.41c.39.39.9.59 1.41.59.51 0 1.02-.2 1.41-.59l7.78-7.78 2.81-2.81c.8-.78.8-2.07 0-2.86zM5.41 20L4 18.59l7.72-7.72 1.47 1.35L5.41 20z\"/>\n",
              "  </svg>\n",
              "      </button>\n",
              "      \n",
              "  <style>\n",
              "    .colab-df-container {\n",
              "      display:flex;\n",
              "      flex-wrap:wrap;\n",
              "      gap: 12px;\n",
              "    }\n",
              "\n",
              "    .colab-df-convert {\n",
              "      background-color: #E8F0FE;\n",
              "      border: none;\n",
              "      border-radius: 50%;\n",
              "      cursor: pointer;\n",
              "      display: none;\n",
              "      fill: #1967D2;\n",
              "      height: 32px;\n",
              "      padding: 0 0 0 0;\n",
              "      width: 32px;\n",
              "    }\n",
              "\n",
              "    .colab-df-convert:hover {\n",
              "      background-color: #E2EBFA;\n",
              "      box-shadow: 0px 1px 2px rgba(60, 64, 67, 0.3), 0px 1px 3px 1px rgba(60, 64, 67, 0.15);\n",
              "      fill: #174EA6;\n",
              "    }\n",
              "\n",
              "    [theme=dark] .colab-df-convert {\n",
              "      background-color: #3B4455;\n",
              "      fill: #D2E3FC;\n",
              "    }\n",
              "\n",
              "    [theme=dark] .colab-df-convert:hover {\n",
              "      background-color: #434B5C;\n",
              "      box-shadow: 0px 1px 3px 1px rgba(0, 0, 0, 0.15);\n",
              "      filter: drop-shadow(0px 1px 2px rgba(0, 0, 0, 0.3));\n",
              "      fill: #FFFFFF;\n",
              "    }\n",
              "  </style>\n",
              "\n",
              "      <script>\n",
              "        const buttonEl =\n",
              "          document.querySelector('#df-9a61898e-af50-42a3-bc13-8f64d982020b button.colab-df-convert');\n",
              "        buttonEl.style.display =\n",
              "          google.colab.kernel.accessAllowed ? 'block' : 'none';\n",
              "\n",
              "        async function convertToInteractive(key) {\n",
              "          const element = document.querySelector('#df-9a61898e-af50-42a3-bc13-8f64d982020b');\n",
              "          const dataTable =\n",
              "            await google.colab.kernel.invokeFunction('convertToInteractive',\n",
              "                                                     [key], {});\n",
              "          if (!dataTable) return;\n",
              "\n",
              "          const docLinkHtml = 'Like what you see? Visit the ' +\n",
              "            '<a target=\"_blank\" href=https://colab.research.google.com/notebooks/data_table.ipynb>data table notebook</a>'\n",
              "            + ' to learn more about interactive tables.';\n",
              "          element.innerHTML = '';\n",
              "          dataTable['output_type'] = 'display_data';\n",
              "          await google.colab.output.renderOutput(dataTable, element);\n",
              "          const docLink = document.createElement('div');\n",
              "          docLink.innerHTML = docLinkHtml;\n",
              "          element.appendChild(docLink);\n",
              "        }\n",
              "      </script>\n",
              "    </div>\n",
              "  </div>\n",
              "  "
            ]
          },
          "metadata": {},
          "execution_count": 6
        }
      ],
      "source": [
        "adm_reason[adm_reason['death2'].isnull()==False]"
      ]
    },
    {
      "cell_type": "code",
      "execution_count": null,
      "metadata": {
        "colab": {
          "base_uri": "https://localhost:8080/",
          "height": 36
        },
        "id": "N67QVUaX52r3",
        "outputId": "6973920c-01cd-4bbe-a173-08c2539105f9"
      },
      "outputs": [
        {
          "output_type": "execute_result",
          "data": {
            "text/plain": [
              "'is_invasive_ventilation'"
            ],
            "application/vnd.google.colaboratory.intrinsic+json": {
              "type": "string"
            }
          },
          "metadata": {},
          "execution_count": 7
        }
      ],
      "source": [
        "adm_reasonlist = [x for x in adm_reason.columns if ('is_' in x) and ('diagnosis' not in x) and ('sepsis' not in x)]\n",
        "\n",
        "adm_reasonlist.pop() #Get rid of is_invasive_ventilation as everyone is ventialted"
      ]
    },
    {
      "cell_type": "code",
      "execution_count": null,
      "metadata": {
        "id": "uDOrF2Py4bez"
      },
      "outputs": [],
      "source": [
        "adm_reason_merge = adm_reason[['admissionid','weightgroup','gender','death2'] + adm_reasonlist]"
      ]
    },
    {
      "cell_type": "markdown",
      "metadata": {
        "id": "2glq7enE35JI"
      },
      "source": [
        "##Apache  -- usge age\n",
        "\n"
      ]
    },
    {
      "cell_type": "code",
      "execution_count": null,
      "metadata": {
        "colab": {
          "base_uri": "https://localhost:8080/",
          "height": 270
        },
        "id": "-YoaCx5IUo-4",
        "outputId": "06ae32c0-cc6d-4a2d-8795-905d5d561752"
      },
      "outputs": [
        {
          "output_type": "execute_result",
          "data": {
            "text/plain": [
              "   admissionid  a2_temperature_score  a2_mean_abp_score  a2_heart_rate_score  \\\n",
              "0          130                   3.0                2.0                  2.0   \n",
              "1          656                   2.0                2.0                  3.0   \n",
              "2          799                   2.0                4.0                  0.0   \n",
              "3          941                   3.0                2.0                  0.0   \n",
              "4         1098                   0.0                2.0                  0.0   \n",
              "\n",
              "   a2_resp_rate_score  a2_oxygenation_score  a2_pH_score  a2_sodium_score  \\\n",
              "0                 1.0                   0.0          0.0              0.0   \n",
              "1                 1.0                   0.0          2.0              0.0   \n",
              "2                 1.0                   1.0          0.0              0.0   \n",
              "3                 4.0                   0.0          0.0              0.0   \n",
              "4                 1.0                   3.0          3.0              0.0   \n",
              "\n",
              "   a2_potassium_score  a2_creatinine_score  a2_ht_score  a2_wbc_score  \\\n",
              "0                 0.0                  0.0          2.0           0.0   \n",
              "1                 0.0                  0.0          2.0           0.0   \n",
              "2                 1.0                  0.0          2.0           0.0   \n",
              "3                 0.0                  0.0          2.0           1.0   \n",
              "4                 1.0                  0.0          2.0           0.0   \n",
              "\n",
              "   a2_gcs_score  a2_age_score  apache_ii_total_score location  urgency  \n",
              "0           NaN           5.5                   15.5       MC        0  \n",
              "1           NaN           5.5                   17.5       MC        0  \n",
              "2           NaN           4.0                   15.0       MC        0  \n",
              "3           NaN           5.5                   17.5       MC        0  \n",
              "4           NaN           5.5                   17.5       MC        0  "
            ],
            "text/html": [
              "\n",
              "  <div id=\"df-9ae144e2-3247-48d6-ba65-322f46381a09\">\n",
              "    <div class=\"colab-df-container\">\n",
              "      <div>\n",
              "<style scoped>\n",
              "    .dataframe tbody tr th:only-of-type {\n",
              "        vertical-align: middle;\n",
              "    }\n",
              "\n",
              "    .dataframe tbody tr th {\n",
              "        vertical-align: top;\n",
              "    }\n",
              "\n",
              "    .dataframe thead th {\n",
              "        text-align: right;\n",
              "    }\n",
              "</style>\n",
              "<table border=\"1\" class=\"dataframe\">\n",
              "  <thead>\n",
              "    <tr style=\"text-align: right;\">\n",
              "      <th></th>\n",
              "      <th>admissionid</th>\n",
              "      <th>a2_temperature_score</th>\n",
              "      <th>a2_mean_abp_score</th>\n",
              "      <th>a2_heart_rate_score</th>\n",
              "      <th>a2_resp_rate_score</th>\n",
              "      <th>a2_oxygenation_score</th>\n",
              "      <th>a2_pH_score</th>\n",
              "      <th>a2_sodium_score</th>\n",
              "      <th>a2_potassium_score</th>\n",
              "      <th>a2_creatinine_score</th>\n",
              "      <th>a2_ht_score</th>\n",
              "      <th>a2_wbc_score</th>\n",
              "      <th>a2_gcs_score</th>\n",
              "      <th>a2_age_score</th>\n",
              "      <th>apache_ii_total_score</th>\n",
              "      <th>location</th>\n",
              "      <th>urgency</th>\n",
              "    </tr>\n",
              "  </thead>\n",
              "  <tbody>\n",
              "    <tr>\n",
              "      <th>0</th>\n",
              "      <td>130</td>\n",
              "      <td>3.0</td>\n",
              "      <td>2.0</td>\n",
              "      <td>2.0</td>\n",
              "      <td>1.0</td>\n",
              "      <td>0.0</td>\n",
              "      <td>0.0</td>\n",
              "      <td>0.0</td>\n",
              "      <td>0.0</td>\n",
              "      <td>0.0</td>\n",
              "      <td>2.0</td>\n",
              "      <td>0.0</td>\n",
              "      <td>NaN</td>\n",
              "      <td>5.5</td>\n",
              "      <td>15.5</td>\n",
              "      <td>MC</td>\n",
              "      <td>0</td>\n",
              "    </tr>\n",
              "    <tr>\n",
              "      <th>1</th>\n",
              "      <td>656</td>\n",
              "      <td>2.0</td>\n",
              "      <td>2.0</td>\n",
              "      <td>3.0</td>\n",
              "      <td>1.0</td>\n",
              "      <td>0.0</td>\n",
              "      <td>2.0</td>\n",
              "      <td>0.0</td>\n",
              "      <td>0.0</td>\n",
              "      <td>0.0</td>\n",
              "      <td>2.0</td>\n",
              "      <td>0.0</td>\n",
              "      <td>NaN</td>\n",
              "      <td>5.5</td>\n",
              "      <td>17.5</td>\n",
              "      <td>MC</td>\n",
              "      <td>0</td>\n",
              "    </tr>\n",
              "    <tr>\n",
              "      <th>2</th>\n",
              "      <td>799</td>\n",
              "      <td>2.0</td>\n",
              "      <td>4.0</td>\n",
              "      <td>0.0</td>\n",
              "      <td>1.0</td>\n",
              "      <td>1.0</td>\n",
              "      <td>0.0</td>\n",
              "      <td>0.0</td>\n",
              "      <td>1.0</td>\n",
              "      <td>0.0</td>\n",
              "      <td>2.0</td>\n",
              "      <td>0.0</td>\n",
              "      <td>NaN</td>\n",
              "      <td>4.0</td>\n",
              "      <td>15.0</td>\n",
              "      <td>MC</td>\n",
              "      <td>0</td>\n",
              "    </tr>\n",
              "    <tr>\n",
              "      <th>3</th>\n",
              "      <td>941</td>\n",
              "      <td>3.0</td>\n",
              "      <td>2.0</td>\n",
              "      <td>0.0</td>\n",
              "      <td>4.0</td>\n",
              "      <td>0.0</td>\n",
              "      <td>0.0</td>\n",
              "      <td>0.0</td>\n",
              "      <td>0.0</td>\n",
              "      <td>0.0</td>\n",
              "      <td>2.0</td>\n",
              "      <td>1.0</td>\n",
              "      <td>NaN</td>\n",
              "      <td>5.5</td>\n",
              "      <td>17.5</td>\n",
              "      <td>MC</td>\n",
              "      <td>0</td>\n",
              "    </tr>\n",
              "    <tr>\n",
              "      <th>4</th>\n",
              "      <td>1098</td>\n",
              "      <td>0.0</td>\n",
              "      <td>2.0</td>\n",
              "      <td>0.0</td>\n",
              "      <td>1.0</td>\n",
              "      <td>3.0</td>\n",
              "      <td>3.0</td>\n",
              "      <td>0.0</td>\n",
              "      <td>1.0</td>\n",
              "      <td>0.0</td>\n",
              "      <td>2.0</td>\n",
              "      <td>0.0</td>\n",
              "      <td>NaN</td>\n",
              "      <td>5.5</td>\n",
              "      <td>17.5</td>\n",
              "      <td>MC</td>\n",
              "      <td>0</td>\n",
              "    </tr>\n",
              "  </tbody>\n",
              "</table>\n",
              "</div>\n",
              "      <button class=\"colab-df-convert\" onclick=\"convertToInteractive('df-9ae144e2-3247-48d6-ba65-322f46381a09')\"\n",
              "              title=\"Convert this dataframe to an interactive table.\"\n",
              "              style=\"display:none;\">\n",
              "        \n",
              "  <svg xmlns=\"http://www.w3.org/2000/svg\" height=\"24px\"viewBox=\"0 0 24 24\"\n",
              "       width=\"24px\">\n",
              "    <path d=\"M0 0h24v24H0V0z\" fill=\"none\"/>\n",
              "    <path d=\"M18.56 5.44l.94 2.06.94-2.06 2.06-.94-2.06-.94-.94-2.06-.94 2.06-2.06.94zm-11 1L8.5 8.5l.94-2.06 2.06-.94-2.06-.94L8.5 2.5l-.94 2.06-2.06.94zm10 10l.94 2.06.94-2.06 2.06-.94-2.06-.94-.94-2.06-.94 2.06-2.06.94z\"/><path d=\"M17.41 7.96l-1.37-1.37c-.4-.4-.92-.59-1.43-.59-.52 0-1.04.2-1.43.59L10.3 9.45l-7.72 7.72c-.78.78-.78 2.05 0 2.83L4 21.41c.39.39.9.59 1.41.59.51 0 1.02-.2 1.41-.59l7.78-7.78 2.81-2.81c.8-.78.8-2.07 0-2.86zM5.41 20L4 18.59l7.72-7.72 1.47 1.35L5.41 20z\"/>\n",
              "  </svg>\n",
              "      </button>\n",
              "      \n",
              "  <style>\n",
              "    .colab-df-container {\n",
              "      display:flex;\n",
              "      flex-wrap:wrap;\n",
              "      gap: 12px;\n",
              "    }\n",
              "\n",
              "    .colab-df-convert {\n",
              "      background-color: #E8F0FE;\n",
              "      border: none;\n",
              "      border-radius: 50%;\n",
              "      cursor: pointer;\n",
              "      display: none;\n",
              "      fill: #1967D2;\n",
              "      height: 32px;\n",
              "      padding: 0 0 0 0;\n",
              "      width: 32px;\n",
              "    }\n",
              "\n",
              "    .colab-df-convert:hover {\n",
              "      background-color: #E2EBFA;\n",
              "      box-shadow: 0px 1px 2px rgba(60, 64, 67, 0.3), 0px 1px 3px 1px rgba(60, 64, 67, 0.15);\n",
              "      fill: #174EA6;\n",
              "    }\n",
              "\n",
              "    [theme=dark] .colab-df-convert {\n",
              "      background-color: #3B4455;\n",
              "      fill: #D2E3FC;\n",
              "    }\n",
              "\n",
              "    [theme=dark] .colab-df-convert:hover {\n",
              "      background-color: #434B5C;\n",
              "      box-shadow: 0px 1px 3px 1px rgba(0, 0, 0, 0.15);\n",
              "      filter: drop-shadow(0px 1px 2px rgba(0, 0, 0, 0.3));\n",
              "      fill: #FFFFFF;\n",
              "    }\n",
              "  </style>\n",
              "\n",
              "      <script>\n",
              "        const buttonEl =\n",
              "          document.querySelector('#df-9ae144e2-3247-48d6-ba65-322f46381a09 button.colab-df-convert');\n",
              "        buttonEl.style.display =\n",
              "          google.colab.kernel.accessAllowed ? 'block' : 'none';\n",
              "\n",
              "        async function convertToInteractive(key) {\n",
              "          const element = document.querySelector('#df-9ae144e2-3247-48d6-ba65-322f46381a09');\n",
              "          const dataTable =\n",
              "            await google.colab.kernel.invokeFunction('convertToInteractive',\n",
              "                                                     [key], {});\n",
              "          if (!dataTable) return;\n",
              "\n",
              "          const docLinkHtml = 'Like what you see? Visit the ' +\n",
              "            '<a target=\"_blank\" href=https://colab.research.google.com/notebooks/data_table.ipynb>data table notebook</a>'\n",
              "            + ' to learn more about interactive tables.';\n",
              "          element.innerHTML = '';\n",
              "          dataTable['output_type'] = 'display_data';\n",
              "          await google.colab.output.renderOutput(dataTable, element);\n",
              "          const docLink = document.createElement('div');\n",
              "          docLink.innerHTML = docLinkHtml;\n",
              "          element.appendChild(docLink);\n",
              "        }\n",
              "      </script>\n",
              "    </div>\n",
              "  </div>\n",
              "  "
            ]
          },
          "metadata": {},
          "execution_count": 9
        }
      ],
      "source": [
        "apache.head()"
      ]
    },
    {
      "cell_type": "code",
      "execution_count": null,
      "metadata": {
        "colab": {
          "base_uri": "https://localhost:8080/"
        },
        "id": "ss_NtxA0UyJ3",
        "outputId": "b173bb00-abdf-4ae5-e93e-96bcecc0c479"
      },
      "outputs": [
        {
          "output_type": "execute_result",
          "data": {
            "text/plain": [
              "15.0    10252\n",
              "3.0      1719\n",
              "14.0     1248\n",
              "11.0      568\n",
              "10.0      445\n",
              "13.0      299\n",
              "6.0       273\n",
              "7.0       226\n",
              "9.0       200\n",
              "8.0       191\n",
              "12.0      163\n",
              "4.0       117\n",
              "5.0       111\n",
              "Name: gcs, dtype: int64"
            ]
          },
          "metadata": {},
          "execution_count": 10
        }
      ],
      "source": [
        "apache['gcs'] = 15-apache['a2_gcs_score']\n",
        "\n",
        "apache['gcs'].value_counts()"
      ]
    },
    {
      "cell_type": "code",
      "execution_count": null,
      "metadata": {
        "colab": {
          "base_uri": "https://localhost:8080/"
        },
        "id": "PGJdeuZq39OW",
        "outputId": "611eaaee-bf1d-476b-bdab-fea338ad9021"
      },
      "outputs": [
        {
          "output_type": "execute_result",
          "data": {
            "text/plain": [
              "0.3156755820998875"
            ]
          },
          "metadata": {},
          "execution_count": 11
        }
      ],
      "source": [
        "apache['a2_gcs_score'].isnull().sum()/len(apache)"
      ]
    },
    {
      "cell_type": "markdown",
      "metadata": {
        "id": "Go2ehUAe4C4_"
      },
      "source": [
        "## Pressors  -- Not Used"
      ]
    },
    {
      "cell_type": "code",
      "execution_count": null,
      "metadata": {
        "colab": {
          "base_uri": "https://localhost:8080/",
          "height": 206
        },
        "id": "ySEqVElT4AY4",
        "outputId": "13bfa08e-175e-41b6-80c8-05252c4f8622"
      },
      "outputs": [
        {
          "output_type": "execute_result",
          "data": {
            "text/plain": [
              "   admissionid  measuredat2     gamma\n",
              "0            0         26.0  2.083333\n",
              "1            0         27.0  2.083333\n",
              "2            0         28.0  2.083333\n",
              "3            0         29.0  2.083333\n",
              "4            0         30.0  2.083333"
            ],
            "text/html": [
              "\n",
              "  <div id=\"df-9783d30f-243a-450a-8bb4-89359c32fce2\">\n",
              "    <div class=\"colab-df-container\">\n",
              "      <div>\n",
              "<style scoped>\n",
              "    .dataframe tbody tr th:only-of-type {\n",
              "        vertical-align: middle;\n",
              "    }\n",
              "\n",
              "    .dataframe tbody tr th {\n",
              "        vertical-align: top;\n",
              "    }\n",
              "\n",
              "    .dataframe thead th {\n",
              "        text-align: right;\n",
              "    }\n",
              "</style>\n",
              "<table border=\"1\" class=\"dataframe\">\n",
              "  <thead>\n",
              "    <tr style=\"text-align: right;\">\n",
              "      <th></th>\n",
              "      <th>admissionid</th>\n",
              "      <th>measuredat2</th>\n",
              "      <th>gamma</th>\n",
              "    </tr>\n",
              "  </thead>\n",
              "  <tbody>\n",
              "    <tr>\n",
              "      <th>0</th>\n",
              "      <td>0</td>\n",
              "      <td>26.0</td>\n",
              "      <td>2.083333</td>\n",
              "    </tr>\n",
              "    <tr>\n",
              "      <th>1</th>\n",
              "      <td>0</td>\n",
              "      <td>27.0</td>\n",
              "      <td>2.083333</td>\n",
              "    </tr>\n",
              "    <tr>\n",
              "      <th>2</th>\n",
              "      <td>0</td>\n",
              "      <td>28.0</td>\n",
              "      <td>2.083333</td>\n",
              "    </tr>\n",
              "    <tr>\n",
              "      <th>3</th>\n",
              "      <td>0</td>\n",
              "      <td>29.0</td>\n",
              "      <td>2.083333</td>\n",
              "    </tr>\n",
              "    <tr>\n",
              "      <th>4</th>\n",
              "      <td>0</td>\n",
              "      <td>30.0</td>\n",
              "      <td>2.083333</td>\n",
              "    </tr>\n",
              "  </tbody>\n",
              "</table>\n",
              "</div>\n",
              "      <button class=\"colab-df-convert\" onclick=\"convertToInteractive('df-9783d30f-243a-450a-8bb4-89359c32fce2')\"\n",
              "              title=\"Convert this dataframe to an interactive table.\"\n",
              "              style=\"display:none;\">\n",
              "        \n",
              "  <svg xmlns=\"http://www.w3.org/2000/svg\" height=\"24px\"viewBox=\"0 0 24 24\"\n",
              "       width=\"24px\">\n",
              "    <path d=\"M0 0h24v24H0V0z\" fill=\"none\"/>\n",
              "    <path d=\"M18.56 5.44l.94 2.06.94-2.06 2.06-.94-2.06-.94-.94-2.06-.94 2.06-2.06.94zm-11 1L8.5 8.5l.94-2.06 2.06-.94-2.06-.94L8.5 2.5l-.94 2.06-2.06.94zm10 10l.94 2.06.94-2.06 2.06-.94-2.06-.94-.94-2.06-.94 2.06-2.06.94z\"/><path d=\"M17.41 7.96l-1.37-1.37c-.4-.4-.92-.59-1.43-.59-.52 0-1.04.2-1.43.59L10.3 9.45l-7.72 7.72c-.78.78-.78 2.05 0 2.83L4 21.41c.39.39.9.59 1.41.59.51 0 1.02-.2 1.41-.59l7.78-7.78 2.81-2.81c.8-.78.8-2.07 0-2.86zM5.41 20L4 18.59l7.72-7.72 1.47 1.35L5.41 20z\"/>\n",
              "  </svg>\n",
              "      </button>\n",
              "      \n",
              "  <style>\n",
              "    .colab-df-container {\n",
              "      display:flex;\n",
              "      flex-wrap:wrap;\n",
              "      gap: 12px;\n",
              "    }\n",
              "\n",
              "    .colab-df-convert {\n",
              "      background-color: #E8F0FE;\n",
              "      border: none;\n",
              "      border-radius: 50%;\n",
              "      cursor: pointer;\n",
              "      display: none;\n",
              "      fill: #1967D2;\n",
              "      height: 32px;\n",
              "      padding: 0 0 0 0;\n",
              "      width: 32px;\n",
              "    }\n",
              "\n",
              "    .colab-df-convert:hover {\n",
              "      background-color: #E2EBFA;\n",
              "      box-shadow: 0px 1px 2px rgba(60, 64, 67, 0.3), 0px 1px 3px 1px rgba(60, 64, 67, 0.15);\n",
              "      fill: #174EA6;\n",
              "    }\n",
              "\n",
              "    [theme=dark] .colab-df-convert {\n",
              "      background-color: #3B4455;\n",
              "      fill: #D2E3FC;\n",
              "    }\n",
              "\n",
              "    [theme=dark] .colab-df-convert:hover {\n",
              "      background-color: #434B5C;\n",
              "      box-shadow: 0px 1px 3px 1px rgba(0, 0, 0, 0.15);\n",
              "      filter: drop-shadow(0px 1px 2px rgba(0, 0, 0, 0.3));\n",
              "      fill: #FFFFFF;\n",
              "    }\n",
              "  </style>\n",
              "\n",
              "      <script>\n",
              "        const buttonEl =\n",
              "          document.querySelector('#df-9783d30f-243a-450a-8bb4-89359c32fce2 button.colab-df-convert');\n",
              "        buttonEl.style.display =\n",
              "          google.colab.kernel.accessAllowed ? 'block' : 'none';\n",
              "\n",
              "        async function convertToInteractive(key) {\n",
              "          const element = document.querySelector('#df-9783d30f-243a-450a-8bb4-89359c32fce2');\n",
              "          const dataTable =\n",
              "            await google.colab.kernel.invokeFunction('convertToInteractive',\n",
              "                                                     [key], {});\n",
              "          if (!dataTable) return;\n",
              "\n",
              "          const docLinkHtml = 'Like what you see? Visit the ' +\n",
              "            '<a target=\"_blank\" href=https://colab.research.google.com/notebooks/data_table.ipynb>data table notebook</a>'\n",
              "            + ' to learn more about interactive tables.';\n",
              "          element.innerHTML = '';\n",
              "          dataTable['output_type'] = 'display_data';\n",
              "          await google.colab.output.renderOutput(dataTable, element);\n",
              "          const docLink = document.createElement('div');\n",
              "          docLink.innerHTML = docLinkHtml;\n",
              "          element.appendChild(docLink);\n",
              "        }\n",
              "      </script>\n",
              "    </div>\n",
              "  </div>\n",
              "  "
            ]
          },
          "metadata": {},
          "execution_count": 12
        }
      ],
      "source": [
        "pressors.head()"
      ]
    },
    {
      "cell_type": "markdown",
      "metadata": {
        "id": "bTG-rlyOuoEP"
      },
      "source": [
        "## Explore the dataset\n",
        "1. Merging\n",
        "2. Missing Values\n",
        "3."
      ]
    },
    {
      "cell_type": "code",
      "execution_count": null,
      "metadata": {
        "id": "8YtYP4Yj4WHi"
      },
      "outputs": [],
      "source": [
        "df = pd.merge(base,adm_reason_merge,how='left',on='admissionid') #merge admission reason"
      ]
    },
    {
      "cell_type": "code",
      "execution_count": null,
      "metadata": {
        "id": "JGhOmZWPg2LV"
      },
      "outputs": [],
      "source": [
        "df = pd.merge(df,apache[['admissionid','a2_age_score']],how='left',on='admissionid') #merge age"
      ]
    },
    {
      "cell_type": "code",
      "execution_count": null,
      "metadata": {
        "colab": {
          "base_uri": "https://localhost:8080/"
        },
        "id": "e3lKVqKzhLDr",
        "outputId": "bee4013a-118b-4c07-9517-deb222935d08"
      },
      "outputs": [
        {
          "output_type": "execute_result",
          "data": {
            "text/plain": [
              "admissionid                          0\n",
              "measuredat2                          0\n",
              "is_iv                           864383\n",
              "iv_model                        864383\n",
              "iv_mode                         864383\n",
              "entubated                       499840\n",
              "tube                            499840\n",
              "tracheostoma                    499840\n",
              "a2_resp_rate                    403062\n",
              "tidal                           855009\n",
              "minute_vol                      856220\n",
              "peep                            855379\n",
              "peak                            857160\n",
              "insp_p                          889141\n",
              "map                             267048\n",
              "sbp                             266693\n",
              "dbp                             266882\n",
              "plt                            1817110\n",
              "bilirubin                      1935827\n",
              "gcs                            1949440\n",
              "insp_time                       880676\n",
              "a2_heart_rate                   256420\n",
              "a2_temperature                 1321016\n",
              "a2_mean_abp                     270085\n",
              "PaO2                           1471322\n",
              "PaCO2                          1471322\n",
              "FiO2                           1660039\n",
              "AaDO2                          1660039\n",
              "a2_pH                          1463561\n",
              "a2_sodium                      1434330\n",
              "a2_potassium                   1427898\n",
              "a2_creatinine_mg_per_dl        1834624\n",
              "a2_ht                          1480722\n",
              "weightgroup                      61328\n",
              "gender                            2791\n",
              "death2                         1016516\n",
              "is_surgical                          0\n",
              "is_medical                           0\n",
              "is_cardiothoracic_surgery            0\n",
              "is_respiratory_failure               0\n",
              "is_neurosurgery                      0\n",
              "is_gastrointestinal_surgery          0\n",
              "is_cardiac_arrest                    0\n",
              "is_vascular_surgery                  0\n",
              "is_trauma                            0\n",
              "is_neuro                             0\n",
              "is_cardio                            0\n",
              "is_infection                         0\n",
              "is_shock                             0\n",
              "a2_age_score                         0\n",
              "dtype: int64"
            ]
          },
          "metadata": {},
          "execution_count": 15
        }
      ],
      "source": [
        "df.isnull().sum()"
      ]
    },
    {
      "cell_type": "markdown",
      "metadata": {
        "id": "WJ7tv6dAg_HF"
      },
      "source": []
    },
    {
      "cell_type": "code",
      "execution_count": null,
      "metadata": {
        "colab": {
          "base_uri": "https://localhost:8080/"
        },
        "id": "MiJinp5fnmhx",
        "outputId": "9d0fa96c-0358-4b7a-b0f3-ab1c221d9f79"
      },
      "outputs": [
        {
          "output_type": "stream",
          "name": "stdout",
          "text": [
            "13909 unique patients\n"
          ]
        }
      ],
      "source": [
        "print(df['admissionid'].nunique(),'unique patients')"
      ]
    },
    {
      "cell_type": "markdown",
      "metadata": {
        "id": "MbsiAMBSoNUc"
      },
      "source": [
        "Patient 0 has on Ventilator hour 6:16\n",
        "\n",
        "Task to compelte:\n",
        "- How long does the patient being intubated?\n",
        "- What is the mechanical power trend\n",
        "- What are the Input variables\n",
        "- What are the Outcome variables\n",
        "\n",
        "MP = 0.098 x Vt x RR x (PEEP + Pinsp)\n",
        "\n",
        "- Vt: 'tidal'\n",
        "- RR: 'a2_resp_rate'\n",
        "- PEEP: 'peep'\n",
        "- Pinsp: 'insp_p'"
      ]
    },
    {
      "cell_type": "code",
      "execution_count": null,
      "metadata": {
        "id": "PK_lWsqzARCQ",
        "colab": {
          "base_uri": "https://localhost:8080/",
          "height": 1000
        },
        "outputId": "06d0e00a-7234-4643-db91-757b5702cbf2"
      },
      "outputs": [
        {
          "output_type": "execute_result",
          "data": {
            "text/plain": [
              "    admissionid  measuredat2 is_iv               iv_model         iv_mode  \\\n",
              "0             0         -272   NaN                    NaN             NaN   \n",
              "1             0         -250   NaN                    NaN             NaN   \n",
              "2             0         -130   NaN                    NaN             NaN   \n",
              "3             0           -8   NaN                    NaN             NaN   \n",
              "4             0            5   NaN                    NaN             NaN   \n",
              "5             0            6  True  Ventilatie Mode (Set)              PC   \n",
              "6             0            7  True  Ventilatie Mode (Set)              PC   \n",
              "7             0            8  True  Ventilatie Mode (Set)              PC   \n",
              "8             0            9  True  Ventilatie Mode (Set)              PC   \n",
              "9             0           10  True  Ventilatie Mode (Set)              PC   \n",
              "10            0           11  True  Ventilatie Mode (Set)              PC   \n",
              "11            0           12  True  Ventilatie Mode (Set)              PC   \n",
              "12            0           13  True  Ventilatie Mode (Set)  PS/CPAP (trig)   \n",
              "13            0           14  True  Ventilatie Mode (Set)         PS/CPAP   \n",
              "14            0           15  True  Ventilatie Mode (Set)         PS/CPAP   \n",
              "15            0           16  True  Ventilatie Mode (Set)         PS/CPAP   \n",
              "16            0           17   NaN                    NaN             NaN   \n",
              "17            0           18   NaN                    NaN             NaN   \n",
              "18            0           19   NaN                    NaN             NaN   \n",
              "19            0           20   NaN                    NaN             NaN   \n",
              "20            0           21   NaN                    NaN             NaN   \n",
              "21            0           22   NaN                    NaN             NaN   \n",
              "22            0           23   NaN                    NaN             NaN   \n",
              "23            0           24   NaN                    NaN             NaN   \n",
              "24            0           25   NaN                    NaN             NaN   \n",
              "25            0           26   NaN                    NaN             NaN   \n",
              "26            0           27   NaN                    NaN             NaN   \n",
              "27            0           28   NaN                    NaN             NaN   \n",
              "28            0           29   NaN                    NaN             NaN   \n",
              "29            0           30   NaN                    NaN             NaN   \n",
              "30            0           31   NaN                    NaN             NaN   \n",
              "31            0           32   NaN                    NaN             NaN   \n",
              "32            0           33   NaN                    NaN             NaN   \n",
              "33            0           34   NaN                    NaN             NaN   \n",
              "34            0           35   NaN                    NaN             NaN   \n",
              "35            0           36   NaN                    NaN             NaN   \n",
              "36            0           37   NaN                    NaN             NaN   \n",
              "37            0           38   NaN                    NaN             NaN   \n",
              "38            0           39   NaN                    NaN             NaN   \n",
              "39            0           40   NaN                    NaN             NaN   \n",
              "\n",
              "   entubated  tube tracheostoma  a2_resp_rate   tidal  ...  is_neurosurgery  \\\n",
              "0        NaN   NaN          NaN           NaN     NaN  ...            False   \n",
              "1        NaN   NaN          NaN           NaN     NaN  ...            False   \n",
              "2        NaN   NaN          NaN           NaN     NaN  ...            False   \n",
              "3        NaN   NaN          NaN           NaN     NaN  ...            False   \n",
              "4        NaN   NaN          NaN           NaN     NaN  ...            False   \n",
              "5       True  True        False     13.000000  446.75  ...            False   \n",
              "6       True  True        False     13.000000  476.50  ...            False   \n",
              "7       True  True        False     13.000000  479.00  ...            False   \n",
              "8       True  True        False     13.000000  476.00  ...            False   \n",
              "9       True  True        False     13.000000  469.00  ...            False   \n",
              "10      True  True        False     13.000000  474.00  ...            False   \n",
              "11      True  True        False     13.000000  473.50  ...            False   \n",
              "12      True  True        False     23.000000  379.50  ...            False   \n",
              "13      True  True        False     23.000000  420.50  ...            False   \n",
              "14      True  True        False     23.000000  407.00  ...            False   \n",
              "15      True  True        False     26.000000  311.00  ...            False   \n",
              "16      True  True        False           NaN     NaN  ...            False   \n",
              "17      True  True        False           NaN     NaN  ...            False   \n",
              "18      True  True        False     11.666667     NaN  ...            False   \n",
              "19       NaN   NaN          NaN      6.000000     NaN  ...            False   \n",
              "20       NaN   NaN          NaN      8.000000     NaN  ...            False   \n",
              "21       NaN   NaN          NaN      9.000000     NaN  ...            False   \n",
              "22       NaN   NaN          NaN      5.000000     NaN  ...            False   \n",
              "23       NaN   NaN          NaN      6.000000     NaN  ...            False   \n",
              "24       NaN   NaN          NaN      8.000000     NaN  ...            False   \n",
              "25       NaN   NaN          NaN     19.000000     NaN  ...            False   \n",
              "26       NaN   NaN          NaN      7.000000     NaN  ...            False   \n",
              "27       NaN   NaN          NaN      7.000000     NaN  ...            False   \n",
              "28       NaN   NaN          NaN      7.000000     NaN  ...            False   \n",
              "29       NaN   NaN          NaN     11.000000     NaN  ...            False   \n",
              "30       NaN   NaN          NaN     10.000000     NaN  ...            False   \n",
              "31       NaN   NaN          NaN      9.000000     NaN  ...            False   \n",
              "32       NaN   NaN          NaN      8.000000     NaN  ...            False   \n",
              "33       NaN   NaN          NaN           NaN     NaN  ...            False   \n",
              "34       NaN   NaN          NaN     18.000000     NaN  ...            False   \n",
              "35       NaN   NaN          NaN           NaN     NaN  ...            False   \n",
              "36       NaN   NaN          NaN     24.000000     NaN  ...            False   \n",
              "37       NaN   NaN          NaN     11.000000     NaN  ...            False   \n",
              "38       NaN   NaN          NaN     15.000000     NaN  ...            False   \n",
              "39       NaN   NaN          NaN     12.000000     NaN  ...            False   \n",
              "\n",
              "    is_gastrointestinal_surgery  is_cardiac_arrest  is_vascular_surgery  \\\n",
              "0                         False              False                False   \n",
              "1                         False              False                False   \n",
              "2                         False              False                False   \n",
              "3                         False              False                False   \n",
              "4                         False              False                False   \n",
              "5                         False              False                False   \n",
              "6                         False              False                False   \n",
              "7                         False              False                False   \n",
              "8                         False              False                False   \n",
              "9                         False              False                False   \n",
              "10                        False              False                False   \n",
              "11                        False              False                False   \n",
              "12                        False              False                False   \n",
              "13                        False              False                False   \n",
              "14                        False              False                False   \n",
              "15                        False              False                False   \n",
              "16                        False              False                False   \n",
              "17                        False              False                False   \n",
              "18                        False              False                False   \n",
              "19                        False              False                False   \n",
              "20                        False              False                False   \n",
              "21                        False              False                False   \n",
              "22                        False              False                False   \n",
              "23                        False              False                False   \n",
              "24                        False              False                False   \n",
              "25                        False              False                False   \n",
              "26                        False              False                False   \n",
              "27                        False              False                False   \n",
              "28                        False              False                False   \n",
              "29                        False              False                False   \n",
              "30                        False              False                False   \n",
              "31                        False              False                False   \n",
              "32                        False              False                False   \n",
              "33                        False              False                False   \n",
              "34                        False              False                False   \n",
              "35                        False              False                False   \n",
              "36                        False              False                False   \n",
              "37                        False              False                False   \n",
              "38                        False              False                False   \n",
              "39                        False              False                False   \n",
              "\n",
              "    is_trauma  is_neuro  is_cardio  is_infection  is_shock  a2_age_score  \n",
              "0       False     False      False         False     False           6.0  \n",
              "1       False     False      False         False     False           6.0  \n",
              "2       False     False      False         False     False           6.0  \n",
              "3       False     False      False         False     False           6.0  \n",
              "4       False     False      False         False     False           6.0  \n",
              "5       False     False      False         False     False           6.0  \n",
              "6       False     False      False         False     False           6.0  \n",
              "7       False     False      False         False     False           6.0  \n",
              "8       False     False      False         False     False           6.0  \n",
              "9       False     False      False         False     False           6.0  \n",
              "10      False     False      False         False     False           6.0  \n",
              "11      False     False      False         False     False           6.0  \n",
              "12      False     False      False         False     False           6.0  \n",
              "13      False     False      False         False     False           6.0  \n",
              "14      False     False      False         False     False           6.0  \n",
              "15      False     False      False         False     False           6.0  \n",
              "16      False     False      False         False     False           6.0  \n",
              "17      False     False      False         False     False           6.0  \n",
              "18      False     False      False         False     False           6.0  \n",
              "19      False     False      False         False     False           6.0  \n",
              "20      False     False      False         False     False           6.0  \n",
              "21      False     False      False         False     False           6.0  \n",
              "22      False     False      False         False     False           6.0  \n",
              "23      False     False      False         False     False           6.0  \n",
              "24      False     False      False         False     False           6.0  \n",
              "25      False     False      False         False     False           6.0  \n",
              "26      False     False      False         False     False           6.0  \n",
              "27      False     False      False         False     False           6.0  \n",
              "28      False     False      False         False     False           6.0  \n",
              "29      False     False      False         False     False           6.0  \n",
              "30      False     False      False         False     False           6.0  \n",
              "31      False     False      False         False     False           6.0  \n",
              "32      False     False      False         False     False           6.0  \n",
              "33      False     False      False         False     False           6.0  \n",
              "34      False     False      False         False     False           6.0  \n",
              "35      False     False      False         False     False           6.0  \n",
              "36      False     False      False         False     False           6.0  \n",
              "37      False     False      False         False     False           6.0  \n",
              "38      False     False      False         False     False           6.0  \n",
              "39      False     False      False         False     False           6.0  \n",
              "\n",
              "[40 rows x 50 columns]"
            ],
            "text/html": [
              "\n",
              "  <div id=\"df-c887047a-f4eb-4559-a599-aa2acddb3306\">\n",
              "    <div class=\"colab-df-container\">\n",
              "      <div>\n",
              "<style scoped>\n",
              "    .dataframe tbody tr th:only-of-type {\n",
              "        vertical-align: middle;\n",
              "    }\n",
              "\n",
              "    .dataframe tbody tr th {\n",
              "        vertical-align: top;\n",
              "    }\n",
              "\n",
              "    .dataframe thead th {\n",
              "        text-align: right;\n",
              "    }\n",
              "</style>\n",
              "<table border=\"1\" class=\"dataframe\">\n",
              "  <thead>\n",
              "    <tr style=\"text-align: right;\">\n",
              "      <th></th>\n",
              "      <th>admissionid</th>\n",
              "      <th>measuredat2</th>\n",
              "      <th>is_iv</th>\n",
              "      <th>iv_model</th>\n",
              "      <th>iv_mode</th>\n",
              "      <th>entubated</th>\n",
              "      <th>tube</th>\n",
              "      <th>tracheostoma</th>\n",
              "      <th>a2_resp_rate</th>\n",
              "      <th>tidal</th>\n",
              "      <th>...</th>\n",
              "      <th>is_neurosurgery</th>\n",
              "      <th>is_gastrointestinal_surgery</th>\n",
              "      <th>is_cardiac_arrest</th>\n",
              "      <th>is_vascular_surgery</th>\n",
              "      <th>is_trauma</th>\n",
              "      <th>is_neuro</th>\n",
              "      <th>is_cardio</th>\n",
              "      <th>is_infection</th>\n",
              "      <th>is_shock</th>\n",
              "      <th>a2_age_score</th>\n",
              "    </tr>\n",
              "  </thead>\n",
              "  <tbody>\n",
              "    <tr>\n",
              "      <th>0</th>\n",
              "      <td>0</td>\n",
              "      <td>-272</td>\n",
              "      <td>NaN</td>\n",
              "      <td>NaN</td>\n",
              "      <td>NaN</td>\n",
              "      <td>NaN</td>\n",
              "      <td>NaN</td>\n",
              "      <td>NaN</td>\n",
              "      <td>NaN</td>\n",
              "      <td>NaN</td>\n",
              "      <td>...</td>\n",
              "      <td>False</td>\n",
              "      <td>False</td>\n",
              "      <td>False</td>\n",
              "      <td>False</td>\n",
              "      <td>False</td>\n",
              "      <td>False</td>\n",
              "      <td>False</td>\n",
              "      <td>False</td>\n",
              "      <td>False</td>\n",
              "      <td>6.0</td>\n",
              "    </tr>\n",
              "    <tr>\n",
              "      <th>1</th>\n",
              "      <td>0</td>\n",
              "      <td>-250</td>\n",
              "      <td>NaN</td>\n",
              "      <td>NaN</td>\n",
              "      <td>NaN</td>\n",
              "      <td>NaN</td>\n",
              "      <td>NaN</td>\n",
              "      <td>NaN</td>\n",
              "      <td>NaN</td>\n",
              "      <td>NaN</td>\n",
              "      <td>...</td>\n",
              "      <td>False</td>\n",
              "      <td>False</td>\n",
              "      <td>False</td>\n",
              "      <td>False</td>\n",
              "      <td>False</td>\n",
              "      <td>False</td>\n",
              "      <td>False</td>\n",
              "      <td>False</td>\n",
              "      <td>False</td>\n",
              "      <td>6.0</td>\n",
              "    </tr>\n",
              "    <tr>\n",
              "      <th>2</th>\n",
              "      <td>0</td>\n",
              "      <td>-130</td>\n",
              "      <td>NaN</td>\n",
              "      <td>NaN</td>\n",
              "      <td>NaN</td>\n",
              "      <td>NaN</td>\n",
              "      <td>NaN</td>\n",
              "      <td>NaN</td>\n",
              "      <td>NaN</td>\n",
              "      <td>NaN</td>\n",
              "      <td>...</td>\n",
              "      <td>False</td>\n",
              "      <td>False</td>\n",
              "      <td>False</td>\n",
              "      <td>False</td>\n",
              "      <td>False</td>\n",
              "      <td>False</td>\n",
              "      <td>False</td>\n",
              "      <td>False</td>\n",
              "      <td>False</td>\n",
              "      <td>6.0</td>\n",
              "    </tr>\n",
              "    <tr>\n",
              "      <th>3</th>\n",
              "      <td>0</td>\n",
              "      <td>-8</td>\n",
              "      <td>NaN</td>\n",
              "      <td>NaN</td>\n",
              "      <td>NaN</td>\n",
              "      <td>NaN</td>\n",
              "      <td>NaN</td>\n",
              "      <td>NaN</td>\n",
              "      <td>NaN</td>\n",
              "      <td>NaN</td>\n",
              "      <td>...</td>\n",
              "      <td>False</td>\n",
              "      <td>False</td>\n",
              "      <td>False</td>\n",
              "      <td>False</td>\n",
              "      <td>False</td>\n",
              "      <td>False</td>\n",
              "      <td>False</td>\n",
              "      <td>False</td>\n",
              "      <td>False</td>\n",
              "      <td>6.0</td>\n",
              "    </tr>\n",
              "    <tr>\n",
              "      <th>4</th>\n",
              "      <td>0</td>\n",
              "      <td>5</td>\n",
              "      <td>NaN</td>\n",
              "      <td>NaN</td>\n",
              "      <td>NaN</td>\n",
              "      <td>NaN</td>\n",
              "      <td>NaN</td>\n",
              "      <td>NaN</td>\n",
              "      <td>NaN</td>\n",
              "      <td>NaN</td>\n",
              "      <td>...</td>\n",
              "      <td>False</td>\n",
              "      <td>False</td>\n",
              "      <td>False</td>\n",
              "      <td>False</td>\n",
              "      <td>False</td>\n",
              "      <td>False</td>\n",
              "      <td>False</td>\n",
              "      <td>False</td>\n",
              "      <td>False</td>\n",
              "      <td>6.0</td>\n",
              "    </tr>\n",
              "    <tr>\n",
              "      <th>5</th>\n",
              "      <td>0</td>\n",
              "      <td>6</td>\n",
              "      <td>True</td>\n",
              "      <td>Ventilatie Mode (Set)</td>\n",
              "      <td>PC</td>\n",
              "      <td>True</td>\n",
              "      <td>True</td>\n",
              "      <td>False</td>\n",
              "      <td>13.000000</td>\n",
              "      <td>446.75</td>\n",
              "      <td>...</td>\n",
              "      <td>False</td>\n",
              "      <td>False</td>\n",
              "      <td>False</td>\n",
              "      <td>False</td>\n",
              "      <td>False</td>\n",
              "      <td>False</td>\n",
              "      <td>False</td>\n",
              "      <td>False</td>\n",
              "      <td>False</td>\n",
              "      <td>6.0</td>\n",
              "    </tr>\n",
              "    <tr>\n",
              "      <th>6</th>\n",
              "      <td>0</td>\n",
              "      <td>7</td>\n",
              "      <td>True</td>\n",
              "      <td>Ventilatie Mode (Set)</td>\n",
              "      <td>PC</td>\n",
              "      <td>True</td>\n",
              "      <td>True</td>\n",
              "      <td>False</td>\n",
              "      <td>13.000000</td>\n",
              "      <td>476.50</td>\n",
              "      <td>...</td>\n",
              "      <td>False</td>\n",
              "      <td>False</td>\n",
              "      <td>False</td>\n",
              "      <td>False</td>\n",
              "      <td>False</td>\n",
              "      <td>False</td>\n",
              "      <td>False</td>\n",
              "      <td>False</td>\n",
              "      <td>False</td>\n",
              "      <td>6.0</td>\n",
              "    </tr>\n",
              "    <tr>\n",
              "      <th>7</th>\n",
              "      <td>0</td>\n",
              "      <td>8</td>\n",
              "      <td>True</td>\n",
              "      <td>Ventilatie Mode (Set)</td>\n",
              "      <td>PC</td>\n",
              "      <td>True</td>\n",
              "      <td>True</td>\n",
              "      <td>False</td>\n",
              "      <td>13.000000</td>\n",
              "      <td>479.00</td>\n",
              "      <td>...</td>\n",
              "      <td>False</td>\n",
              "      <td>False</td>\n",
              "      <td>False</td>\n",
              "      <td>False</td>\n",
              "      <td>False</td>\n",
              "      <td>False</td>\n",
              "      <td>False</td>\n",
              "      <td>False</td>\n",
              "      <td>False</td>\n",
              "      <td>6.0</td>\n",
              "    </tr>\n",
              "    <tr>\n",
              "      <th>8</th>\n",
              "      <td>0</td>\n",
              "      <td>9</td>\n",
              "      <td>True</td>\n",
              "      <td>Ventilatie Mode (Set)</td>\n",
              "      <td>PC</td>\n",
              "      <td>True</td>\n",
              "      <td>True</td>\n",
              "      <td>False</td>\n",
              "      <td>13.000000</td>\n",
              "      <td>476.00</td>\n",
              "      <td>...</td>\n",
              "      <td>False</td>\n",
              "      <td>False</td>\n",
              "      <td>False</td>\n",
              "      <td>False</td>\n",
              "      <td>False</td>\n",
              "      <td>False</td>\n",
              "      <td>False</td>\n",
              "      <td>False</td>\n",
              "      <td>False</td>\n",
              "      <td>6.0</td>\n",
              "    </tr>\n",
              "    <tr>\n",
              "      <th>9</th>\n",
              "      <td>0</td>\n",
              "      <td>10</td>\n",
              "      <td>True</td>\n",
              "      <td>Ventilatie Mode (Set)</td>\n",
              "      <td>PC</td>\n",
              "      <td>True</td>\n",
              "      <td>True</td>\n",
              "      <td>False</td>\n",
              "      <td>13.000000</td>\n",
              "      <td>469.00</td>\n",
              "      <td>...</td>\n",
              "      <td>False</td>\n",
              "      <td>False</td>\n",
              "      <td>False</td>\n",
              "      <td>False</td>\n",
              "      <td>False</td>\n",
              "      <td>False</td>\n",
              "      <td>False</td>\n",
              "      <td>False</td>\n",
              "      <td>False</td>\n",
              "      <td>6.0</td>\n",
              "    </tr>\n",
              "    <tr>\n",
              "      <th>10</th>\n",
              "      <td>0</td>\n",
              "      <td>11</td>\n",
              "      <td>True</td>\n",
              "      <td>Ventilatie Mode (Set)</td>\n",
              "      <td>PC</td>\n",
              "      <td>True</td>\n",
              "      <td>True</td>\n",
              "      <td>False</td>\n",
              "      <td>13.000000</td>\n",
              "      <td>474.00</td>\n",
              "      <td>...</td>\n",
              "      <td>False</td>\n",
              "      <td>False</td>\n",
              "      <td>False</td>\n",
              "      <td>False</td>\n",
              "      <td>False</td>\n",
              "      <td>False</td>\n",
              "      <td>False</td>\n",
              "      <td>False</td>\n",
              "      <td>False</td>\n",
              "      <td>6.0</td>\n",
              "    </tr>\n",
              "    <tr>\n",
              "      <th>11</th>\n",
              "      <td>0</td>\n",
              "      <td>12</td>\n",
              "      <td>True</td>\n",
              "      <td>Ventilatie Mode (Set)</td>\n",
              "      <td>PC</td>\n",
              "      <td>True</td>\n",
              "      <td>True</td>\n",
              "      <td>False</td>\n",
              "      <td>13.000000</td>\n",
              "      <td>473.50</td>\n",
              "      <td>...</td>\n",
              "      <td>False</td>\n",
              "      <td>False</td>\n",
              "      <td>False</td>\n",
              "      <td>False</td>\n",
              "      <td>False</td>\n",
              "      <td>False</td>\n",
              "      <td>False</td>\n",
              "      <td>False</td>\n",
              "      <td>False</td>\n",
              "      <td>6.0</td>\n",
              "    </tr>\n",
              "    <tr>\n",
              "      <th>12</th>\n",
              "      <td>0</td>\n",
              "      <td>13</td>\n",
              "      <td>True</td>\n",
              "      <td>Ventilatie Mode (Set)</td>\n",
              "      <td>PS/CPAP (trig)</td>\n",
              "      <td>True</td>\n",
              "      <td>True</td>\n",
              "      <td>False</td>\n",
              "      <td>23.000000</td>\n",
              "      <td>379.50</td>\n",
              "      <td>...</td>\n",
              "      <td>False</td>\n",
              "      <td>False</td>\n",
              "      <td>False</td>\n",
              "      <td>False</td>\n",
              "      <td>False</td>\n",
              "      <td>False</td>\n",
              "      <td>False</td>\n",
              "      <td>False</td>\n",
              "      <td>False</td>\n",
              "      <td>6.0</td>\n",
              "    </tr>\n",
              "    <tr>\n",
              "      <th>13</th>\n",
              "      <td>0</td>\n",
              "      <td>14</td>\n",
              "      <td>True</td>\n",
              "      <td>Ventilatie Mode (Set)</td>\n",
              "      <td>PS/CPAP</td>\n",
              "      <td>True</td>\n",
              "      <td>True</td>\n",
              "      <td>False</td>\n",
              "      <td>23.000000</td>\n",
              "      <td>420.50</td>\n",
              "      <td>...</td>\n",
              "      <td>False</td>\n",
              "      <td>False</td>\n",
              "      <td>False</td>\n",
              "      <td>False</td>\n",
              "      <td>False</td>\n",
              "      <td>False</td>\n",
              "      <td>False</td>\n",
              "      <td>False</td>\n",
              "      <td>False</td>\n",
              "      <td>6.0</td>\n",
              "    </tr>\n",
              "    <tr>\n",
              "      <th>14</th>\n",
              "      <td>0</td>\n",
              "      <td>15</td>\n",
              "      <td>True</td>\n",
              "      <td>Ventilatie Mode (Set)</td>\n",
              "      <td>PS/CPAP</td>\n",
              "      <td>True</td>\n",
              "      <td>True</td>\n",
              "      <td>False</td>\n",
              "      <td>23.000000</td>\n",
              "      <td>407.00</td>\n",
              "      <td>...</td>\n",
              "      <td>False</td>\n",
              "      <td>False</td>\n",
              "      <td>False</td>\n",
              "      <td>False</td>\n",
              "      <td>False</td>\n",
              "      <td>False</td>\n",
              "      <td>False</td>\n",
              "      <td>False</td>\n",
              "      <td>False</td>\n",
              "      <td>6.0</td>\n",
              "    </tr>\n",
              "    <tr>\n",
              "      <th>15</th>\n",
              "      <td>0</td>\n",
              "      <td>16</td>\n",
              "      <td>True</td>\n",
              "      <td>Ventilatie Mode (Set)</td>\n",
              "      <td>PS/CPAP</td>\n",
              "      <td>True</td>\n",
              "      <td>True</td>\n",
              "      <td>False</td>\n",
              "      <td>26.000000</td>\n",
              "      <td>311.00</td>\n",
              "      <td>...</td>\n",
              "      <td>False</td>\n",
              "      <td>False</td>\n",
              "      <td>False</td>\n",
              "      <td>False</td>\n",
              "      <td>False</td>\n",
              "      <td>False</td>\n",
              "      <td>False</td>\n",
              "      <td>False</td>\n",
              "      <td>False</td>\n",
              "      <td>6.0</td>\n",
              "    </tr>\n",
              "    <tr>\n",
              "      <th>16</th>\n",
              "      <td>0</td>\n",
              "      <td>17</td>\n",
              "      <td>NaN</td>\n",
              "      <td>NaN</td>\n",
              "      <td>NaN</td>\n",
              "      <td>True</td>\n",
              "      <td>True</td>\n",
              "      <td>False</td>\n",
              "      <td>NaN</td>\n",
              "      <td>NaN</td>\n",
              "      <td>...</td>\n",
              "      <td>False</td>\n",
              "      <td>False</td>\n",
              "      <td>False</td>\n",
              "      <td>False</td>\n",
              "      <td>False</td>\n",
              "      <td>False</td>\n",
              "      <td>False</td>\n",
              "      <td>False</td>\n",
              "      <td>False</td>\n",
              "      <td>6.0</td>\n",
              "    </tr>\n",
              "    <tr>\n",
              "      <th>17</th>\n",
              "      <td>0</td>\n",
              "      <td>18</td>\n",
              "      <td>NaN</td>\n",
              "      <td>NaN</td>\n",
              "      <td>NaN</td>\n",
              "      <td>True</td>\n",
              "      <td>True</td>\n",
              "      <td>False</td>\n",
              "      <td>NaN</td>\n",
              "      <td>NaN</td>\n",
              "      <td>...</td>\n",
              "      <td>False</td>\n",
              "      <td>False</td>\n",
              "      <td>False</td>\n",
              "      <td>False</td>\n",
              "      <td>False</td>\n",
              "      <td>False</td>\n",
              "      <td>False</td>\n",
              "      <td>False</td>\n",
              "      <td>False</td>\n",
              "      <td>6.0</td>\n",
              "    </tr>\n",
              "    <tr>\n",
              "      <th>18</th>\n",
              "      <td>0</td>\n",
              "      <td>19</td>\n",
              "      <td>NaN</td>\n",
              "      <td>NaN</td>\n",
              "      <td>NaN</td>\n",
              "      <td>True</td>\n",
              "      <td>True</td>\n",
              "      <td>False</td>\n",
              "      <td>11.666667</td>\n",
              "      <td>NaN</td>\n",
              "      <td>...</td>\n",
              "      <td>False</td>\n",
              "      <td>False</td>\n",
              "      <td>False</td>\n",
              "      <td>False</td>\n",
              "      <td>False</td>\n",
              "      <td>False</td>\n",
              "      <td>False</td>\n",
              "      <td>False</td>\n",
              "      <td>False</td>\n",
              "      <td>6.0</td>\n",
              "    </tr>\n",
              "    <tr>\n",
              "      <th>19</th>\n",
              "      <td>0</td>\n",
              "      <td>20</td>\n",
              "      <td>NaN</td>\n",
              "      <td>NaN</td>\n",
              "      <td>NaN</td>\n",
              "      <td>NaN</td>\n",
              "      <td>NaN</td>\n",
              "      <td>NaN</td>\n",
              "      <td>6.000000</td>\n",
              "      <td>NaN</td>\n",
              "      <td>...</td>\n",
              "      <td>False</td>\n",
              "      <td>False</td>\n",
              "      <td>False</td>\n",
              "      <td>False</td>\n",
              "      <td>False</td>\n",
              "      <td>False</td>\n",
              "      <td>False</td>\n",
              "      <td>False</td>\n",
              "      <td>False</td>\n",
              "      <td>6.0</td>\n",
              "    </tr>\n",
              "    <tr>\n",
              "      <th>20</th>\n",
              "      <td>0</td>\n",
              "      <td>21</td>\n",
              "      <td>NaN</td>\n",
              "      <td>NaN</td>\n",
              "      <td>NaN</td>\n",
              "      <td>NaN</td>\n",
              "      <td>NaN</td>\n",
              "      <td>NaN</td>\n",
              "      <td>8.000000</td>\n",
              "      <td>NaN</td>\n",
              "      <td>...</td>\n",
              "      <td>False</td>\n",
              "      <td>False</td>\n",
              "      <td>False</td>\n",
              "      <td>False</td>\n",
              "      <td>False</td>\n",
              "      <td>False</td>\n",
              "      <td>False</td>\n",
              "      <td>False</td>\n",
              "      <td>False</td>\n",
              "      <td>6.0</td>\n",
              "    </tr>\n",
              "    <tr>\n",
              "      <th>21</th>\n",
              "      <td>0</td>\n",
              "      <td>22</td>\n",
              "      <td>NaN</td>\n",
              "      <td>NaN</td>\n",
              "      <td>NaN</td>\n",
              "      <td>NaN</td>\n",
              "      <td>NaN</td>\n",
              "      <td>NaN</td>\n",
              "      <td>9.000000</td>\n",
              "      <td>NaN</td>\n",
              "      <td>...</td>\n",
              "      <td>False</td>\n",
              "      <td>False</td>\n",
              "      <td>False</td>\n",
              "      <td>False</td>\n",
              "      <td>False</td>\n",
              "      <td>False</td>\n",
              "      <td>False</td>\n",
              "      <td>False</td>\n",
              "      <td>False</td>\n",
              "      <td>6.0</td>\n",
              "    </tr>\n",
              "    <tr>\n",
              "      <th>22</th>\n",
              "      <td>0</td>\n",
              "      <td>23</td>\n",
              "      <td>NaN</td>\n",
              "      <td>NaN</td>\n",
              "      <td>NaN</td>\n",
              "      <td>NaN</td>\n",
              "      <td>NaN</td>\n",
              "      <td>NaN</td>\n",
              "      <td>5.000000</td>\n",
              "      <td>NaN</td>\n",
              "      <td>...</td>\n",
              "      <td>False</td>\n",
              "      <td>False</td>\n",
              "      <td>False</td>\n",
              "      <td>False</td>\n",
              "      <td>False</td>\n",
              "      <td>False</td>\n",
              "      <td>False</td>\n",
              "      <td>False</td>\n",
              "      <td>False</td>\n",
              "      <td>6.0</td>\n",
              "    </tr>\n",
              "    <tr>\n",
              "      <th>23</th>\n",
              "      <td>0</td>\n",
              "      <td>24</td>\n",
              "      <td>NaN</td>\n",
              "      <td>NaN</td>\n",
              "      <td>NaN</td>\n",
              "      <td>NaN</td>\n",
              "      <td>NaN</td>\n",
              "      <td>NaN</td>\n",
              "      <td>6.000000</td>\n",
              "      <td>NaN</td>\n",
              "      <td>...</td>\n",
              "      <td>False</td>\n",
              "      <td>False</td>\n",
              "      <td>False</td>\n",
              "      <td>False</td>\n",
              "      <td>False</td>\n",
              "      <td>False</td>\n",
              "      <td>False</td>\n",
              "      <td>False</td>\n",
              "      <td>False</td>\n",
              "      <td>6.0</td>\n",
              "    </tr>\n",
              "    <tr>\n",
              "      <th>24</th>\n",
              "      <td>0</td>\n",
              "      <td>25</td>\n",
              "      <td>NaN</td>\n",
              "      <td>NaN</td>\n",
              "      <td>NaN</td>\n",
              "      <td>NaN</td>\n",
              "      <td>NaN</td>\n",
              "      <td>NaN</td>\n",
              "      <td>8.000000</td>\n",
              "      <td>NaN</td>\n",
              "      <td>...</td>\n",
              "      <td>False</td>\n",
              "      <td>False</td>\n",
              "      <td>False</td>\n",
              "      <td>False</td>\n",
              "      <td>False</td>\n",
              "      <td>False</td>\n",
              "      <td>False</td>\n",
              "      <td>False</td>\n",
              "      <td>False</td>\n",
              "      <td>6.0</td>\n",
              "    </tr>\n",
              "    <tr>\n",
              "      <th>25</th>\n",
              "      <td>0</td>\n",
              "      <td>26</td>\n",
              "      <td>NaN</td>\n",
              "      <td>NaN</td>\n",
              "      <td>NaN</td>\n",
              "      <td>NaN</td>\n",
              "      <td>NaN</td>\n",
              "      <td>NaN</td>\n",
              "      <td>19.000000</td>\n",
              "      <td>NaN</td>\n",
              "      <td>...</td>\n",
              "      <td>False</td>\n",
              "      <td>False</td>\n",
              "      <td>False</td>\n",
              "      <td>False</td>\n",
              "      <td>False</td>\n",
              "      <td>False</td>\n",
              "      <td>False</td>\n",
              "      <td>False</td>\n",
              "      <td>False</td>\n",
              "      <td>6.0</td>\n",
              "    </tr>\n",
              "    <tr>\n",
              "      <th>26</th>\n",
              "      <td>0</td>\n",
              "      <td>27</td>\n",
              "      <td>NaN</td>\n",
              "      <td>NaN</td>\n",
              "      <td>NaN</td>\n",
              "      <td>NaN</td>\n",
              "      <td>NaN</td>\n",
              "      <td>NaN</td>\n",
              "      <td>7.000000</td>\n",
              "      <td>NaN</td>\n",
              "      <td>...</td>\n",
              "      <td>False</td>\n",
              "      <td>False</td>\n",
              "      <td>False</td>\n",
              "      <td>False</td>\n",
              "      <td>False</td>\n",
              "      <td>False</td>\n",
              "      <td>False</td>\n",
              "      <td>False</td>\n",
              "      <td>False</td>\n",
              "      <td>6.0</td>\n",
              "    </tr>\n",
              "    <tr>\n",
              "      <th>27</th>\n",
              "      <td>0</td>\n",
              "      <td>28</td>\n",
              "      <td>NaN</td>\n",
              "      <td>NaN</td>\n",
              "      <td>NaN</td>\n",
              "      <td>NaN</td>\n",
              "      <td>NaN</td>\n",
              "      <td>NaN</td>\n",
              "      <td>7.000000</td>\n",
              "      <td>NaN</td>\n",
              "      <td>...</td>\n",
              "      <td>False</td>\n",
              "      <td>False</td>\n",
              "      <td>False</td>\n",
              "      <td>False</td>\n",
              "      <td>False</td>\n",
              "      <td>False</td>\n",
              "      <td>False</td>\n",
              "      <td>False</td>\n",
              "      <td>False</td>\n",
              "      <td>6.0</td>\n",
              "    </tr>\n",
              "    <tr>\n",
              "      <th>28</th>\n",
              "      <td>0</td>\n",
              "      <td>29</td>\n",
              "      <td>NaN</td>\n",
              "      <td>NaN</td>\n",
              "      <td>NaN</td>\n",
              "      <td>NaN</td>\n",
              "      <td>NaN</td>\n",
              "      <td>NaN</td>\n",
              "      <td>7.000000</td>\n",
              "      <td>NaN</td>\n",
              "      <td>...</td>\n",
              "      <td>False</td>\n",
              "      <td>False</td>\n",
              "      <td>False</td>\n",
              "      <td>False</td>\n",
              "      <td>False</td>\n",
              "      <td>False</td>\n",
              "      <td>False</td>\n",
              "      <td>False</td>\n",
              "      <td>False</td>\n",
              "      <td>6.0</td>\n",
              "    </tr>\n",
              "    <tr>\n",
              "      <th>29</th>\n",
              "      <td>0</td>\n",
              "      <td>30</td>\n",
              "      <td>NaN</td>\n",
              "      <td>NaN</td>\n",
              "      <td>NaN</td>\n",
              "      <td>NaN</td>\n",
              "      <td>NaN</td>\n",
              "      <td>NaN</td>\n",
              "      <td>11.000000</td>\n",
              "      <td>NaN</td>\n",
              "      <td>...</td>\n",
              "      <td>False</td>\n",
              "      <td>False</td>\n",
              "      <td>False</td>\n",
              "      <td>False</td>\n",
              "      <td>False</td>\n",
              "      <td>False</td>\n",
              "      <td>False</td>\n",
              "      <td>False</td>\n",
              "      <td>False</td>\n",
              "      <td>6.0</td>\n",
              "    </tr>\n",
              "    <tr>\n",
              "      <th>30</th>\n",
              "      <td>0</td>\n",
              "      <td>31</td>\n",
              "      <td>NaN</td>\n",
              "      <td>NaN</td>\n",
              "      <td>NaN</td>\n",
              "      <td>NaN</td>\n",
              "      <td>NaN</td>\n",
              "      <td>NaN</td>\n",
              "      <td>10.000000</td>\n",
              "      <td>NaN</td>\n",
              "      <td>...</td>\n",
              "      <td>False</td>\n",
              "      <td>False</td>\n",
              "      <td>False</td>\n",
              "      <td>False</td>\n",
              "      <td>False</td>\n",
              "      <td>False</td>\n",
              "      <td>False</td>\n",
              "      <td>False</td>\n",
              "      <td>False</td>\n",
              "      <td>6.0</td>\n",
              "    </tr>\n",
              "    <tr>\n",
              "      <th>31</th>\n",
              "      <td>0</td>\n",
              "      <td>32</td>\n",
              "      <td>NaN</td>\n",
              "      <td>NaN</td>\n",
              "      <td>NaN</td>\n",
              "      <td>NaN</td>\n",
              "      <td>NaN</td>\n",
              "      <td>NaN</td>\n",
              "      <td>9.000000</td>\n",
              "      <td>NaN</td>\n",
              "      <td>...</td>\n",
              "      <td>False</td>\n",
              "      <td>False</td>\n",
              "      <td>False</td>\n",
              "      <td>False</td>\n",
              "      <td>False</td>\n",
              "      <td>False</td>\n",
              "      <td>False</td>\n",
              "      <td>False</td>\n",
              "      <td>False</td>\n",
              "      <td>6.0</td>\n",
              "    </tr>\n",
              "    <tr>\n",
              "      <th>32</th>\n",
              "      <td>0</td>\n",
              "      <td>33</td>\n",
              "      <td>NaN</td>\n",
              "      <td>NaN</td>\n",
              "      <td>NaN</td>\n",
              "      <td>NaN</td>\n",
              "      <td>NaN</td>\n",
              "      <td>NaN</td>\n",
              "      <td>8.000000</td>\n",
              "      <td>NaN</td>\n",
              "      <td>...</td>\n",
              "      <td>False</td>\n",
              "      <td>False</td>\n",
              "      <td>False</td>\n",
              "      <td>False</td>\n",
              "      <td>False</td>\n",
              "      <td>False</td>\n",
              "      <td>False</td>\n",
              "      <td>False</td>\n",
              "      <td>False</td>\n",
              "      <td>6.0</td>\n",
              "    </tr>\n",
              "    <tr>\n",
              "      <th>33</th>\n",
              "      <td>0</td>\n",
              "      <td>34</td>\n",
              "      <td>NaN</td>\n",
              "      <td>NaN</td>\n",
              "      <td>NaN</td>\n",
              "      <td>NaN</td>\n",
              "      <td>NaN</td>\n",
              "      <td>NaN</td>\n",
              "      <td>NaN</td>\n",
              "      <td>NaN</td>\n",
              "      <td>...</td>\n",
              "      <td>False</td>\n",
              "      <td>False</td>\n",
              "      <td>False</td>\n",
              "      <td>False</td>\n",
              "      <td>False</td>\n",
              "      <td>False</td>\n",
              "      <td>False</td>\n",
              "      <td>False</td>\n",
              "      <td>False</td>\n",
              "      <td>6.0</td>\n",
              "    </tr>\n",
              "    <tr>\n",
              "      <th>34</th>\n",
              "      <td>0</td>\n",
              "      <td>35</td>\n",
              "      <td>NaN</td>\n",
              "      <td>NaN</td>\n",
              "      <td>NaN</td>\n",
              "      <td>NaN</td>\n",
              "      <td>NaN</td>\n",
              "      <td>NaN</td>\n",
              "      <td>18.000000</td>\n",
              "      <td>NaN</td>\n",
              "      <td>...</td>\n",
              "      <td>False</td>\n",
              "      <td>False</td>\n",
              "      <td>False</td>\n",
              "      <td>False</td>\n",
              "      <td>False</td>\n",
              "      <td>False</td>\n",
              "      <td>False</td>\n",
              "      <td>False</td>\n",
              "      <td>False</td>\n",
              "      <td>6.0</td>\n",
              "    </tr>\n",
              "    <tr>\n",
              "      <th>35</th>\n",
              "      <td>0</td>\n",
              "      <td>36</td>\n",
              "      <td>NaN</td>\n",
              "      <td>NaN</td>\n",
              "      <td>NaN</td>\n",
              "      <td>NaN</td>\n",
              "      <td>NaN</td>\n",
              "      <td>NaN</td>\n",
              "      <td>NaN</td>\n",
              "      <td>NaN</td>\n",
              "      <td>...</td>\n",
              "      <td>False</td>\n",
              "      <td>False</td>\n",
              "      <td>False</td>\n",
              "      <td>False</td>\n",
              "      <td>False</td>\n",
              "      <td>False</td>\n",
              "      <td>False</td>\n",
              "      <td>False</td>\n",
              "      <td>False</td>\n",
              "      <td>6.0</td>\n",
              "    </tr>\n",
              "    <tr>\n",
              "      <th>36</th>\n",
              "      <td>0</td>\n",
              "      <td>37</td>\n",
              "      <td>NaN</td>\n",
              "      <td>NaN</td>\n",
              "      <td>NaN</td>\n",
              "      <td>NaN</td>\n",
              "      <td>NaN</td>\n",
              "      <td>NaN</td>\n",
              "      <td>24.000000</td>\n",
              "      <td>NaN</td>\n",
              "      <td>...</td>\n",
              "      <td>False</td>\n",
              "      <td>False</td>\n",
              "      <td>False</td>\n",
              "      <td>False</td>\n",
              "      <td>False</td>\n",
              "      <td>False</td>\n",
              "      <td>False</td>\n",
              "      <td>False</td>\n",
              "      <td>False</td>\n",
              "      <td>6.0</td>\n",
              "    </tr>\n",
              "    <tr>\n",
              "      <th>37</th>\n",
              "      <td>0</td>\n",
              "      <td>38</td>\n",
              "      <td>NaN</td>\n",
              "      <td>NaN</td>\n",
              "      <td>NaN</td>\n",
              "      <td>NaN</td>\n",
              "      <td>NaN</td>\n",
              "      <td>NaN</td>\n",
              "      <td>11.000000</td>\n",
              "      <td>NaN</td>\n",
              "      <td>...</td>\n",
              "      <td>False</td>\n",
              "      <td>False</td>\n",
              "      <td>False</td>\n",
              "      <td>False</td>\n",
              "      <td>False</td>\n",
              "      <td>False</td>\n",
              "      <td>False</td>\n",
              "      <td>False</td>\n",
              "      <td>False</td>\n",
              "      <td>6.0</td>\n",
              "    </tr>\n",
              "    <tr>\n",
              "      <th>38</th>\n",
              "      <td>0</td>\n",
              "      <td>39</td>\n",
              "      <td>NaN</td>\n",
              "      <td>NaN</td>\n",
              "      <td>NaN</td>\n",
              "      <td>NaN</td>\n",
              "      <td>NaN</td>\n",
              "      <td>NaN</td>\n",
              "      <td>15.000000</td>\n",
              "      <td>NaN</td>\n",
              "      <td>...</td>\n",
              "      <td>False</td>\n",
              "      <td>False</td>\n",
              "      <td>False</td>\n",
              "      <td>False</td>\n",
              "      <td>False</td>\n",
              "      <td>False</td>\n",
              "      <td>False</td>\n",
              "      <td>False</td>\n",
              "      <td>False</td>\n",
              "      <td>6.0</td>\n",
              "    </tr>\n",
              "    <tr>\n",
              "      <th>39</th>\n",
              "      <td>0</td>\n",
              "      <td>40</td>\n",
              "      <td>NaN</td>\n",
              "      <td>NaN</td>\n",
              "      <td>NaN</td>\n",
              "      <td>NaN</td>\n",
              "      <td>NaN</td>\n",
              "      <td>NaN</td>\n",
              "      <td>12.000000</td>\n",
              "      <td>NaN</td>\n",
              "      <td>...</td>\n",
              "      <td>False</td>\n",
              "      <td>False</td>\n",
              "      <td>False</td>\n",
              "      <td>False</td>\n",
              "      <td>False</td>\n",
              "      <td>False</td>\n",
              "      <td>False</td>\n",
              "      <td>False</td>\n",
              "      <td>False</td>\n",
              "      <td>6.0</td>\n",
              "    </tr>\n",
              "  </tbody>\n",
              "</table>\n",
              "<p>40 rows × 50 columns</p>\n",
              "</div>\n",
              "      <button class=\"colab-df-convert\" onclick=\"convertToInteractive('df-c887047a-f4eb-4559-a599-aa2acddb3306')\"\n",
              "              title=\"Convert this dataframe to an interactive table.\"\n",
              "              style=\"display:none;\">\n",
              "        \n",
              "  <svg xmlns=\"http://www.w3.org/2000/svg\" height=\"24px\"viewBox=\"0 0 24 24\"\n",
              "       width=\"24px\">\n",
              "    <path d=\"M0 0h24v24H0V0z\" fill=\"none\"/>\n",
              "    <path d=\"M18.56 5.44l.94 2.06.94-2.06 2.06-.94-2.06-.94-.94-2.06-.94 2.06-2.06.94zm-11 1L8.5 8.5l.94-2.06 2.06-.94-2.06-.94L8.5 2.5l-.94 2.06-2.06.94zm10 10l.94 2.06.94-2.06 2.06-.94-2.06-.94-.94-2.06-.94 2.06-2.06.94z\"/><path d=\"M17.41 7.96l-1.37-1.37c-.4-.4-.92-.59-1.43-.59-.52 0-1.04.2-1.43.59L10.3 9.45l-7.72 7.72c-.78.78-.78 2.05 0 2.83L4 21.41c.39.39.9.59 1.41.59.51 0 1.02-.2 1.41-.59l7.78-7.78 2.81-2.81c.8-.78.8-2.07 0-2.86zM5.41 20L4 18.59l7.72-7.72 1.47 1.35L5.41 20z\"/>\n",
              "  </svg>\n",
              "      </button>\n",
              "      \n",
              "  <style>\n",
              "    .colab-df-container {\n",
              "      display:flex;\n",
              "      flex-wrap:wrap;\n",
              "      gap: 12px;\n",
              "    }\n",
              "\n",
              "    .colab-df-convert {\n",
              "      background-color: #E8F0FE;\n",
              "      border: none;\n",
              "      border-radius: 50%;\n",
              "      cursor: pointer;\n",
              "      display: none;\n",
              "      fill: #1967D2;\n",
              "      height: 32px;\n",
              "      padding: 0 0 0 0;\n",
              "      width: 32px;\n",
              "    }\n",
              "\n",
              "    .colab-df-convert:hover {\n",
              "      background-color: #E2EBFA;\n",
              "      box-shadow: 0px 1px 2px rgba(60, 64, 67, 0.3), 0px 1px 3px 1px rgba(60, 64, 67, 0.15);\n",
              "      fill: #174EA6;\n",
              "    }\n",
              "\n",
              "    [theme=dark] .colab-df-convert {\n",
              "      background-color: #3B4455;\n",
              "      fill: #D2E3FC;\n",
              "    }\n",
              "\n",
              "    [theme=dark] .colab-df-convert:hover {\n",
              "      background-color: #434B5C;\n",
              "      box-shadow: 0px 1px 3px 1px rgba(0, 0, 0, 0.15);\n",
              "      filter: drop-shadow(0px 1px 2px rgba(0, 0, 0, 0.3));\n",
              "      fill: #FFFFFF;\n",
              "    }\n",
              "  </style>\n",
              "\n",
              "      <script>\n",
              "        const buttonEl =\n",
              "          document.querySelector('#df-c887047a-f4eb-4559-a599-aa2acddb3306 button.colab-df-convert');\n",
              "        buttonEl.style.display =\n",
              "          google.colab.kernel.accessAllowed ? 'block' : 'none';\n",
              "\n",
              "        async function convertToInteractive(key) {\n",
              "          const element = document.querySelector('#df-c887047a-f4eb-4559-a599-aa2acddb3306');\n",
              "          const dataTable =\n",
              "            await google.colab.kernel.invokeFunction('convertToInteractive',\n",
              "                                                     [key], {});\n",
              "          if (!dataTable) return;\n",
              "\n",
              "          const docLinkHtml = 'Like what you see? Visit the ' +\n",
              "            '<a target=\"_blank\" href=https://colab.research.google.com/notebooks/data_table.ipynb>data table notebook</a>'\n",
              "            + ' to learn more about interactive tables.';\n",
              "          element.innerHTML = '';\n",
              "          dataTable['output_type'] = 'display_data';\n",
              "          await google.colab.output.renderOutput(dataTable, element);\n",
              "          const docLink = document.createElement('div');\n",
              "          docLink.innerHTML = docLinkHtml;\n",
              "          element.appendChild(docLink);\n",
              "        }\n",
              "      </script>\n",
              "    </div>\n",
              "  </div>\n",
              "  "
            ]
          },
          "metadata": {},
          "execution_count": 17
        }
      ],
      "source": [
        "df[df['admissionid']==0]"
      ]
    },
    {
      "cell_type": "code",
      "execution_count": null,
      "metadata": {
        "id": "qUxwimHaqoL6"
      },
      "outputs": [],
      "source": [
        "# MP = 0.098 x Vt x RR x (PEEP + Pinsp)\n",
        "# MP (J/min)\n",
        "\n",
        "df['MP'] = 0.098 * (df['tidal']/1000) * df['a2_resp_rate'] * ( df['peep'] + df['insp_p'])\n"
      ]
    },
    {
      "cell_type": "code",
      "source": [
        "# F = ((TVexp/1000) / (ti/60)) -->TVexp:tidal, ti:insp_time\n",
        "# MP2 = tidal * (peak + peep + F/6) / 2 * 0.1\n",
        "\n",
        "df['MP2'] = 0.05 * (df['tidal']/1000) * df['a2_resp_rate'] * (df['peak'] + df['peep'] + ((df['tidal']/1000) / (df['insp_time']/60))/6)\n"
      ],
      "metadata": {
        "id": "0dfq2ngaLfVF"
      },
      "execution_count": null,
      "outputs": []
    },
    {
      "cell_type": "code",
      "source": [
        "asd = df.dropna(subset=['is_iv', 'entubated'])[['MP','MP2']]\n",
        "display((asd['MP'] / asd['MP2']).describe())\n",
        "print('----------------------')\n",
        "display((asd['MP2'] / asd['MP']).describe())"
      ],
      "metadata": {
        "colab": {
          "base_uri": "https://localhost:8080/",
          "height": 362
        },
        "id": "vmBHWMhKNKQb",
        "outputId": "0c5de995-d965-4d73-f72b-1dbadf7a24a0"
      },
      "execution_count": null,
      "outputs": [
        {
          "output_type": "display_data",
          "data": {
            "text/plain": [
              "count    1.047244e+06\n",
              "mean     6.123635e-01\n",
              "std      2.289285e-01\n",
              "min      0.000000e+00\n",
              "25%      4.843493e-01\n",
              "50%      6.551532e-01\n",
              "75%      7.602188e-01\n",
              "max      2.758999e+01\n",
              "dtype: float64"
            ]
          },
          "metadata": {}
        },
        {
          "output_type": "stream",
          "name": "stdout",
          "text": [
            "----------------------\n"
          ]
        },
        {
          "output_type": "display_data",
          "data": {
            "text/plain": [
              "count    1.047244e+06\n",
              "mean              inf\n",
              "std               NaN\n",
              "min      3.624502e-02\n",
              "25%      1.315411e+00\n",
              "50%      1.526360e+00\n",
              "75%      2.064626e+00\n",
              "max               inf\n",
              "dtype: float64"
            ]
          },
          "metadata": {}
        }
      ]
    },
    {
      "cell_type": "code",
      "source": [
        "print(sum(asd['MP'].notna()))\n",
        "print(sum(asd['MP'].notna()  | asd['MP2'].notna()))\n",
        "print(sum(asd['MP'].notna()  & asd['MP2'].notna()))"
      ],
      "metadata": {
        "colab": {
          "base_uri": "https://localhost:8080/"
        },
        "id": "5cOyVDgcR93_",
        "outputId": "83f4496d-46f0-4e8a-f981-ccd1ded55414"
      },
      "execution_count": null,
      "outputs": [
        {
          "output_type": "stream",
          "name": "stdout",
          "text": [
            "1064637\n",
            "1096801\n",
            "1047341\n"
          ]
        }
      ]
    },
    {
      "cell_type": "code",
      "source": [
        "df['iv_intubated'] = (df.is_iv & df.entubated)\n"
      ],
      "metadata": {
        "id": "Rysww3Dac5F1"
      },
      "execution_count": null,
      "outputs": []
    },
    {
      "cell_type": "code",
      "source": [
        "# print(df.is_iv.notna().sum(), df.entubated.notna().sum())\n",
        "# df_iv_ent = df[df['iv_entubated']]\n",
        "# vf = df_iv_ent.groupby('admissionid')[['measuredat2','death2']].agg(['min','max'])\n",
        "# vf.head()\n"
      ],
      "metadata": {
        "id": "HHkVHG1hR7xe"
      },
      "execution_count": null,
      "outputs": []
    },
    {
      "cell_type": "code",
      "source": [
        "\n",
        "\n",
        "# vf7 = vf.loc[:,'measuredat2']\n",
        "# vf7 = 7 - (vf7['max'] - vf7['min'])/24\n",
        "# vf7 = (vf7).astype(int)\n",
        "# vf7"
      ],
      "metadata": {
        "id": "uaiBZ9VTYF0o"
      },
      "execution_count": null,
      "outputs": []
    },
    {
      "cell_type": "code",
      "source": [],
      "metadata": {
        "id": "qRkPNPRuag4_"
      },
      "execution_count": null,
      "outputs": []
    },
    {
      "cell_type": "code",
      "execution_count": null,
      "metadata": {
        "colab": {
          "base_uri": "https://localhost:8080/"
        },
        "id": "PsSg-JTBtdJw",
        "outputId": "1152128b-318e-40d5-cdda-3ac15abe6638"
      },
      "outputs": [
        {
          "output_type": "stream",
          "name": "stdout",
          "text": [
            "         peep  insp_p  a2_resp_rate     tidal           MP\n",
            "36952     8.0     0.0          32.0  40504.75  1016.183168\n",
            "48163    26.0    30.0          49.0   1545.00   415.469040\n",
            "312199    7.0  1020.0          26.0    443.50  1160.549026\n",
            "354926   18.0     0.0          14.0  21574.50   532.803852\n",
            "649278   10.0    10.0          27.0  15371.50   813.459780\n",
            "844202   24.0    16.0          56.0   1553.50   341.024320\n",
            "1881997  26.0    41.0          56.0   1551.00   570.296496\n",
            "1889779  20.0    22.0          55.0   1540.50   348.738390\n"
          ]
        }
      ],
      "source": [
        "print(df[df['MP']>300][['peep','insp_p','a2_resp_rate','tidal','MP']])  #look for extreme variables"
      ]
    },
    {
      "cell_type": "markdown",
      "metadata": {
        "id": "s6fcuQB5vKyB"
      },
      "source": [
        "## get ride of extreme value"
      ]
    },
    {
      "cell_type": "code",
      "execution_count": null,
      "metadata": {
        "colab": {
          "base_uri": "https://localhost:8080/",
          "height": 487
        },
        "id": "-RKzQ8YCnjJL",
        "outputId": "363893bf-1a61-4ea4-8c26-a1fb166a7891"
      },
      "outputs": [
        {
          "output_type": "execute_result",
          "data": {
            "text/plain": [
              "         admissionid  measuredat2 is_iv iv_model iv_mode entubated  tube  \\\n",
              "0                  0         -272   NaN      NaN     NaN       NaN   NaN   \n",
              "1                  0         -250   NaN      NaN     NaN       NaN   NaN   \n",
              "2                  0         -130   NaN      NaN     NaN       NaN   NaN   \n",
              "3                  0           -8   NaN      NaN     NaN       NaN   NaN   \n",
              "4                  0            5   NaN      NaN     NaN       NaN   NaN   \n",
              "...              ...          ...   ...      ...     ...       ...   ...   \n",
              "1980512        23548          262   NaN      NaN     NaN       NaN   NaN   \n",
              "1980513        23551           -2   NaN      NaN     NaN       NaN   NaN   \n",
              "1980514        23551           -1   NaN      NaN     NaN       NaN   NaN   \n",
              "1980559        23551           45   NaN      NaN     NaN      True  True   \n",
              "1980560        23551           46   NaN      NaN     NaN      True  True   \n",
              "\n",
              "        tracheostoma  a2_resp_rate  tidal  ...  is_vascular_surgery  \\\n",
              "0                NaN           NaN    NaN  ...                False   \n",
              "1                NaN           NaN    NaN  ...                False   \n",
              "2                NaN           NaN    NaN  ...                False   \n",
              "3                NaN           NaN    NaN  ...                False   \n",
              "4                NaN           NaN    NaN  ...                False   \n",
              "...              ...           ...    ...  ...                  ...   \n",
              "1980512          NaN           NaN    NaN  ...                False   \n",
              "1980513          NaN           NaN    NaN  ...                False   \n",
              "1980514          NaN           NaN    NaN  ...                False   \n",
              "1980559        False           NaN    NaN  ...                False   \n",
              "1980560        False           NaN    NaN  ...                False   \n",
              "\n",
              "         is_trauma  is_neuro  is_cardio  is_infection  is_shock  a2_age_score  \\\n",
              "0            False     False      False         False     False           6.0   \n",
              "1            False     False      False         False     False           6.0   \n",
              "2            False     False      False         False     False           6.0   \n",
              "3            False     False      False         False     False           6.0   \n",
              "4            False     False      False         False     False           6.0   \n",
              "...            ...       ...        ...           ...       ...           ...   \n",
              "1980512      False      True      False         False     False           1.0   \n",
              "1980513      False     False      False         False     False           1.0   \n",
              "1980514      False     False      False         False     False           1.0   \n",
              "1980559      False     False      False         False     False           1.0   \n",
              "1980560      False     False      False         False     False           1.0   \n",
              "\n",
              "         MP  MP2  iv_intubated  \n",
              "0       NaN  NaN         False  \n",
              "1       NaN  NaN         False  \n",
              "2       NaN  NaN         False  \n",
              "3       NaN  NaN         False  \n",
              "4       NaN  NaN         False  \n",
              "...      ..  ...           ...  \n",
              "1980512 NaN  NaN         False  \n",
              "1980513 NaN  NaN         False  \n",
              "1980514 NaN  NaN         False  \n",
              "1980559 NaN  NaN         False  \n",
              "1980560 NaN  NaN         False  \n",
              "\n",
              "[896452 rows x 53 columns]"
            ],
            "text/html": [
              "\n",
              "  <div id=\"df-d3d88326-39c0-435b-8d40-9c5217370ca0\">\n",
              "    <div class=\"colab-df-container\">\n",
              "      <div>\n",
              "<style scoped>\n",
              "    .dataframe tbody tr th:only-of-type {\n",
              "        vertical-align: middle;\n",
              "    }\n",
              "\n",
              "    .dataframe tbody tr th {\n",
              "        vertical-align: top;\n",
              "    }\n",
              "\n",
              "    .dataframe thead th {\n",
              "        text-align: right;\n",
              "    }\n",
              "</style>\n",
              "<table border=\"1\" class=\"dataframe\">\n",
              "  <thead>\n",
              "    <tr style=\"text-align: right;\">\n",
              "      <th></th>\n",
              "      <th>admissionid</th>\n",
              "      <th>measuredat2</th>\n",
              "      <th>is_iv</th>\n",
              "      <th>iv_model</th>\n",
              "      <th>iv_mode</th>\n",
              "      <th>entubated</th>\n",
              "      <th>tube</th>\n",
              "      <th>tracheostoma</th>\n",
              "      <th>a2_resp_rate</th>\n",
              "      <th>tidal</th>\n",
              "      <th>...</th>\n",
              "      <th>is_vascular_surgery</th>\n",
              "      <th>is_trauma</th>\n",
              "      <th>is_neuro</th>\n",
              "      <th>is_cardio</th>\n",
              "      <th>is_infection</th>\n",
              "      <th>is_shock</th>\n",
              "      <th>a2_age_score</th>\n",
              "      <th>MP</th>\n",
              "      <th>MP2</th>\n",
              "      <th>iv_intubated</th>\n",
              "    </tr>\n",
              "  </thead>\n",
              "  <tbody>\n",
              "    <tr>\n",
              "      <th>0</th>\n",
              "      <td>0</td>\n",
              "      <td>-272</td>\n",
              "      <td>NaN</td>\n",
              "      <td>NaN</td>\n",
              "      <td>NaN</td>\n",
              "      <td>NaN</td>\n",
              "      <td>NaN</td>\n",
              "      <td>NaN</td>\n",
              "      <td>NaN</td>\n",
              "      <td>NaN</td>\n",
              "      <td>...</td>\n",
              "      <td>False</td>\n",
              "      <td>False</td>\n",
              "      <td>False</td>\n",
              "      <td>False</td>\n",
              "      <td>False</td>\n",
              "      <td>False</td>\n",
              "      <td>6.0</td>\n",
              "      <td>NaN</td>\n",
              "      <td>NaN</td>\n",
              "      <td>False</td>\n",
              "    </tr>\n",
              "    <tr>\n",
              "      <th>1</th>\n",
              "      <td>0</td>\n",
              "      <td>-250</td>\n",
              "      <td>NaN</td>\n",
              "      <td>NaN</td>\n",
              "      <td>NaN</td>\n",
              "      <td>NaN</td>\n",
              "      <td>NaN</td>\n",
              "      <td>NaN</td>\n",
              "      <td>NaN</td>\n",
              "      <td>NaN</td>\n",
              "      <td>...</td>\n",
              "      <td>False</td>\n",
              "      <td>False</td>\n",
              "      <td>False</td>\n",
              "      <td>False</td>\n",
              "      <td>False</td>\n",
              "      <td>False</td>\n",
              "      <td>6.0</td>\n",
              "      <td>NaN</td>\n",
              "      <td>NaN</td>\n",
              "      <td>False</td>\n",
              "    </tr>\n",
              "    <tr>\n",
              "      <th>2</th>\n",
              "      <td>0</td>\n",
              "      <td>-130</td>\n",
              "      <td>NaN</td>\n",
              "      <td>NaN</td>\n",
              "      <td>NaN</td>\n",
              "      <td>NaN</td>\n",
              "      <td>NaN</td>\n",
              "      <td>NaN</td>\n",
              "      <td>NaN</td>\n",
              "      <td>NaN</td>\n",
              "      <td>...</td>\n",
              "      <td>False</td>\n",
              "      <td>False</td>\n",
              "      <td>False</td>\n",
              "      <td>False</td>\n",
              "      <td>False</td>\n",
              "      <td>False</td>\n",
              "      <td>6.0</td>\n",
              "      <td>NaN</td>\n",
              "      <td>NaN</td>\n",
              "      <td>False</td>\n",
              "    </tr>\n",
              "    <tr>\n",
              "      <th>3</th>\n",
              "      <td>0</td>\n",
              "      <td>-8</td>\n",
              "      <td>NaN</td>\n",
              "      <td>NaN</td>\n",
              "      <td>NaN</td>\n",
              "      <td>NaN</td>\n",
              "      <td>NaN</td>\n",
              "      <td>NaN</td>\n",
              "      <td>NaN</td>\n",
              "      <td>NaN</td>\n",
              "      <td>...</td>\n",
              "      <td>False</td>\n",
              "      <td>False</td>\n",
              "      <td>False</td>\n",
              "      <td>False</td>\n",
              "      <td>False</td>\n",
              "      <td>False</td>\n",
              "      <td>6.0</td>\n",
              "      <td>NaN</td>\n",
              "      <td>NaN</td>\n",
              "      <td>False</td>\n",
              "    </tr>\n",
              "    <tr>\n",
              "      <th>4</th>\n",
              "      <td>0</td>\n",
              "      <td>5</td>\n",
              "      <td>NaN</td>\n",
              "      <td>NaN</td>\n",
              "      <td>NaN</td>\n",
              "      <td>NaN</td>\n",
              "      <td>NaN</td>\n",
              "      <td>NaN</td>\n",
              "      <td>NaN</td>\n",
              "      <td>NaN</td>\n",
              "      <td>...</td>\n",
              "      <td>False</td>\n",
              "      <td>False</td>\n",
              "      <td>False</td>\n",
              "      <td>False</td>\n",
              "      <td>False</td>\n",
              "      <td>False</td>\n",
              "      <td>6.0</td>\n",
              "      <td>NaN</td>\n",
              "      <td>NaN</td>\n",
              "      <td>False</td>\n",
              "    </tr>\n",
              "    <tr>\n",
              "      <th>...</th>\n",
              "      <td>...</td>\n",
              "      <td>...</td>\n",
              "      <td>...</td>\n",
              "      <td>...</td>\n",
              "      <td>...</td>\n",
              "      <td>...</td>\n",
              "      <td>...</td>\n",
              "      <td>...</td>\n",
              "      <td>...</td>\n",
              "      <td>...</td>\n",
              "      <td>...</td>\n",
              "      <td>...</td>\n",
              "      <td>...</td>\n",
              "      <td>...</td>\n",
              "      <td>...</td>\n",
              "      <td>...</td>\n",
              "      <td>...</td>\n",
              "      <td>...</td>\n",
              "      <td>...</td>\n",
              "      <td>...</td>\n",
              "      <td>...</td>\n",
              "    </tr>\n",
              "    <tr>\n",
              "      <th>1980512</th>\n",
              "      <td>23548</td>\n",
              "      <td>262</td>\n",
              "      <td>NaN</td>\n",
              "      <td>NaN</td>\n",
              "      <td>NaN</td>\n",
              "      <td>NaN</td>\n",
              "      <td>NaN</td>\n",
              "      <td>NaN</td>\n",
              "      <td>NaN</td>\n",
              "      <td>NaN</td>\n",
              "      <td>...</td>\n",
              "      <td>False</td>\n",
              "      <td>False</td>\n",
              "      <td>True</td>\n",
              "      <td>False</td>\n",
              "      <td>False</td>\n",
              "      <td>False</td>\n",
              "      <td>1.0</td>\n",
              "      <td>NaN</td>\n",
              "      <td>NaN</td>\n",
              "      <td>False</td>\n",
              "    </tr>\n",
              "    <tr>\n",
              "      <th>1980513</th>\n",
              "      <td>23551</td>\n",
              "      <td>-2</td>\n",
              "      <td>NaN</td>\n",
              "      <td>NaN</td>\n",
              "      <td>NaN</td>\n",
              "      <td>NaN</td>\n",
              "      <td>NaN</td>\n",
              "      <td>NaN</td>\n",
              "      <td>NaN</td>\n",
              "      <td>NaN</td>\n",
              "      <td>...</td>\n",
              "      <td>False</td>\n",
              "      <td>False</td>\n",
              "      <td>False</td>\n",
              "      <td>False</td>\n",
              "      <td>False</td>\n",
              "      <td>False</td>\n",
              "      <td>1.0</td>\n",
              "      <td>NaN</td>\n",
              "      <td>NaN</td>\n",
              "      <td>False</td>\n",
              "    </tr>\n",
              "    <tr>\n",
              "      <th>1980514</th>\n",
              "      <td>23551</td>\n",
              "      <td>-1</td>\n",
              "      <td>NaN</td>\n",
              "      <td>NaN</td>\n",
              "      <td>NaN</td>\n",
              "      <td>NaN</td>\n",
              "      <td>NaN</td>\n",
              "      <td>NaN</td>\n",
              "      <td>NaN</td>\n",
              "      <td>NaN</td>\n",
              "      <td>...</td>\n",
              "      <td>False</td>\n",
              "      <td>False</td>\n",
              "      <td>False</td>\n",
              "      <td>False</td>\n",
              "      <td>False</td>\n",
              "      <td>False</td>\n",
              "      <td>1.0</td>\n",
              "      <td>NaN</td>\n",
              "      <td>NaN</td>\n",
              "      <td>False</td>\n",
              "    </tr>\n",
              "    <tr>\n",
              "      <th>1980559</th>\n",
              "      <td>23551</td>\n",
              "      <td>45</td>\n",
              "      <td>NaN</td>\n",
              "      <td>NaN</td>\n",
              "      <td>NaN</td>\n",
              "      <td>True</td>\n",
              "      <td>True</td>\n",
              "      <td>False</td>\n",
              "      <td>NaN</td>\n",
              "      <td>NaN</td>\n",
              "      <td>...</td>\n",
              "      <td>False</td>\n",
              "      <td>False</td>\n",
              "      <td>False</td>\n",
              "      <td>False</td>\n",
              "      <td>False</td>\n",
              "      <td>False</td>\n",
              "      <td>1.0</td>\n",
              "      <td>NaN</td>\n",
              "      <td>NaN</td>\n",
              "      <td>False</td>\n",
              "    </tr>\n",
              "    <tr>\n",
              "      <th>1980560</th>\n",
              "      <td>23551</td>\n",
              "      <td>46</td>\n",
              "      <td>NaN</td>\n",
              "      <td>NaN</td>\n",
              "      <td>NaN</td>\n",
              "      <td>True</td>\n",
              "      <td>True</td>\n",
              "      <td>False</td>\n",
              "      <td>NaN</td>\n",
              "      <td>NaN</td>\n",
              "      <td>...</td>\n",
              "      <td>False</td>\n",
              "      <td>False</td>\n",
              "      <td>False</td>\n",
              "      <td>False</td>\n",
              "      <td>False</td>\n",
              "      <td>False</td>\n",
              "      <td>1.0</td>\n",
              "      <td>NaN</td>\n",
              "      <td>NaN</td>\n",
              "      <td>False</td>\n",
              "    </tr>\n",
              "  </tbody>\n",
              "</table>\n",
              "<p>896452 rows × 53 columns</p>\n",
              "</div>\n",
              "      <button class=\"colab-df-convert\" onclick=\"convertToInteractive('df-d3d88326-39c0-435b-8d40-9c5217370ca0')\"\n",
              "              title=\"Convert this dataframe to an interactive table.\"\n",
              "              style=\"display:none;\">\n",
              "        \n",
              "  <svg xmlns=\"http://www.w3.org/2000/svg\" height=\"24px\"viewBox=\"0 0 24 24\"\n",
              "       width=\"24px\">\n",
              "    <path d=\"M0 0h24v24H0V0z\" fill=\"none\"/>\n",
              "    <path d=\"M18.56 5.44l.94 2.06.94-2.06 2.06-.94-2.06-.94-.94-2.06-.94 2.06-2.06.94zm-11 1L8.5 8.5l.94-2.06 2.06-.94-2.06-.94L8.5 2.5l-.94 2.06-2.06.94zm10 10l.94 2.06.94-2.06 2.06-.94-2.06-.94-.94-2.06-.94 2.06-2.06.94z\"/><path d=\"M17.41 7.96l-1.37-1.37c-.4-.4-.92-.59-1.43-.59-.52 0-1.04.2-1.43.59L10.3 9.45l-7.72 7.72c-.78.78-.78 2.05 0 2.83L4 21.41c.39.39.9.59 1.41.59.51 0 1.02-.2 1.41-.59l7.78-7.78 2.81-2.81c.8-.78.8-2.07 0-2.86zM5.41 20L4 18.59l7.72-7.72 1.47 1.35L5.41 20z\"/>\n",
              "  </svg>\n",
              "      </button>\n",
              "      \n",
              "  <style>\n",
              "    .colab-df-container {\n",
              "      display:flex;\n",
              "      flex-wrap:wrap;\n",
              "      gap: 12px;\n",
              "    }\n",
              "\n",
              "    .colab-df-convert {\n",
              "      background-color: #E8F0FE;\n",
              "      border: none;\n",
              "      border-radius: 50%;\n",
              "      cursor: pointer;\n",
              "      display: none;\n",
              "      fill: #1967D2;\n",
              "      height: 32px;\n",
              "      padding: 0 0 0 0;\n",
              "      width: 32px;\n",
              "    }\n",
              "\n",
              "    .colab-df-convert:hover {\n",
              "      background-color: #E2EBFA;\n",
              "      box-shadow: 0px 1px 2px rgba(60, 64, 67, 0.3), 0px 1px 3px 1px rgba(60, 64, 67, 0.15);\n",
              "      fill: #174EA6;\n",
              "    }\n",
              "\n",
              "    [theme=dark] .colab-df-convert {\n",
              "      background-color: #3B4455;\n",
              "      fill: #D2E3FC;\n",
              "    }\n",
              "\n",
              "    [theme=dark] .colab-df-convert:hover {\n",
              "      background-color: #434B5C;\n",
              "      box-shadow: 0px 1px 3px 1px rgba(0, 0, 0, 0.15);\n",
              "      filter: drop-shadow(0px 1px 2px rgba(0, 0, 0, 0.3));\n",
              "      fill: #FFFFFF;\n",
              "    }\n",
              "  </style>\n",
              "\n",
              "      <script>\n",
              "        const buttonEl =\n",
              "          document.querySelector('#df-d3d88326-39c0-435b-8d40-9c5217370ca0 button.colab-df-convert');\n",
              "        buttonEl.style.display =\n",
              "          google.colab.kernel.accessAllowed ? 'block' : 'none';\n",
              "\n",
              "        async function convertToInteractive(key) {\n",
              "          const element = document.querySelector('#df-d3d88326-39c0-435b-8d40-9c5217370ca0');\n",
              "          const dataTable =\n",
              "            await google.colab.kernel.invokeFunction('convertToInteractive',\n",
              "                                                     [key], {});\n",
              "          if (!dataTable) return;\n",
              "\n",
              "          const docLinkHtml = 'Like what you see? Visit the ' +\n",
              "            '<a target=\"_blank\" href=https://colab.research.google.com/notebooks/data_table.ipynb>data table notebook</a>'\n",
              "            + ' to learn more about interactive tables.';\n",
              "          element.innerHTML = '';\n",
              "          dataTable['output_type'] = 'display_data';\n",
              "          await google.colab.output.renderOutput(dataTable, element);\n",
              "          const docLink = document.createElement('div');\n",
              "          docLink.innerHTML = docLinkHtml;\n",
              "          element.appendChild(docLink);\n",
              "        }\n",
              "      </script>\n",
              "    </div>\n",
              "  </div>\n",
              "  "
            ]
          },
          "metadata": {},
          "execution_count": 25
        }
      ],
      "source": [
        "df[df['MP'].isnull()==True] # Look for MP unable to be calculated"
      ]
    },
    {
      "cell_type": "code",
      "execution_count": null,
      "metadata": {
        "id": "tP8u_Yu7oYRJ"
      },
      "outputs": [],
      "source": [
        "df.iv_mode.value_counts()"
      ]
    },
    {
      "cell_type": "code",
      "execution_count": null,
      "metadata": {
        "colab": {
          "base_uri": "https://localhost:8080/"
        },
        "id": "i30ChrPdoQdS",
        "outputId": "003dfa1e-f104-46e4-a3a9-c40c709ca266"
      },
      "outputs": [
        {
          "output_type": "stream",
          "name": "stdout",
          "text": [
            "VC: 0.7312574568518718 %\n"
          ]
        }
      ],
      "source": [
        "print('VC:',len(df[(df['iv_mode']=='VC') ])/len(df)*100,'%') # Calculate how much VC in the system"
      ]
    },
    {
      "cell_type": "code",
      "execution_count": null,
      "metadata": {
        "colab": {
          "base_uri": "https://localhost:8080/"
        },
        "id": "GddiHN5UoMWd",
        "outputId": "572154d7-fd07-4cf9-ffe2-00c600374e56"
      },
      "outputs": [
        {
          "output_type": "execute_result",
          "data": {
            "text/plain": [
              "0.001188552132451361"
            ]
          },
          "metadata": {},
          "execution_count": 28
        }
      ],
      "source": [
        "len(df[(df['iv_mode']=='VC') & (df['MP'].isnull()==False)])/len(df)"
      ]
    },
    {
      "cell_type": "code",
      "execution_count": null,
      "metadata": {
        "colab": {
          "base_uri": "https://localhost:8080/"
        },
        "id": "hOXuzlQxmjoc",
        "outputId": "c2a37cb6-4a48-43d9-84a3-9161a8370400"
      },
      "outputs": [
        {
          "output_type": "execute_result",
          "data": {
            "text/plain": [
              "0.0061240224360673565"
            ]
          },
          "metadata": {},
          "execution_count": 29
        }
      ],
      "source": [
        "len(df[(df['iv_mode']=='VC') & (df['MP'].isnull()==True)])/len(df)"
      ]
    },
    {
      "cell_type": "code",
      "execution_count": null,
      "metadata": {
        "id": "NgX4FG62sEP6"
      },
      "outputs": [],
      "source": [
        "for x in ['peep','insp_p','a2_resp_rate','tidal','MP']:\n",
        "  temp =  df[df.MP<500][x].mean()\n",
        "  df.loc[df.MP>=500,x] = temp\n"
      ]
    },
    {
      "cell_type": "code",
      "execution_count": null,
      "metadata": {
        "colab": {
          "base_uri": "https://localhost:8080/"
        },
        "id": "8wzzbvAzwR1G",
        "outputId": "1647755a-8ea0-4f16-f4d8-a1d23dd6b37e"
      },
      "outputs": [
        {
          "output_type": "execute_result",
          "data": {
            "text/plain": [
              "count    13805.000000\n",
              "mean        15.078564\n",
              "std          7.879810\n",
              "min          0.487305\n",
              "25%         10.112365\n",
              "50%         13.112625\n",
              "75%         17.703905\n",
              "max        117.655524\n",
              "Name: MP, dtype: float64"
            ]
          },
          "metadata": {},
          "execution_count": 31
        }
      ],
      "source": [
        "#Average Mechanical Power for a given patient during intubation\n",
        "df_MP = df.groupby('admissionid')['MP'].mean()\n",
        "\n",
        "df_MP.reset_index()['MP'].describe()"
      ]
    },
    {
      "cell_type": "code",
      "execution_count": null,
      "metadata": {
        "colab": {
          "base_uri": "https://localhost:8080/"
        },
        "id": "04DnwVJPvPIX",
        "outputId": "1e9361fa-09e8-4b67-a7ec-28fc8cf8b914"
      },
      "outputs": [
        {
          "output_type": "stream",
          "name": "stdout",
          "text": [
            "count    13909.000000\n",
            "mean        73.443382\n",
            "std        141.863762\n",
            "min          0.000000\n",
            "25%          6.000000\n",
            "50%         12.000000\n",
            "75%         68.000000\n",
            "max       1826.000000\n",
            "Name: tube, dtype: float64\n"
          ]
        }
      ],
      "source": [
        "#Intubation time\n",
        "df_int_per_pt = df.groupby('admissionid')['tube'].sum()\n",
        "\n",
        "print(df_int_per_pt.reset_index()['tube'].astype(int).describe())\n",
        "\n",
        "#df_int_per_pt.plot(kind='hist',bins=30)"
      ]
    },
    {
      "cell_type": "markdown",
      "metadata": {
        "id": "DninXtKqCMJf"
      },
      "source": [
        "### Var_list"
      ]
    },
    {
      "cell_type": "code",
      "execution_count": null,
      "metadata": {
        "id": "D6JaHWrKhaEN"
      },
      "outputs": [],
      "source": [
        "list(df)"
      ]
    },
    {
      "cell_type": "code",
      "execution_count": null,
      "metadata": {
        "id": "KJ-7lpZImFi_"
      },
      "outputs": [],
      "source": [
        "var_list = ['map',\n",
        " 'PaO2',\n",
        " 'FiO2',\n",
        " 'plt',\n",
        " 'a2_heart_rate',\n",
        " 'a2_temperature',\n",
        " 'a2_mean_abp',\n",
        " 'a2_pH',\n",
        " 'a2_sodium',\n",
        " 'a2_potassium',\n",
        " 'a2_creatinine_mg_per_dl',\n",
        " 'a2_ht',\n",
        " 'a2_age_score',\n",
        " 'bilirubin',\n",
        " 'MP',\n",
        " ]\n",
        "\n",
        "var2_list = [ 'a2_resp_rate',\n",
        " 'tidal',\n",
        " 'minute_vol',\n",
        " 'peep',\n",
        " 'peak',\n",
        " 'insp_p']\n",
        "\n",
        "var3_list = [\n",
        " 'sepsis_at_admission',\n",
        " 'surgical',\n",
        "]"
      ]
    },
    {
      "cell_type": "code",
      "execution_count": null,
      "metadata": {
        "colab": {
          "base_uri": "https://localhost:8080/"
        },
        "id": "JB7ilZd0sv7p",
        "outputId": "5863e956-d291-45f5-e079-b2bf3c2718ad"
      },
      "outputs": [
        {
          "output_type": "execute_result",
          "data": {
            "text/plain": [
              "['map',\n",
              " 'PaO2',\n",
              " 'FiO2',\n",
              " 'plt',\n",
              " 'a2_heart_rate',\n",
              " 'a2_temperature',\n",
              " 'a2_mean_abp',\n",
              " 'a2_pH',\n",
              " 'a2_sodium',\n",
              " 'a2_potassium',\n",
              " 'a2_creatinine_mg_per_dl',\n",
              " 'a2_ht',\n",
              " 'a2_age_score',\n",
              " 'bilirubin',\n",
              " 'MP',\n",
              " 'a2_resp_rate',\n",
              " 'tidal',\n",
              " 'minute_vol',\n",
              " 'peep',\n",
              " 'peak',\n",
              " 'insp_p',\n",
              " 'is_surgical',\n",
              " 'is_medical',\n",
              " 'is_cardiothoracic_surgery',\n",
              " 'is_respiratory_failure',\n",
              " 'is_neurosurgery',\n",
              " 'is_gastrointestinal_surgery',\n",
              " 'is_cardiac_arrest',\n",
              " 'is_vascular_surgery',\n",
              " 'is_trauma',\n",
              " 'is_neuro',\n",
              " 'is_cardio',\n",
              " 'is_infection',\n",
              " 'is_shock']"
            ]
          },
          "metadata": {},
          "execution_count": 35
        }
      ],
      "source": [
        "[item for x in [var_list,var2_list,adm_reasonlist] for item in x]"
      ]
    },
    {
      "cell_type": "code",
      "execution_count": null,
      "metadata": {
        "id": "YoE_8LOc32JG"
      },
      "outputs": [],
      "source": [
        "combine_list = [item for x in [var_list,var2_list,adm_reasonlist] for item in x]"
      ]
    },
    {
      "cell_type": "markdown",
      "metadata": {
        "id": "AHMBSg6o3vHt"
      },
      "source": [
        "## Collapse by every admissionid"
      ]
    },
    {
      "cell_type": "code",
      "execution_count": null,
      "metadata": {
        "id": "3ijKN2cGle1X"
      },
      "outputs": [],
      "source": [
        "df_mean = df.groupby('admissionid')[combine_list].mean()"
      ]
    },
    {
      "cell_type": "code",
      "execution_count": null,
      "metadata": {
        "id": "-SBfRNFZ3vZn"
      },
      "outputs": [],
      "source": [
        "df_mean = pd.merge(df_mean,df_int_per_pt,on='admissionid')"
      ]
    },
    {
      "cell_type": "markdown",
      "metadata": {
        "id": "qvZwWYIcWZI2"
      },
      "source": [
        "### VFD calculation"
      ]
    },
    {
      "cell_type": "code",
      "execution_count": null,
      "metadata": {
        "colab": {
          "base_uri": "https://localhost:8080/"
        },
        "id": "j1qzAB_PnDhu",
        "outputId": "563717d0-4f0f-4c04-8371-bee980fb8509"
      },
      "outputs": [
        {
          "output_type": "execute_result",
          "data": {
            "text/plain": [
              "count    13909.000000\n",
              "mean        25.025631\n",
              "std          5.387597\n",
              "min          0.000000\n",
              "25%         25.166667\n",
              "50%         27.500000\n",
              "75%         27.750000\n",
              "max         28.000000\n",
              "Name: VFDs, dtype: float64"
            ]
          },
          "metadata": {},
          "execution_count": 40
        }
      ],
      "source": [
        "#  28 day ventilator free days\n",
        "#  Patient A is intubated for 2 days out of the 7 days\n",
        "#  VFD for patient A = 7 - 2 = 5\n",
        "#  If patient died during the 7 day of intubation, VFD = 0\n",
        "df_mean['VFDs'] = df_mean['tube'].apply(lambda x: 28 - (x/24))\n",
        "df_mean.loc[df_mean.VFDs<0,'VFDs'] = 0\n",
        "df_mean.head()\n",
        "\n",
        "df_mean['VFDs'].describe()"
      ]
    },
    {
      "cell_type": "code",
      "execution_count": null,
      "metadata": {
        "colab": {
          "base_uri": "https://localhost:8080/",
          "height": 607
        },
        "id": "ZNX6U6XJwEE7",
        "outputId": "bb830e5b-c766-47fe-dfdb-bef11274872b"
      },
      "outputs": [
        {
          "output_type": "display_data",
          "data": {
            "text/plain": [
              "<Figure size 400x600 with 1 Axes>"
            ],
            "image/png": "[encoded data removed]"
          },
          "metadata": {}
        }
      ],
      "source": [
        "import seaborn as sns\n",
        "\n",
        "plt.figure(figsize=(4,6))\n",
        "sns.boxplot(y = df_mean['MP'])\n",
        "\n",
        "# Set the x-axis label\n",
        "plt.xlabel(\"MP\")\n",
        "\n",
        "# Set the y-axis label\n",
        "plt.ylabel(\"J/Min\")\n",
        "\n",
        "plt.tight_layout()\n",
        "# Show the plot\n",
        "plt.show()\n"
      ]
    },
    {
      "cell_type": "markdown",
      "metadata": {
        "id": "Bm1qg_vZWgLh"
      },
      "source": [
        "### cleaning missing value\n",
        "1. df_w_bili: include bilirubin as variable\n",
        "2. df_w/o_bil: exclude bilirubin as variable due to ~30% missing values"
      ]
    },
    {
      "cell_type": "code",
      "execution_count": null,
      "metadata": {
        "colab": {
          "base_uri": "https://localhost:8080/"
        },
        "id": "VbXYSWPfD6rc",
        "outputId": "98722e2a-9499-4972-8bd0-c13fca94c3ce"
      },
      "outputs": [
        {
          "output_type": "execute_result",
          "data": {
            "text/plain": [
              "map                               1\n",
              "PaO2                             26\n",
              "FiO2                            230\n",
              "plt                              20\n",
              "a2_heart_rate                     1\n",
              "a2_temperature                   60\n",
              "a2_mean_abp                       1\n",
              "a2_pH                            23\n",
              "a2_sodium                         7\n",
              "a2_potassium                      7\n",
              "a2_creatinine_mg_per_dl          16\n",
              "a2_ht                             6\n",
              "a2_age_score                      0\n",
              "bilirubin                      5805\n",
              "MP                              104\n",
              "a2_resp_rate                      5\n",
              "tidal                             9\n",
              "minute_vol                       18\n",
              "peep                             15\n",
              "peak                             39\n",
              "insp_p                           55\n",
              "is_surgical                       0\n",
              "is_medical                        0\n",
              "is_cardiothoracic_surgery         0\n",
              "is_respiratory_failure            0\n",
              "is_neurosurgery                   0\n",
              "is_gastrointestinal_surgery       0\n",
              "is_cardiac_arrest                 0\n",
              "is_vascular_surgery               0\n",
              "is_trauma                         0\n",
              "is_neuro                          0\n",
              "is_cardio                         0\n",
              "is_infection                      0\n",
              "is_shock                          0\n",
              "tube                              0\n",
              "VFDs                              0\n",
              "dtype: int64"
            ]
          },
          "metadata": {},
          "execution_count": 42
        }
      ],
      "source": [
        "df_mean.isnull().sum() #missing value"
      ]
    },
    {
      "cell_type": "code",
      "execution_count": null,
      "metadata": {
        "colab": {
          "base_uri": "https://localhost:8080/"
        },
        "id": "v9dMRc5MDB3C",
        "outputId": "c747eaca-1ab9-4fce-f8b3-2fb30ba42474"
      },
      "outputs": [
        {
          "output_type": "stream",
          "name": "stdout",
          "text": [
            "13558\n"
          ]
        }
      ],
      "source": [
        "df_wo_bili = df_mean.drop('bilirubin',axis=1)\n",
        "df_wo_bili.dropna(axis=0, inplace=True)\n",
        "\n",
        "print(len(df_wo_bili))"
      ]
    },
    {
      "cell_type": "code",
      "execution_count": null,
      "metadata": {
        "colab": {
          "base_uri": "https://localhost:8080/"
        },
        "id": "57yitLzQiww5",
        "outputId": "cdf7ef97-e267-4d66-e43d-46f89b21fb55"
      },
      "outputs": [
        {
          "output_type": "stream",
          "name": "stdout",
          "text": [
            "7962\n"
          ]
        }
      ],
      "source": [
        "df_w_bili = df_mean.dropna(axis=0)  # include bilirubin\n",
        "\n",
        "print(len(df_w_bili))"
      ]
    },
    {
      "cell_type": "markdown",
      "metadata": {
        "id": "HUqnp8WY9w61"
      },
      "source": [
        "## Per admission diagnosis analysis"
      ]
    },
    {
      "cell_type": "code",
      "execution_count": null,
      "metadata": {
        "colab": {
          "base_uri": "https://localhost:8080/"
        },
        "id": "EfZiKs7JZxMT",
        "outputId": "f4e951f4-29d1-4ddd-c540-0d1ab8b4cdba"
      },
      "outputs": [
        {
          "output_type": "execute_result",
          "data": {
            "text/plain": [
              "is_surgical                    8192.0\n",
              "is_medical                     3426.0\n",
              "is_cardiothoracic_surgery      5590.0\n",
              "is_respiratory_failure          941.0\n",
              "is_neurosurgery                 640.0\n",
              "is_gastrointestinal_surgery     618.0\n",
              "is_cardiac_arrest               930.0\n",
              "is_vascular_surgery             686.0\n",
              "is_trauma                       712.0\n",
              "is_neuro                        370.0\n",
              "is_cardio                       290.0\n",
              "is_infection                   1963.0\n",
              "is_shock                       4538.0\n",
              "dtype: float64"
            ]
          },
          "metadata": {},
          "execution_count": 45
        }
      ],
      "source": [
        "df_mean[adm_reasonlist].sum()\n"
      ]
    },
    {
      "cell_type": "code",
      "execution_count": null,
      "metadata": {
        "colab": {
          "base_uri": "https://localhost:8080/"
        },
        "id": "tzX9u7A8Zy4b",
        "outputId": "a0d3c14c-e1c7-4d61-e673-e574b858678f"
      },
      "outputs": [
        {
          "output_type": "execute_result",
          "data": {
            "text/plain": [
              "is_surgical                    0.588971\n",
              "is_medical                     0.246315\n",
              "is_cardiothoracic_surgery      0.401898\n",
              "is_respiratory_failure         0.067654\n",
              "is_neurosurgery                0.046013\n",
              "is_gastrointestinal_surgery    0.044432\n",
              "is_cardiac_arrest              0.066863\n",
              "is_vascular_surgery            0.049321\n",
              "is_trauma                      0.051190\n",
              "is_neuro                       0.026601\n",
              "is_cardio                      0.020850\n",
              "is_infection                   0.141132\n",
              "is_shock                       0.326264\n",
              "dtype: float64"
            ]
          },
          "metadata": {},
          "execution_count": 46
        }
      ],
      "source": [
        "df_mean[adm_reasonlist].sum()/len(df_mean)"
      ]
    },
    {
      "cell_type": "code",
      "execution_count": null,
      "metadata": {
        "id": "i_vb1oJb_XRh"
      },
      "outputs": [],
      "source": [
        "dict = {}\n",
        "for x in adm_reasonlist:\n",
        "  dict[x] = np.median(df_mean[df_mean[x]==1]['tube'])\n",
        "\n",
        "int_h = pd.DataFrame(dict, index=range(1,2)).T\n",
        "int_h.columns = ['IMV_duration']\n",
        "int_h = int_h.sort_values('IMV_duration',ascending=False)"
      ]
    },
    {
      "cell_type": "markdown",
      "metadata": {
        "id": "yJ_wI2eU2sPK"
      },
      "source": [
        "##Set Intubation as time 0"
      ]
    },
    {
      "cell_type": "code",
      "execution_count": null,
      "metadata": {
        "id": "_caiIKHPt1wl"
      },
      "outputs": [],
      "source": [
        "#Reset intubation time as time 0\n",
        "df2 = df.copy()\n",
        "\n",
        "df2.loc[df2['is_iv'].isnull()==True,'is_iv'] = False\n",
        "df2['is_iv_1'] = df2['is_iv'].astype(int)\n",
        "df2.loc[df2.groupby('admissionid')['is_iv_1'].idxmax(),'post_int'] =1 #first the first intubation in each patient\n",
        "df2['post_int']=df2.groupby('admissionid')['post_int'].ffill() #fill forward\n",
        "\n",
        "df2['int_time'] = df2[df2['post_int']==1].groupby('admissionid').cumcount()"
      ]
    },
    {
      "cell_type": "markdown",
      "metadata": {
        "id": "qBGUpTuO3hmI"
      },
      "source": [
        "### Establish hourly data\n",
        "\n",
        "- df2: intubation hour as hour 0\n",
        "- df3: hourly data using feed-forward (ffill function)\n",
        "- df_mean_d: daily mean\n",
        "- MP_sum: mechanical power calculation\n",
        "\n",
        "\n"
      ]
    },
    {
      "cell_type": "code",
      "execution_count": null,
      "metadata": {
        "id": "vK1DJZdf4eeP"
      },
      "outputs": [],
      "source": [
        "df2 = df2[df2['int_time'].isnull()==False]\n",
        "df2['int_day'] = (df2['int_time']/24).astype(int) #calculate intubation day"
      ]
    },
    {
      "cell_type": "code",
      "execution_count": null,
      "metadata": {
        "id": "NDb6Gfdt5wzG"
      },
      "outputs": [],
      "source": [
        "df3 = df2.copy()\n",
        "df3[combine_list] = df3.groupby('admissionid')[combine_list].ffill() #forward filling all the empty data per hour"
      ]
    },
    {
      "cell_type": "code",
      "execution_count": null,
      "metadata": {
        "id": "aRYfoRPN5QXi"
      },
      "outputs": [],
      "source": [
        "df_mean_d = df3.groupby(['admissionid','int_day'])[combine_list].mean() #calculate daily mean value\n",
        "df_mean_d = df_mean_d.reset_index()"
      ]
    },
    {
      "cell_type": "code",
      "execution_count": null,
      "metadata": {
        "id": "4J6KUZt16P1f"
      },
      "outputs": [],
      "source": [
        "print(len(df_mean_d),'patient day')\n",
        "\n",
        "df_mean_d.head()"
      ]
    },
    {
      "cell_type": "code",
      "execution_count": null,
      "metadata": {
        "id": "AGjb59mCJcZ6"
      },
      "outputs": [],
      "source": []
    },
    {
      "cell_type": "markdown",
      "source": [
        "## Set Intubation as time 0 and then calculate VFDs of 7 days and 28 days"
      ],
      "metadata": {
        "id": "K8Se_Zp_ofnR"
      }
    },
    {
      "cell_type": "code",
      "source": [
        "df2_2 = df.copy()\n",
        "df2_2 = df2_2.set_index('admissionid')\n",
        "first_int_time = df2_2[df2_2['iv_intubated']].groupby('admissionid')['measuredat2'].min()\n",
        "df2_2['int_time']  = df2_2['measuredat2'] - first_int_time\n",
        "df2_2['death_time']  = df2_2['death2'] - first_int_time\n",
        "# df2_2.head(20)"
      ],
      "metadata": {
        "id": "oPIJGMzBa7_G"
      },
      "execution_count": null,
      "outputs": []
    },
    {
      "cell_type": "code",
      "source": [
        "for VF_DAYS_PARAM in [7, 28]:\n",
        "  vent_time = df2_2[df2_2['iv_intubated']].groupby('admissionid')['int_time'].max()\n",
        "\n",
        "  vent_time = np.ceil(vent_time / 24)\n",
        "  vfd = VF_DAYS_PARAM - vent_time\n",
        "\n",
        "  death = (df2_2['death_time'].groupby('admissionid').min()<=VF_DAYS_PARAM*24)\n",
        "  death = death[death].index\n",
        "  death\n",
        "  vfd.loc[vfd<0] = 0\n",
        "  vfd.loc[death] = 0\n",
        "  # vfd.head(20)\n",
        "\n",
        "  df2_2['VFD' + str(VF_DAYS_PARAM)] = vfd.astype(int)\n"
      ],
      "metadata": {
        "id": "Q-iq5ni5iUW3"
      },
      "execution_count": null,
      "outputs": []
    },
    {
      "cell_type": "markdown",
      "metadata": {
        "id": "Oer79yMPKvfe"
      },
      "source": [
        "### MP Mean, Max, Min, Median calculation\n",
        "\n",
        "- based on hourly data\n"
      ]
    },
    {
      "cell_type": "code",
      "execution_count": null,
      "metadata": {
        "id": "TviOG3Dm6Uzz"
      },
      "outputs": [],
      "source": [
        "MP_sum = df3.groupby('admissionid').agg({'MP': ['sum','max','min','mean','median'],\n",
        "                                         'int_time' : 'max',\n",
        "                                         'admissionid' : 'max'}).reset_index(drop=1)\n",
        "\n",
        "MP_sum.columns = ['MP_sum','MP_max','MP_min','MP_mean','MP_median','int_time','admissionid']\n",
        "\n",
        "MP_sum['MP_avg'] = MP_sum['MP_sum']/MP_sum['int_time']\n",
        "print(MP_sum['MP_avg'].describe())\n",
        "MP_sum.head() #MP ~ Cumulative MP, MP_avg ~ CumMP/total intubated hr, int_time ~ total intubation hours\n",
        "\n"
      ]
    },
    {
      "cell_type": "code",
      "execution_count": null,
      "metadata": {
        "id": "xocK-69EcuYD"
      },
      "outputs": [],
      "source": [
        "MP_table = pd.melt(MP_sum[['MP_mean','MP_median','MP_max','MP_min','admissionid', 'int_time']], id_vars=['admissionid', 'int_time'], var_name='type', value_name='value')\n",
        "\n",
        "#\n",
        "sns.kdeplot(data=MP_table,x='value',hue='type',)\n",
        "\n",
        "plt.xlim(0,120)"
      ]
    },
    {
      "cell_type": "code",
      "execution_count": null,
      "metadata": {
        "id": "oj0BPravfd6o"
      },
      "outputs": [],
      "source": [
        "sns.violinplot(data=MP_table, y='value',x='type')\n",
        "\n",
        "plt.ylim(0,200)"
      ]
    },
    {
      "cell_type": "markdown",
      "metadata": {
        "id": "ufcWUdIJ4RV1"
      },
      "source": [
        "## Outcome:2 PFR"
      ]
    },
    {
      "cell_type": "code",
      "execution_count": null,
      "metadata": {
        "id": "nV9kbVA7NMdY"
      },
      "outputs": [],
      "source": [
        "df3['PFR'] = df3['PaO2']/df3['FiO2']*100\n",
        "df3['PFR'].describe()"
      ]
    },
    {
      "cell_type": "code",
      "execution_count": null,
      "metadata": {
        "id": "stlso__x3GF1"
      },
      "outputs": [],
      "source": [
        "df_PFR = df3.copy()"
      ]
    },
    {
      "cell_type": "markdown",
      "metadata": {
        "id": "xFNo3d8wVx_H"
      },
      "source": [
        "# Start analysis"
      ]
    },
    {
      "cell_type": "code",
      "execution_count": null,
      "metadata": {
        "id": "PPH24_3gV6mj"
      },
      "outputs": [],
      "source": [
        "df_mean = df_wo_bili"
      ]
    },
    {
      "cell_type": "markdown",
      "metadata": {
        "id": "b4aBjMjbnXhI"
      },
      "source": [
        "## Regular Linear Reg\n"
      ]
    },
    {
      "cell_type": "code",
      "execution_count": null,
      "metadata": {
        "id": "9HQaAZ_fnW_w"
      },
      "outputs": [],
      "source": [
        "import statsmodels.api as sm\n",
        "\n",
        "x = df_mean.drop(['tube','VFDs']+adm_reasonlist,axis = 1)\n",
        "y= df_mean['VFDs']\n",
        "\n",
        "result = sm.OLS(y, sm.add_constant(x)).fit()\n",
        "\n",
        "print(result.summary())"
      ]
    },
    {
      "cell_type": "markdown",
      "metadata": {
        "id": "a-78-Xkxpl5D"
      },
      "source": [
        "## Table 1"
      ]
    },
    {
      "cell_type": "code",
      "execution_count": null,
      "metadata": {
        "id": "RIHsA9qYpYiJ"
      },
      "outputs": [],
      "source": [
        "!pip install tableone"
      ]
    },
    {
      "cell_type": "code",
      "execution_count": null,
      "metadata": {
        "id": "dUgJFXkKpoJW"
      },
      "outputs": [],
      "source": [
        "from tableone import TableOne\n",
        "\n",
        "columns = var_list + var2_list\n",
        "\n",
        "groupby = ['is_surgical']\n",
        "\n",
        "mytable = TableOne(df_mean, columns=columns,groupby=groupby, pval=False)\n",
        "\n"
      ]
    },
    {
      "cell_type": "code",
      "execution_count": null,
      "metadata": {
        "id": "o6xF3QBeqR1_"
      },
      "outputs": [],
      "source": [
        "mytable"
      ]
    },
    {
      "cell_type": "markdown",
      "metadata": {
        "id": "_VqFXKn230jn"
      },
      "source": [
        "# Outcome 1: VFDs\n",
        "https://colab.research.google.com/github/yandexdataschool/mlhep2019/blob/master/notebooks/day-6/causal/example1.ipynb"
      ]
    },
    {
      "cell_type": "code",
      "execution_count": null,
      "metadata": {
        "id": "YHZ9HqtO39XQ"
      },
      "outputs": [],
      "source": [
        "import dowhy\n",
        "#from dowhy.do_why import CausalModel\n",
        "import dowhy.datasets"
      ]
    },
    {
      "cell_type": "markdown",
      "metadata": {
        "id": "J1M_BFFI-2kc"
      },
      "source": [
        "## creat do causal functions"
      ]
    },
    {
      "cell_type": "code",
      "execution_count": null,
      "metadata": {
        "id": "e7hNXY8F-2kj"
      },
      "outputs": [],
      "source": [
        "from IPython.display import Image, display\n",
        "from dowhy import CausalModel\n",
        "from sklearn.preprocessing import PolynomialFeatures\n",
        "from sklearn.linear_model import LassoCV\n",
        "from sklearn.ensemble import GradientBoostingRegressor\n",
        "from econml.dml import CausalForestDML\n",
        "from econml.sklearn_extensions.linear_model import DebiasedLasso\n",
        "\n",
        "## CausalLR the basic DoWhy\n",
        "def do_CausalLR(model, estimand):\n",
        "  causal_estimate = model.estimate_effect(estimand,\n",
        "                                          method_name=\"backdoor.linear_regression\",\n",
        "                                          test_significance=True,\n",
        "                                          confidence_intervals =True)\n",
        "\n",
        "\n",
        "  print(\"Causal Estimate is \" + str(causal_estimate.value))\n",
        "  result = {}\n",
        "  result['value'] = causal_estimate.value\n",
        "  result['UB'] = causal_estimate.get_confidence_intervals()[0]\n",
        "  result['LB'] = causal_estimate.get_confidence_intervals()[1]\n",
        "  result['alg'] = 'LR'\n",
        "\n",
        "  return result, causal_estimate #return model for self_testing\n",
        "\n",
        "## DML\n",
        "def do_DML(model , estimand, method = 'backdoor.econml.dml.CausalForestDML', param=False):\n",
        "\n",
        "\n",
        "  if param ==False:\n",
        "    param = { \"init_params\":{'model_y': GradientBoostingRegressor(),\n",
        "                              'model_t':  GradientBoostingRegressor(),\n",
        "          #'model_final': DebiasedLasso(), # 'auto',\n",
        "          #'featurizer':PolynomialFeatures(degree=1, include_bias=True)\n",
        "                                },\n",
        "          #\"fit_params\":{},\n",
        "          'discrete_treatment' : False,\n",
        "      }\n",
        "\n",
        "  dml_estimate = model.estimate_effect(estimand,\n",
        "                                      method_name= method,\n",
        "                                      confidence_intervals=True,\n",
        "                                      method_params= param,\n",
        "                                      )\n",
        "  print(\"DML estimate Causal Estimate is \" + str(np.mean(dml_estimate.value)))\n",
        "\n",
        "  DML_result = {}\n",
        "  DML_result['value'] = np.mean(dml_estimate.value)\n",
        "  DML_result['UB'] = np.mean(dml_estimate.get_confidence_intervals()[0])\n",
        "  DML_result['LB'] = np.mean(dml_estimate.get_confidence_intervals()[1])\n",
        "  DML_result['alg'] = method.split('.')[-1]\n",
        "\n",
        "  return DML_result, dml_estimate\n",
        "\n",
        "#Refute function\n",
        "def do_refute(model, estimand, causal_estimate, method):\n",
        "\n",
        "    res_subset=model.refute_estimate(estimand,\n",
        "                                     causal_estimate,\n",
        "                                     method_name=method,\n",
        "                                     subset_fraction=0.9)\n",
        "    print(res_subset)\n",
        "\n",
        "#Basic model\n",
        "def do_model(data,treatment, outcome, dag):\n",
        "  model = CausalModel(\n",
        "      data=data,\n",
        "      treatment=treatment,\n",
        "      outcome=outcome,\n",
        "      graph=dag)\n",
        "  identified_estimand = model.identify_effect(proceed_when_unidentifiable=True)\n",
        "  identifier_name = identified_estimand.estimands\n",
        "\n",
        "  return model, identified_estimand\n",
        "\n",
        "\n",
        "def do_causal(dag, data, treatment, outcome, print_result=False):\n",
        "\n",
        "\n",
        "  print('-----------------------')\n",
        "  print('printing & checking DAG')\n",
        "  # Identify the causal effect & Print DAG\n",
        "  model, identified_estimand = do_model(data = data, treatment=treatment, outcome=outcome, dag = dag)\n",
        "\n",
        "  #1\n",
        "  print('1/3-----------------------')\n",
        "  print('Use backdoor LR to identify causal estimate')\n",
        "  print('-----------------------')\n",
        "  causal_result, _ = do_CausalLR(model, identified_estimand)\n",
        "\n",
        "  #2\n",
        "  print('2/3-----------------------')\n",
        "  print('Use CFDML to identify causal estimate')\n",
        "  print('-----------------------')\n",
        "  CFDML_result, _ = do_DML(model = model, estimand = identified_estimand, method='backdoor.econml.dml.CausalForestDML')\n",
        "\n",
        "  #3\n",
        "  print('3/3-----------------------')\n",
        "  print('Use NPDML to identify causal estimate')\n",
        "  print('-----------------------')\n",
        "\n",
        "  NPDML_param = { \"init_params\":{'model_y': GradientBoostingRegressor(),\n",
        "                              'model_t':  GradientBoostingRegressor(),\n",
        "                  'model_final': DebiasedLasso(),                               #NPDML need Model_final\n",
        "          #'featurizer':PolynomialFeatures(degree=1, include_bias=True)\n",
        "                                },\n",
        "          #\"fit_params\":{},\n",
        "          'discrete_treatment' : False,\n",
        "      }\n",
        "  NPDML_result,_ = do_DML( model =model, estimand = identified_estimand, method = 'backdoor.econml.dml.NonParamDML' , param = NPDML_param)\n",
        "\n",
        "  #print the DAG\n",
        "  if print_result == True:\n",
        "    model.view_model(size=(20, 15))\n",
        "    display(Image(filename=\"causal_model.png\"))\n",
        "\n",
        "  #return causal_estimate.value, dml_estimate.value\n",
        "  result = pd.DataFrame([causal_result, CFDML_result, NPDML_result])\n",
        "\n",
        "  return result\n",
        "\n",
        "\n"
      ]
    },
    {
      "cell_type": "markdown",
      "metadata": {
        "id": "s-OKsk8jY2H5"
      },
      "source": [
        "## Base DAG\n"
      ]
    },
    {
      "cell_type": "code",
      "execution_count": null,
      "metadata": {
        "id": "VtyaZvoeY00G"
      },
      "outputs": [],
      "source": [
        "DAG_rr= 'tidal -> peak; peep -> peak; insp_p -> peak; a2_resp_rate -> MP; peak -> MP; peep -> MP; tidal -> MP}' # Respiratory part\n",
        "DAG_base= 'digraph {' + ' -> VFDs; '.join(var_list) + ' -> VFDs; ' + DAG_rr"
      ]
    },
    {
      "cell_type": "markdown",
      "metadata": {
        "id": "ogLopAUSY4ua"
      },
      "source": []
    },
    {
      "cell_type": "code",
      "execution_count": null,
      "metadata": {
        "id": "LLaW5HBBGDzd"
      },
      "outputs": [],
      "source": [
        "var_list=['map',\n",
        " 'PaO2',\n",
        " 'FiO2',\n",
        " 'plt',\n",
        " 'a2_heart_rate',\n",
        " 'a2_temperature',\n",
        " 'a2_mean_abp',\n",
        " 'a2_pH',\n",
        " 'a2_sodium',\n",
        " 'a2_potassium',\n",
        " 'a2_creatinine_mg_per_dl',\n",
        " 'a2_ht',\n",
        " 'a2_age_score',\n",
        "# 'bilirubin',\n",
        " 'MP']"
      ]
    },
    {
      "cell_type": "markdown",
      "metadata": {
        "id": "YodigVjx--ET"
      },
      "source": [
        "## Model 1 base"
      ]
    },
    {
      "cell_type": "code",
      "execution_count": null,
      "metadata": {
        "id": "2oFMUqI3BUAQ"
      },
      "outputs": [],
      "source": [
        "data = df_mean.drop('tube',axis=1)\n",
        "treatment = 'MP'\n",
        "outcome = 'VFDs'\n",
        "DAG = DAG_base\n",
        "\n",
        "result =  do_causal(dag=DAG, data=data,treatment=treatment,outcome=outcome)"
      ]
    },
    {
      "cell_type": "code",
      "execution_count": null,
      "metadata": {
        "id": "Qhlbf52pnyxu"
      },
      "outputs": [],
      "source": [
        "result"
      ]
    },
    {
      "cell_type": "code",
      "execution_count": null,
      "metadata": {
        "id": "A3sVSBpIoLsp"
      },
      "outputs": [],
      "source": []
    },
    {
      "cell_type": "code",
      "execution_count": null,
      "metadata": {
        "id": "oAEXHOzABiq4"
      },
      "outputs": [],
      "source": [
        "M1_result = pd.DataFrame()\n",
        "M1_result = result\n",
        "M1_result['Population'] = 'base'\n",
        "\n",
        "for x in adm_reasonlist:\n",
        "  print('------Patient Population-----------')\n",
        "  print(x)\n",
        "  data = df_mean[df_mean[x] == 1].drop('tube',axis=1)\n",
        "  treatment = 'MP'\n",
        "  outcome = 'VFDs'\n",
        "  DAG = 'digraph {' + ' -> VFDs; '.join(var_list) + ' -> VFDs; ' + DAG_rr\n",
        "\n",
        "  result_ = pd.DataFrame()\n",
        "  result_ = do_causal(dag=DAG, data=data,treatment=treatment,outcome=outcome)\n",
        "  result_['Population'] = x\n",
        "  M1_result = pd.concat([M1_result,result_])\n",
        "\n",
        "print(M1_result)"
      ]
    },
    {
      "cell_type": "markdown",
      "metadata": {
        "id": "5x_TCkymhXrp"
      },
      "source": [
        "### Patient group result"
      ]
    },
    {
      "cell_type": "code",
      "execution_count": null,
      "metadata": {
        "id": "xlFjRGlXFErq"
      },
      "outputs": [],
      "source": [
        "M1_result"
      ]
    },
    {
      "cell_type": "markdown",
      "metadata": {
        "id": "bbUnWSjbovhW"
      },
      "source": [
        "### Plot"
      ]
    },
    {
      "cell_type": "code",
      "execution_count": null,
      "metadata": {
        "id": "8vmmKXpAbUQX"
      },
      "outputs": [],
      "source": [
        "i = 0\n",
        "fig, axes = plt.subplots(1, 3, sharey=True)\n",
        "for x in ['LR','CF-DML','NP-DML']:\n",
        "  df_plot = M1_result[M1_result.alg== x]\n",
        "  # Plot the lines in the left subplot\n",
        "  for lower, upper, y in zip(df_plot['LB'], df_plot['UB'], range(len(df_plot))):\n",
        "      axes[i].plot((lower, upper), (y, y), '-', color='black', linewidth=0.75)\n",
        "\n",
        "  # Plot the dot plot in the right subplot\n",
        "  axes[i].plot(df_plot[\"value\"], df_plot[\"Population\"], 's', markersize=8, markeredgecolor='grey', markerfacecolor='grey')\n",
        "\n",
        "  # Label the axes\n",
        "  axes[i].set_xlabel(\"ATE with 95% CI\")\n",
        "  axes[i].set_xlabel(\"ATE with 95% CI\")\n",
        "\n",
        "  axes[i].set_title('Algorithm:'+ x, fontsize=10)\n",
        "\n",
        "  axes[i].axvline(0, color='black', linewidth=0.7)\n",
        "\n",
        "  axes[i].set_xlim(-0.8,0.5)\n",
        "  # Show the plot\n",
        "  i = i+1\n",
        "\n",
        "axes[0].set_ylabel(\"Patient Population\")\n",
        "plt.suptitle(\"Treatment: mean MP \", fontsize=12, fontweight='bold')\n",
        "\n",
        "#plt.tight_layout()\n",
        "plt.show()"
      ]
    },
    {
      "cell_type": "markdown",
      "metadata": {
        "id": "xMqhNno8_jQi"
      },
      "source": [
        "## Model 2 Median MP"
      ]
    },
    {
      "cell_type": "code",
      "execution_count": null,
      "metadata": {
        "id": "JY16i6wy_oTj"
      },
      "outputs": [],
      "source": [
        "df_mean_cummp = pd.merge(df_mean.drop('MP',axis=1).reset_index(),\n",
        "                         MP_sum[['admissionid','MP_median']],\n",
        "                         how='left',\n",
        "                         on='admissionid')\n",
        "\n",
        "df_mean_cummp.dropna(inplace=True)\n",
        "\n",
        "len(df_mean_cummp)"
      ]
    },
    {
      "cell_type": "code",
      "execution_count": null,
      "metadata": {
        "id": "anDvxtx0DsoK"
      },
      "outputs": [],
      "source": [
        "\n",
        "\n",
        "data = df_mean_cummp.drop(['tube'],axis=1)\n",
        "treatment = 'MP_median'\n",
        "outcome = 'VFDs'\n",
        "DAG = DAG_base.replace('MP','MP_median')\n",
        "\n",
        "M2_result  = do_causal(dag=DAG, data=data,treatment=treatment,outcome=outcome)\n"
      ]
    },
    {
      "cell_type": "code",
      "execution_count": null,
      "metadata": {
        "id": "5k3zSAmcSgVy"
      },
      "outputs": [],
      "source": [
        "M2_result"
      ]
    },
    {
      "cell_type": "code",
      "execution_count": null,
      "metadata": {
        "id": "x8Qq6Sh9R1yo"
      },
      "outputs": [],
      "source": [
        "result_ = {}\n",
        "treatment = 'MP_median'\n",
        "outcome = 'VFDs'\n",
        "DAG_avg = DAG.replace('MP','MP_median')\n",
        "\n",
        "for x in adm_reasonlist:\n",
        "  print('------Patient Population-----------')\n",
        "  print(x)\n",
        "  data = df_mean_cummp[df_mean_cummp[x] == 1].drop('tube',axis=1)\n",
        "\n",
        "  result_ = pd.DataFrame()\n",
        "  result_ = do_causal(dag=DAG_avg, data=data,treatment=treatment,outcome=outcome)\n",
        "  result_['Population'] = x\n",
        "  M2_result = pd.concat([M2_result,result_])\n",
        "  print(M2_result)\n"
      ]
    },
    {
      "cell_type": "markdown",
      "metadata": {
        "id": "9Nfz9OtsR74L"
      },
      "source": [
        "### Patient group result"
      ]
    },
    {
      "cell_type": "code",
      "execution_count": null,
      "metadata": {
        "id": "q31fnU0LTDPV"
      },
      "outputs": [],
      "source": [
        "M2_result"
      ]
    },
    {
      "cell_type": "markdown",
      "metadata": {
        "id": "SZtqRYSTplgK"
      },
      "source": [
        "### Plot"
      ]
    },
    {
      "cell_type": "code",
      "execution_count": null,
      "metadata": {
        "id": "3eIDkIXbiW9G"
      },
      "outputs": [],
      "source": [
        "M2_result.loc[M2_result['Population'].isnull()==True,'Population'] = 'base'\n",
        "i = 0\n",
        "fig, axes = plt.subplots(1, 3, sharey=True)\n",
        "for x in ['LR','CF-DML','NP-DML']:\n",
        "  df_plot = M2_result[M2_result.alg== x]\n",
        "  # Plot the lines in the left subplot\n",
        "  for lower, upper, y in zip(df_plot['LB'], df_plot['UB'], range(len(df_plot))):\n",
        "      axes[i].plot((lower, upper), (y, y), '-', color='black', linewidth=0.75)\n",
        "\n",
        "  # Plot the dot plot in the right subplot\n",
        "  axes[i].plot(df_plot[\"value\"], df_plot[\"Population\"], 's', markersize=8, markeredgecolor='grey', markerfacecolor='grey')\n",
        "\n",
        "  # Label the axes\n",
        "  axes[i].set_xlabel(\"ATE with 95% CI\")\n",
        "\n",
        "  axes[i].set_xlabel(\"ATE with 95% CI\")\n",
        "\n",
        "  axes[i].set_title('Algorithm:'+ x, fontsize=10)\n",
        "\n",
        "  #axes[i].set\n",
        "  axes[i].axvline(0, color='black', linewidth=0.7)\n",
        "\n",
        "  axes[i].set_xlim(-0.6,0.1)\n",
        "  # Show the plot\n",
        "  i = i+1\n",
        "\n",
        "axes[0].set_ylabel(\"Patient Population\")\n",
        "\n",
        "plt.suptitle(\"Treatment: median MP \", fontsize=12, fontweight='bold')\n",
        "#plt.tight_layout()\n",
        "plt.show()"
      ]
    },
    {
      "cell_type": "markdown",
      "metadata": {
        "id": "dG7Ux01yqEBd"
      },
      "source": [
        "## Model 3 Max MP"
      ]
    },
    {
      "cell_type": "code",
      "execution_count": null,
      "metadata": {
        "id": "YAK2wbXaqEBd"
      },
      "outputs": [],
      "source": [
        "out_var = 'max'\n",
        "\n",
        "df_mean_cummp = pd.merge(df_mean.drop('MP',axis=1).reset_index(),MP_sum[['admissionid','MP_'+out_var]],how='left',on='admissionid')\n",
        "df_mean_cummp['MP_'+out_var] = MP_sum['MP_'+out_var]\n",
        "\n",
        "df_mean_cummp.dropna(inplace=True)\n",
        "len(df_mean_cummp)"
      ]
    },
    {
      "cell_type": "code",
      "execution_count": null,
      "metadata": {
        "id": "PyQ_mIcEFbfK"
      },
      "outputs": [],
      "source": [
        "data = df_mean_cummp.drop(['tube'],axis=1)\n",
        "treatment = 'MP_'+out_var\n",
        "outcome = 'VFDs'\n",
        "DAG = DAG_base.replace('MP',treatment)\n",
        "\n",
        "M3_result  = do_causal(dag=DAG, data=data,treatment=treatment,outcome=outcome)"
      ]
    },
    {
      "cell_type": "code",
      "execution_count": null,
      "metadata": {
        "id": "pzYC-3z-Szb0"
      },
      "outputs": [],
      "source": [
        "for x in adm_reasonlist:\n",
        "  print('------Patient Population-----------')\n",
        "  print(x)\n",
        "  data = df_mean_cummp[df_mean_cummp[x] == 1].drop('tube',axis=1)\n",
        "\n",
        "  result_ = pd.DataFrame()\n",
        "  result_ = do_causal(dag=DAG_max, data=data,treatment=treatment,outcome=outcome)\n",
        "  result_['Population'] = x\n",
        "  M3_result = pd.concat([M3_result,result_])\n",
        "  print(M3_result)"
      ]
    },
    {
      "cell_type": "markdown",
      "metadata": {
        "id": "cPXzSdQMTHl5"
      },
      "source": [
        "### Patient group result"
      ]
    },
    {
      "cell_type": "code",
      "execution_count": null,
      "metadata": {
        "id": "j1xwnaaMTBvX"
      },
      "outputs": [],
      "source": [
        "M3_result"
      ]
    },
    {
      "cell_type": "markdown",
      "metadata": {
        "id": "j-c5pZ0CqiY_"
      },
      "source": [
        "### Plot"
      ]
    },
    {
      "cell_type": "code",
      "execution_count": null,
      "metadata": {
        "id": "tUfvPN64ht6a"
      },
      "outputs": [],
      "source": [
        "M3_result.loc[M3_result['Population'].isnull()==True,'Population'] = 'base'\n",
        "i = 0\n",
        "fig, axes = plt.subplots(1, 3, sharey=True)\n",
        "for x in ['LR','CF-DML','NP-DML']:\n",
        "  df_plot = M3_result[M3_result.alg== x]\n",
        "  # Plot the lines in the left subplot\n",
        "  for lower, upper, y in zip(df_plot['LB'], df_plot['UB'], range(len(df_plot))):\n",
        "      axes[i].plot((lower, upper), (y, y), '-', color='black', linewidth=0.75)\n",
        "\n",
        "  # Plot the dot plot in the right subplot\n",
        "  axes[i].plot(df_plot[\"value\"], df_plot[\"Population\"], 's', markersize=8, markeredgecolor='grey', markerfacecolor='grey')\n",
        "\n",
        "  # Label the axes\n",
        "  axes[i].set_xlabel(\"ATE with 95% CI\")\n",
        "\n",
        "  axes[i].set_xlabel(\"ATE with 95% CI\")\n",
        "\n",
        "  axes[i].set_title('Algorithm:'+ x, fontsize=10)\n",
        "\n",
        "  axes[i].axvline(0, color='black', linewidth=0.7)\n",
        "\n",
        "  axes[i].set_xlim(-0.5,0.5)\n",
        "  # Show the plot\n",
        "  i = i+1\n",
        "\n",
        "axes[0].set_ylabel(\"Patient Population\")\n",
        "plt.suptitle(\"Treatment: max MP \", fontsize=12, fontweight='bold')\n",
        "\n",
        "#plt.tight_layout()\n",
        "plt.show()"
      ]
    },
    {
      "cell_type": "markdown",
      "metadata": {
        "id": "Nn4RWERmMwI6"
      },
      "source": [
        "## Model 4 Min MP"
      ]
    },
    {
      "cell_type": "code",
      "execution_count": null,
      "metadata": {
        "id": "XEq_CaK5MwJD"
      },
      "outputs": [],
      "source": [
        "#df_mean_cummp = df_mean.reset_index(drop=1).drop('MP',axis=1)\n",
        "out_var = 'min'\n",
        "\n",
        "df_mean_cummp = pd.merge(df_mean.drop('MP',axis=1).reset_index(),MP_sum[['admissionid','MP_'+out_var]],how='left',on='admissionid')\n",
        "\n",
        "df_mean_cummp['MP'+out_var] = MP_sum['MP_']+out_var"
      ]
    },
    {
      "cell_type": "code",
      "execution_count": null,
      "metadata": {
        "id": "XYad9TIHMwJE"
      },
      "outputs": [],
      "source": [
        "df_mean_cummp.dropna(inplace=True)"
      ]
    },
    {
      "cell_type": "code",
      "execution_count": null,
      "metadata": {
        "id": "6HFTHW09MwJE"
      },
      "outputs": [],
      "source": [
        "data = df_mean_cummp.drop(['tube'],axis=1)\n",
        "treatment = 'MP_min'\n",
        "outcome = 'VFDs'\n",
        "DAG = DAG_base.replace('MP',treatment)\n",
        "\n",
        "M4_result  = do_causal(dag=DAG, data=data,treatment=treatment,outcome=outcome)"
      ]
    },
    {
      "cell_type": "code",
      "execution_count": null,
      "metadata": {
        "id": "lHduE9SOMwJF"
      },
      "outputs": [],
      "source": [
        "M4_result['Population'] = 'Base'\n",
        "\n",
        "for x in adm_reasonlist:\n",
        "  print('------Patient Population-----------')\n",
        "  print(x)\n",
        "  data = df_mean_cummp[df_mean_cummp[x] == 1].drop('tube',axis=1)\n",
        "\n",
        "  result_ = pd.DataFrame()\n",
        "  result_ = do_causal(dag=DAG_min, data=data,treatment=treatment,outcome=outcome)\n",
        "  result_['Population'] = x\n",
        "  M4_result = pd.concat([M4_result,result_])\n",
        "  print(M3_result)"
      ]
    },
    {
      "cell_type": "markdown",
      "metadata": {
        "id": "Jh0YYGxqMwJE"
      },
      "source": [
        "### Patient group result"
      ]
    },
    {
      "cell_type": "code",
      "execution_count": null,
      "metadata": {
        "id": "rt038vNGMwJF"
      },
      "outputs": [],
      "source": [
        "M4_result"
      ]
    },
    {
      "cell_type": "markdown",
      "metadata": {
        "id": "zX4b6UYRq9AF"
      },
      "source": [
        "### Plot"
      ]
    },
    {
      "cell_type": "code",
      "execution_count": null,
      "metadata": {
        "id": "7CnrJbZ0MwJF"
      },
      "outputs": [],
      "source": [
        "#M4_result.loc[M3_result['Population'].isnull()==True,'Population'] = 'base'\n",
        "i = 0\n",
        "fig, axes = plt.subplots(1, 3, sharey=True)\n",
        "for x in ['LR','CF-DML','NP-DML']:\n",
        "  df_plot = M4_result[M4_result.alg== x]\n",
        "  # Plot the lines in the left subplot\n",
        "  for lower, upper, y in zip(df_plot['LB'], df_plot['UB'], range(len(df_plot))):\n",
        "      axes[i].plot((lower, upper), (y, y), '-', color='black', linewidth=0.75)\n",
        "\n",
        "  # Plot the dot plot in the right subplot\n",
        "  axes[i].plot(df_plot[\"value\"], df_plot[\"Population\"], 's', markersize=8, markeredgecolor='grey', markerfacecolor='grey')\n",
        "\n",
        "  # Label the axes\n",
        "  axes[i].set_xlabel(\"ATE with 95% CI\")\n",
        "\n",
        "  axes[i].set_xlabel(\"ATE with 95% CI\")\n",
        "\n",
        "  axes[i].set_title('Algorithm:'+ x, fontsize=10)\n",
        "\n",
        "  axes[i].axvline(0, color='black', linewidth=0.7)\n",
        "\n",
        "  axes[i].set_xlim(-0.3,0.5)\n",
        "\n",
        "  # Show the plot\n",
        "  i = i+1\n",
        "\n",
        "axes[0].set_ylabel(\"Patient Population\")\n",
        "plt.suptitle(\"Treatment: min MP \", fontsize=12, fontweight='bold')\n",
        "\n",
        "#plt.tight_layout()\n",
        "plt.show()"
      ]
    },
    {
      "cell_type": "markdown",
      "metadata": {
        "id": "4AHIa4NwXrmL"
      },
      "source": []
    },
    {
      "cell_type": "markdown",
      "metadata": {
        "id": "NyfoMhqIbJXj"
      },
      "source": [
        "## Export result"
      ]
    },
    {
      "cell_type": "code",
      "execution_count": null,
      "metadata": {
        "id": "Tjlk2zHHbIyk"
      },
      "outputs": [],
      "source": [
        "M1_result.to_csv('/content/drive/MyDrive/datathon23/outputs/MP_mean.csv')\n",
        "M2_result.to_csv('/content/drive/MyDrive/datathon23/outputs/MP_median.csv')\n",
        "M3_result.to_csv('/content/drive/MyDrive/datathon23/outputs/MP_max.csv')\n",
        "M4_result.to_csv('/content/drive/MyDrive/datathon23/outputs/MP_min.csv')"
      ]
    },
    {
      "cell_type": "code",
      "execution_count": null,
      "metadata": {
        "id": "_wzCxQbQF2oX"
      },
      "outputs": [],
      "source": [
        "print('Cumulative MP:',result_c2,result_m2)\n",
        "print('Max MP:',result_c3,result_m3)\n"
      ]
    },
    {
      "cell_type": "markdown",
      "metadata": {
        "id": "e1nJNM5NGcQd"
      },
      "source": [
        "## Outcome 1 Summary: Export and Plot"
      ]
    },
    {
      "cell_type": "code",
      "execution_count": null,
      "metadata": {
        "id": "okou7w1cGbxP"
      },
      "outputs": [],
      "source": [
        "M1_result= pd.read_csv('/content/drive/MyDrive/datathon23/outputs/MP_mean.csv')\n",
        "M2_result= pd.read_csv('/content/drive/MyDrive/datathon23/outputs/MP_median.csv')\n",
        "M3_result= pd.read_csv('/content/drive/MyDrive/datathon23/outputs/MP_max.csv')\n",
        "M4_result= pd.read_csv('/content/drive/MyDrive/datathon23/outputs/MP_min.csv')"
      ]
    },
    {
      "cell_type": "code",
      "execution_count": null,
      "metadata": {
        "id": "K6eJq5qOIhGI"
      },
      "outputs": [],
      "source": [
        "adm_reasonlist2 = list(int_h.index)+['base']"
      ]
    },
    {
      "cell_type": "code",
      "execution_count": null,
      "metadata": {
        "id": "p-IDE1wAJ7Cp"
      },
      "outputs": [],
      "source": [
        "def sort_population(df):\n",
        "  df = df.set_index('Population')\n",
        "  df.index = adm_reasonlist2\n",
        "  df.rename_index\n",
        "  return df"
      ]
    },
    {
      "cell_type": "code",
      "execution_count": null,
      "metadata": {
        "id": "dkskerL8Gxdv"
      },
      "outputs": [],
      "source": [
        "import matplotlib.pyplot as plt\n",
        "import seaborn as sns\n",
        "\n",
        "#row, col = 0, 0\n",
        "\n",
        "fig, axes = plt.subplots(3, 3, sharey=True, figsize=[10,10])\n",
        "for row, df_out_var in enumerate([M2_result,M3_result,M4_result]):\n",
        "  #col =0\n",
        "\n",
        "  for col, alg in enumerate(['LR','CF-DML','NP-DML']):\n",
        "\n",
        "    df_plot = df_out_var[df_out_var.alg== alg]  #check algorithm\n",
        "    df_plot = sort_population(df_plot)  #check\n",
        "\n",
        "    for lower, upper, y in zip(df_plot['LB'], df_plot['UB'], range(len(df_plot))):\n",
        "        axes[row,col].plot((lower, upper), (y, y), '-', color='black', linewidth=0.75)\n",
        "\n",
        "    axes[row,col].plot(df_plot[\"value\"], df_plot.index, 's', markersize=3, markeredgecolor='grey', markerfacecolor='grey')\n",
        "\n",
        "    # Label the axes\n",
        "    if row ==0:\n",
        "      axes[0,col].set_title('Algorithm:'+ alg, fontsize=10)\n",
        "\n",
        "    if row == 2:\n",
        "      axes[2,col].set_xlabel('ATE with 95%CI')\n",
        "\n",
        "    axes[row,col].axvline(0, color='black', linewidth=0.7)\n",
        "    axes[row,col].set_xlim(-0.5,0.3)\n",
        "\n",
        "axes[0,0].set_ylabel('(A) Median MP', fontsize=12,fontweight='bold')\n",
        "axes[1,0].set_ylabel('(B) Max MP', fontsize=12,fontweight='bold')\n",
        "axes[2,0].set_ylabel('(C) Min MP', fontsize=12,fontweight='bold')\n",
        "\n",
        "plt.suptitle(\"Treatment: Mechanical Power (MP) \", fontsize=12, fontweight='bold')\n",
        "\n",
        "#plt.tight_layout()\n",
        "plt.show()"
      ]
    },
    {
      "cell_type": "markdown",
      "metadata": {
        "id": "GnTt9Td32aNo"
      },
      "source": [
        "# PFR as outcome\n"
      ]
    },
    {
      "cell_type": "code",
      "execution_count": null,
      "metadata": {
        "id": "KamCx9_G2aNo"
      },
      "outputs": [],
      "source": [
        "df_PFR = df_PFR.dropna()"
      ]
    },
    {
      "cell_type": "code",
      "execution_count": null,
      "metadata": {
        "id": "5fbK8jj0LX0K"
      },
      "outputs": [],
      "source": [
        "df_PFR[df_PFR['admissionid']==6]"
      ]
    },
    {
      "cell_type": "code",
      "execution_count": null,
      "metadata": {
        "id": "dd_WayUfFqPy"
      },
      "outputs": [],
      "source": [
        "combine_list.insert(-1,'PFR')"
      ]
    },
    {
      "cell_type": "code",
      "execution_count": null,
      "metadata": {
        "id": "bJzH7IDnBTht"
      },
      "outputs": [],
      "source": [
        "df_PFR_analysis = df_PFR[combine_list]\n",
        "\n",
        "df_PFR_analysis"
      ]
    },
    {
      "cell_type": "code",
      "execution_count": null,
      "metadata": {
        "id": "fe4icXGh2aNo"
      },
      "outputs": [],
      "source": [
        "sns.distplot(df_PFR_analysis['PFR'],bins=50)\n"
      ]
    },
    {
      "cell_type": "code",
      "execution_count": null,
      "metadata": {
        "id": "dirBlyd52aNo"
      },
      "outputs": [],
      "source": [
        "from dowhy import CausalModel\n",
        "\n",
        "var = 'MP'\n",
        "#var_list[-1] = var\n",
        "\n",
        "# Create a causal model\n",
        "dot_graph = 'digraph {' + ' -> PFR; '.join(var_list) + ' -> PFR; ' + f' ->  {var} ; '''.join(var2_list) + ' -> MP}'\n",
        "\n",
        "model = CausalModel(\n",
        "    data=df_PFR_analysis,\n",
        "    treatment=var,\n",
        "    outcome=\"PFR\",\n",
        "    graph=dot_graph,\n",
        ")\n",
        "\n",
        "# Identify the causal effect\n",
        "identified_estimand = model.identify_effect(proceed_when_unidentifiable=True)\n",
        "identifier_name = identified_estimand.estimands\n",
        "model.view_model()"
      ]
    },
    {
      "cell_type": "code",
      "execution_count": null,
      "metadata": {
        "id": "zwZtNAvw2aNo"
      },
      "outputs": [],
      "source": [
        "identified_estimand = model.identify_effect()\n",
        "print(identified_estimand)"
      ]
    },
    {
      "cell_type": "code",
      "execution_count": null,
      "metadata": {
        "id": "pwbIDQnz2aNo"
      },
      "outputs": [],
      "source": [
        "causal_estimate = model.estimate_effect(identified_estimand,\n",
        "        method_name=\"backdoor.linear_regression\",\n",
        "        confidence_intervals =True)\n",
        "print(causal_estimate)\n",
        "print(\"Causal Estimate is \" + str(causal_estimate.value))"
      ]
    },
    {
      "cell_type": "markdown",
      "metadata": {
        "id": "BDnWKE-xObtk"
      },
      "source": [
        "# Demo"
      ]
    }
  ],
  "metadata": {
    "colab": {
      "collapsed_sections": [
        "a-78-Xkxpl5D",
        "GnTt9Td32aNo"
      ],
      "provenance": []
    },
    "kernelspec": {
      "display_name": "Python 3",
      "name": "python3"
    },
    "language_info": {
      "name": "python"
    }
  },
  "nbformat": 4,
  "nbformat_minor": 0
}